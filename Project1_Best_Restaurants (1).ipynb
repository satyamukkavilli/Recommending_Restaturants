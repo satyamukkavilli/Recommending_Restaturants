{
 "cells": [
  {
   "cell_type": "code",
   "execution_count": 1,
   "metadata": {},
   "outputs": [],
   "source": [
    "import pandas\n",
    "import math\n",
    "import numpy as np\n",
    "import matplotlib.pyplot as plt\n",
    "%matplotlib inline\n",
    "import seaborn as sns\n",
    " "
   ]
  },
  {
   "cell_type": "code",
   "execution_count": 2,
   "metadata": {
    "scrolled": false
   },
   "outputs": [
    {
     "data": {
      "text/html": [
       "<div>\n",
       "<style scoped>\n",
       "    .dataframe tbody tr th:only-of-type {\n",
       "        vertical-align: middle;\n",
       "    }\n",
       "\n",
       "    .dataframe tbody tr th {\n",
       "        vertical-align: top;\n",
       "    }\n",
       "\n",
       "    .dataframe thead th {\n",
       "        text-align: right;\n",
       "    }\n",
       "</style>\n",
       "<table border=\"1\" class=\"dataframe\">\n",
       "  <thead>\n",
       "    <tr style=\"text-align: right;\">\n",
       "      <th></th>\n",
       "      <th>Restaurant ID</th>\n",
       "      <th>Restaurant Name</th>\n",
       "      <th>Country Code</th>\n",
       "      <th>City</th>\n",
       "      <th>Address</th>\n",
       "      <th>Locality</th>\n",
       "      <th>Locality Verbose</th>\n",
       "      <th>Longitude</th>\n",
       "      <th>Latitude</th>\n",
       "      <th>Cuisines</th>\n",
       "      <th>Average Cost for two</th>\n",
       "      <th>Currency</th>\n",
       "      <th>Has Table booking</th>\n",
       "      <th>Has Online delivery</th>\n",
       "      <th>Price range</th>\n",
       "      <th>Aggregate rating</th>\n",
       "      <th>Rating color</th>\n",
       "      <th>Rating text</th>\n",
       "      <th>Votes</th>\n",
       "    </tr>\n",
       "  </thead>\n",
       "  <tbody>\n",
       "    <tr>\n",
       "      <th>0</th>\n",
       "      <td>7402935</td>\n",
       "      <td>Skye</td>\n",
       "      <td>94</td>\n",
       "      <td>Jakarta</td>\n",
       "      <td>Menara BCA, Lantai 56, Jl. MH. Thamrin, Thamri...</td>\n",
       "      <td>Grand Indonesia Mall, Thamrin</td>\n",
       "      <td>Grand Indonesia Mall, Thamrin, Jakarta</td>\n",
       "      <td>106.821999</td>\n",
       "      <td>-6.196778</td>\n",
       "      <td>Italian, Continental</td>\n",
       "      <td>800000</td>\n",
       "      <td>Indonesian Rupiah(IDR)</td>\n",
       "      <td>No</td>\n",
       "      <td>No</td>\n",
       "      <td>3</td>\n",
       "      <td>4.1</td>\n",
       "      <td>Green</td>\n",
       "      <td>Very Good</td>\n",
       "      <td>1498</td>\n",
       "    </tr>\n",
       "    <tr>\n",
       "      <th>1</th>\n",
       "      <td>7410290</td>\n",
       "      <td>Satoo - Hotel Shangri-La</td>\n",
       "      <td>94</td>\n",
       "      <td>Jakarta</td>\n",
       "      <td>Hotel Shangri-La, Jl. Jend. Sudirman</td>\n",
       "      <td>Hotel Shangri-La, Sudirman</td>\n",
       "      <td>Hotel Shangri-La, Sudirman, Jakarta</td>\n",
       "      <td>106.818961</td>\n",
       "      <td>-6.203292</td>\n",
       "      <td>Asian, Indonesian, Western</td>\n",
       "      <td>800000</td>\n",
       "      <td>Indonesian Rupiah(IDR)</td>\n",
       "      <td>No</td>\n",
       "      <td>No</td>\n",
       "      <td>3</td>\n",
       "      <td>4.6</td>\n",
       "      <td>Dark Green</td>\n",
       "      <td>Excellent</td>\n",
       "      <td>873</td>\n",
       "    </tr>\n",
       "    <tr>\n",
       "      <th>2</th>\n",
       "      <td>7420899</td>\n",
       "      <td>Sushi Masa</td>\n",
       "      <td>94</td>\n",
       "      <td>Jakarta</td>\n",
       "      <td>Jl. Tuna Raya No. 5, Penjaringan</td>\n",
       "      <td>Penjaringan</td>\n",
       "      <td>Penjaringan, Jakarta</td>\n",
       "      <td>106.800144</td>\n",
       "      <td>-6.101298</td>\n",
       "      <td>Sushi, Japanese</td>\n",
       "      <td>500000</td>\n",
       "      <td>Indonesian Rupiah(IDR)</td>\n",
       "      <td>No</td>\n",
       "      <td>No</td>\n",
       "      <td>3</td>\n",
       "      <td>4.9</td>\n",
       "      <td>Dark Green</td>\n",
       "      <td>Excellent</td>\n",
       "      <td>605</td>\n",
       "    </tr>\n",
       "    <tr>\n",
       "      <th>3</th>\n",
       "      <td>7421967</td>\n",
       "      <td>3 Wise Monkeys</td>\n",
       "      <td>94</td>\n",
       "      <td>Jakarta</td>\n",
       "      <td>Jl. Suryo No. 26, Senopati, Jakarta</td>\n",
       "      <td>Senopati</td>\n",
       "      <td>Senopati, Jakarta</td>\n",
       "      <td>106.813400</td>\n",
       "      <td>-6.235241</td>\n",
       "      <td>Japanese</td>\n",
       "      <td>450000</td>\n",
       "      <td>Indonesian Rupiah(IDR)</td>\n",
       "      <td>No</td>\n",
       "      <td>No</td>\n",
       "      <td>3</td>\n",
       "      <td>4.2</td>\n",
       "      <td>Green</td>\n",
       "      <td>Very Good</td>\n",
       "      <td>395</td>\n",
       "    </tr>\n",
       "    <tr>\n",
       "      <th>4</th>\n",
       "      <td>7422489</td>\n",
       "      <td>Avec Moi Restaurant and Bar</td>\n",
       "      <td>94</td>\n",
       "      <td>Jakarta</td>\n",
       "      <td>Gedung PIC, Jl. Teluk Betung 43, Thamrin, Jakarta</td>\n",
       "      <td>Thamrin</td>\n",
       "      <td>Thamrin, Jakarta</td>\n",
       "      <td>106.821023</td>\n",
       "      <td>-6.196270</td>\n",
       "      <td>French, Western</td>\n",
       "      <td>350000</td>\n",
       "      <td>Indonesian Rupiah(IDR)</td>\n",
       "      <td>No</td>\n",
       "      <td>No</td>\n",
       "      <td>3</td>\n",
       "      <td>4.3</td>\n",
       "      <td>Green</td>\n",
       "      <td>Very Good</td>\n",
       "      <td>243</td>\n",
       "    </tr>\n",
       "  </tbody>\n",
       "</table>\n",
       "</div>"
      ],
      "text/plain": [
       "   Restaurant ID              Restaurant Name  Country Code     City  \\\n",
       "0        7402935                         Skye            94  Jakarta   \n",
       "1        7410290     Satoo - Hotel Shangri-La            94  Jakarta   \n",
       "2        7420899                   Sushi Masa            94  Jakarta   \n",
       "3        7421967               3 Wise Monkeys            94  Jakarta   \n",
       "4        7422489  Avec Moi Restaurant and Bar            94  Jakarta   \n",
       "\n",
       "                                             Address  \\\n",
       "0  Menara BCA, Lantai 56, Jl. MH. Thamrin, Thamri...   \n",
       "1               Hotel Shangri-La, Jl. Jend. Sudirman   \n",
       "2                   Jl. Tuna Raya No. 5, Penjaringan   \n",
       "3                Jl. Suryo No. 26, Senopati, Jakarta   \n",
       "4  Gedung PIC, Jl. Teluk Betung 43, Thamrin, Jakarta   \n",
       "\n",
       "                        Locality                        Locality Verbose  \\\n",
       "0  Grand Indonesia Mall, Thamrin  Grand Indonesia Mall, Thamrin, Jakarta   \n",
       "1     Hotel Shangri-La, Sudirman     Hotel Shangri-La, Sudirman, Jakarta   \n",
       "2                    Penjaringan                    Penjaringan, Jakarta   \n",
       "3                       Senopati                       Senopati, Jakarta   \n",
       "4                        Thamrin                        Thamrin, Jakarta   \n",
       "\n",
       "    Longitude  Latitude                    Cuisines  Average Cost for two  \\\n",
       "0  106.821999 -6.196778        Italian, Continental                800000   \n",
       "1  106.818961 -6.203292  Asian, Indonesian, Western                800000   \n",
       "2  106.800144 -6.101298             Sushi, Japanese                500000   \n",
       "3  106.813400 -6.235241                    Japanese                450000   \n",
       "4  106.821023 -6.196270             French, Western                350000   \n",
       "\n",
       "                 Currency Has Table booking Has Online delivery  Price range  \\\n",
       "0  Indonesian Rupiah(IDR)                No                  No            3   \n",
       "1  Indonesian Rupiah(IDR)                No                  No            3   \n",
       "2  Indonesian Rupiah(IDR)                No                  No            3   \n",
       "3  Indonesian Rupiah(IDR)                No                  No            3   \n",
       "4  Indonesian Rupiah(IDR)                No                  No            3   \n",
       "\n",
       "   Aggregate rating Rating color Rating text  Votes  \n",
       "0               4.1        Green   Very Good   1498  \n",
       "1               4.6   Dark Green   Excellent    873  \n",
       "2               4.9   Dark Green   Excellent    605  \n",
       "3               4.2        Green   Very Good    395  \n",
       "4               4.3        Green   Very Good    243  "
      ]
     },
     "execution_count": 2,
     "metadata": {},
     "output_type": "execute_result"
    }
   ],
   "source": [
    "data = pandas.read_excel(\"C:\\\\Users\\\\nagas\\\\OneDrive\\\\Desktop\\\\Data_Best Restaurants.xlsx\")\n",
    "data.head()"
   ]
  },
  {
   "cell_type": "code",
   "execution_count": 3,
   "metadata": {},
   "outputs": [
    {
     "name": "stdout",
     "output_type": "stream",
     "text": [
      "<class 'pandas.core.frame.DataFrame'>\n",
      "RangeIndex: 9551 entries, 0 to 9550\n",
      "Data columns (total 19 columns):\n",
      " #   Column                Non-Null Count  Dtype  \n",
      "---  ------                --------------  -----  \n",
      " 0   Restaurant ID         9551 non-null   int64  \n",
      " 1   Restaurant Name       9550 non-null   object \n",
      " 2   Country Code          9551 non-null   int64  \n",
      " 3   City                  9551 non-null   object \n",
      " 4   Address               9551 non-null   object \n",
      " 5   Locality              9551 non-null   object \n",
      " 6   Locality Verbose      9551 non-null   object \n",
      " 7   Longitude             9551 non-null   float64\n",
      " 8   Latitude              9551 non-null   float64\n",
      " 9   Cuisines              9542 non-null   object \n",
      " 10  Average Cost for two  9551 non-null   int64  \n",
      " 11  Currency              9551 non-null   object \n",
      " 12  Has Table booking     9551 non-null   object \n",
      " 13  Has Online delivery   9551 non-null   object \n",
      " 14  Price range           9551 non-null   int64  \n",
      " 15  Aggregate rating      9551 non-null   float64\n",
      " 16  Rating color          9551 non-null   object \n",
      " 17  Rating text           9551 non-null   object \n",
      " 18  Votes                 9551 non-null   int64  \n",
      "dtypes: float64(3), int64(5), object(11)\n",
      "memory usage: 1.4+ MB\n"
     ]
    }
   ],
   "source": [
    "data.info()"
   ]
  },
  {
   "cell_type": "code",
   "execution_count": 4,
   "metadata": {},
   "outputs": [
    {
     "data": {
      "text/plain": [
       "Index(['Restaurant ID', 'Restaurant Name', 'Country Code', 'City', 'Address',\n",
       "       'Locality', 'Locality Verbose', 'Longitude', 'Latitude', 'Cuisines',\n",
       "       'Average Cost for two', 'Currency', 'Has Table booking',\n",
       "       'Has Online delivery', 'Price range', 'Aggregate rating',\n",
       "       'Rating color', 'Rating text', 'Votes'],\n",
       "      dtype='object')"
      ]
     },
     "execution_count": 4,
     "metadata": {},
     "output_type": "execute_result"
    }
   ],
   "source": [
    "#columns in our data\n",
    "data.columns"
   ]
  },
  {
   "cell_type": "code",
   "execution_count": 5,
   "metadata": {},
   "outputs": [
    {
     "data": {
      "text/html": [
       "<div>\n",
       "<style scoped>\n",
       "    .dataframe tbody tr th:only-of-type {\n",
       "        vertical-align: middle;\n",
       "    }\n",
       "\n",
       "    .dataframe tbody tr th {\n",
       "        vertical-align: top;\n",
       "    }\n",
       "\n",
       "    .dataframe thead th {\n",
       "        text-align: right;\n",
       "    }\n",
       "</style>\n",
       "<table border=\"1\" class=\"dataframe\">\n",
       "  <thead>\n",
       "    <tr style=\"text-align: right;\">\n",
       "      <th></th>\n",
       "      <th>Restaurant ID</th>\n",
       "      <th>Restaurant Name</th>\n",
       "      <th>Country Code</th>\n",
       "      <th>City</th>\n",
       "      <th>Address</th>\n",
       "      <th>Locality</th>\n",
       "      <th>Locality Verbose</th>\n",
       "      <th>Longitude</th>\n",
       "      <th>Latitude</th>\n",
       "      <th>Cuisines</th>\n",
       "      <th>Average Cost for two</th>\n",
       "      <th>Currency</th>\n",
       "      <th>Has Table booking</th>\n",
       "      <th>Has Online delivery</th>\n",
       "      <th>Price range</th>\n",
       "      <th>Aggregate rating</th>\n",
       "      <th>Rating color</th>\n",
       "      <th>Rating text</th>\n",
       "      <th>Votes</th>\n",
       "    </tr>\n",
       "  </thead>\n",
       "  <tbody>\n",
       "    <tr>\n",
       "      <th>0</th>\n",
       "      <td>False</td>\n",
       "      <td>False</td>\n",
       "      <td>False</td>\n",
       "      <td>False</td>\n",
       "      <td>False</td>\n",
       "      <td>False</td>\n",
       "      <td>False</td>\n",
       "      <td>False</td>\n",
       "      <td>False</td>\n",
       "      <td>False</td>\n",
       "      <td>False</td>\n",
       "      <td>False</td>\n",
       "      <td>False</td>\n",
       "      <td>False</td>\n",
       "      <td>False</td>\n",
       "      <td>False</td>\n",
       "      <td>False</td>\n",
       "      <td>False</td>\n",
       "      <td>False</td>\n",
       "    </tr>\n",
       "    <tr>\n",
       "      <th>1</th>\n",
       "      <td>False</td>\n",
       "      <td>False</td>\n",
       "      <td>False</td>\n",
       "      <td>False</td>\n",
       "      <td>False</td>\n",
       "      <td>False</td>\n",
       "      <td>False</td>\n",
       "      <td>False</td>\n",
       "      <td>False</td>\n",
       "      <td>False</td>\n",
       "      <td>False</td>\n",
       "      <td>False</td>\n",
       "      <td>False</td>\n",
       "      <td>False</td>\n",
       "      <td>False</td>\n",
       "      <td>False</td>\n",
       "      <td>False</td>\n",
       "      <td>False</td>\n",
       "      <td>False</td>\n",
       "    </tr>\n",
       "    <tr>\n",
       "      <th>2</th>\n",
       "      <td>False</td>\n",
       "      <td>False</td>\n",
       "      <td>False</td>\n",
       "      <td>False</td>\n",
       "      <td>False</td>\n",
       "      <td>False</td>\n",
       "      <td>False</td>\n",
       "      <td>False</td>\n",
       "      <td>False</td>\n",
       "      <td>False</td>\n",
       "      <td>False</td>\n",
       "      <td>False</td>\n",
       "      <td>False</td>\n",
       "      <td>False</td>\n",
       "      <td>False</td>\n",
       "      <td>False</td>\n",
       "      <td>False</td>\n",
       "      <td>False</td>\n",
       "      <td>False</td>\n",
       "    </tr>\n",
       "    <tr>\n",
       "      <th>3</th>\n",
       "      <td>False</td>\n",
       "      <td>False</td>\n",
       "      <td>False</td>\n",
       "      <td>False</td>\n",
       "      <td>False</td>\n",
       "      <td>False</td>\n",
       "      <td>False</td>\n",
       "      <td>False</td>\n",
       "      <td>False</td>\n",
       "      <td>False</td>\n",
       "      <td>False</td>\n",
       "      <td>False</td>\n",
       "      <td>False</td>\n",
       "      <td>False</td>\n",
       "      <td>False</td>\n",
       "      <td>False</td>\n",
       "      <td>False</td>\n",
       "      <td>False</td>\n",
       "      <td>False</td>\n",
       "    </tr>\n",
       "    <tr>\n",
       "      <th>4</th>\n",
       "      <td>False</td>\n",
       "      <td>False</td>\n",
       "      <td>False</td>\n",
       "      <td>False</td>\n",
       "      <td>False</td>\n",
       "      <td>False</td>\n",
       "      <td>False</td>\n",
       "      <td>False</td>\n",
       "      <td>False</td>\n",
       "      <td>False</td>\n",
       "      <td>False</td>\n",
       "      <td>False</td>\n",
       "      <td>False</td>\n",
       "      <td>False</td>\n",
       "      <td>False</td>\n",
       "      <td>False</td>\n",
       "      <td>False</td>\n",
       "      <td>False</td>\n",
       "      <td>False</td>\n",
       "    </tr>\n",
       "    <tr>\n",
       "      <th>...</th>\n",
       "      <td>...</td>\n",
       "      <td>...</td>\n",
       "      <td>...</td>\n",
       "      <td>...</td>\n",
       "      <td>...</td>\n",
       "      <td>...</td>\n",
       "      <td>...</td>\n",
       "      <td>...</td>\n",
       "      <td>...</td>\n",
       "      <td>...</td>\n",
       "      <td>...</td>\n",
       "      <td>...</td>\n",
       "      <td>...</td>\n",
       "      <td>...</td>\n",
       "      <td>...</td>\n",
       "      <td>...</td>\n",
       "      <td>...</td>\n",
       "      <td>...</td>\n",
       "      <td>...</td>\n",
       "    </tr>\n",
       "    <tr>\n",
       "      <th>9546</th>\n",
       "      <td>False</td>\n",
       "      <td>False</td>\n",
       "      <td>False</td>\n",
       "      <td>False</td>\n",
       "      <td>False</td>\n",
       "      <td>False</td>\n",
       "      <td>False</td>\n",
       "      <td>False</td>\n",
       "      <td>False</td>\n",
       "      <td>False</td>\n",
       "      <td>False</td>\n",
       "      <td>False</td>\n",
       "      <td>False</td>\n",
       "      <td>False</td>\n",
       "      <td>False</td>\n",
       "      <td>False</td>\n",
       "      <td>False</td>\n",
       "      <td>False</td>\n",
       "      <td>False</td>\n",
       "    </tr>\n",
       "    <tr>\n",
       "      <th>9547</th>\n",
       "      <td>False</td>\n",
       "      <td>False</td>\n",
       "      <td>False</td>\n",
       "      <td>False</td>\n",
       "      <td>False</td>\n",
       "      <td>False</td>\n",
       "      <td>False</td>\n",
       "      <td>False</td>\n",
       "      <td>False</td>\n",
       "      <td>False</td>\n",
       "      <td>False</td>\n",
       "      <td>False</td>\n",
       "      <td>False</td>\n",
       "      <td>False</td>\n",
       "      <td>False</td>\n",
       "      <td>False</td>\n",
       "      <td>False</td>\n",
       "      <td>False</td>\n",
       "      <td>False</td>\n",
       "    </tr>\n",
       "    <tr>\n",
       "      <th>9548</th>\n",
       "      <td>False</td>\n",
       "      <td>False</td>\n",
       "      <td>False</td>\n",
       "      <td>False</td>\n",
       "      <td>False</td>\n",
       "      <td>False</td>\n",
       "      <td>False</td>\n",
       "      <td>False</td>\n",
       "      <td>False</td>\n",
       "      <td>False</td>\n",
       "      <td>False</td>\n",
       "      <td>False</td>\n",
       "      <td>False</td>\n",
       "      <td>False</td>\n",
       "      <td>False</td>\n",
       "      <td>False</td>\n",
       "      <td>False</td>\n",
       "      <td>False</td>\n",
       "      <td>False</td>\n",
       "    </tr>\n",
       "    <tr>\n",
       "      <th>9549</th>\n",
       "      <td>False</td>\n",
       "      <td>False</td>\n",
       "      <td>False</td>\n",
       "      <td>False</td>\n",
       "      <td>False</td>\n",
       "      <td>False</td>\n",
       "      <td>False</td>\n",
       "      <td>False</td>\n",
       "      <td>False</td>\n",
       "      <td>False</td>\n",
       "      <td>False</td>\n",
       "      <td>False</td>\n",
       "      <td>False</td>\n",
       "      <td>False</td>\n",
       "      <td>False</td>\n",
       "      <td>False</td>\n",
       "      <td>False</td>\n",
       "      <td>False</td>\n",
       "      <td>False</td>\n",
       "    </tr>\n",
       "    <tr>\n",
       "      <th>9550</th>\n",
       "      <td>False</td>\n",
       "      <td>False</td>\n",
       "      <td>False</td>\n",
       "      <td>False</td>\n",
       "      <td>False</td>\n",
       "      <td>False</td>\n",
       "      <td>False</td>\n",
       "      <td>False</td>\n",
       "      <td>False</td>\n",
       "      <td>False</td>\n",
       "      <td>False</td>\n",
       "      <td>False</td>\n",
       "      <td>False</td>\n",
       "      <td>False</td>\n",
       "      <td>False</td>\n",
       "      <td>False</td>\n",
       "      <td>False</td>\n",
       "      <td>False</td>\n",
       "      <td>False</td>\n",
       "    </tr>\n",
       "  </tbody>\n",
       "</table>\n",
       "<p>9551 rows × 19 columns</p>\n",
       "</div>"
      ],
      "text/plain": [
       "      Restaurant ID  Restaurant Name  Country Code   City  Address  Locality  \\\n",
       "0             False            False         False  False    False     False   \n",
       "1             False            False         False  False    False     False   \n",
       "2             False            False         False  False    False     False   \n",
       "3             False            False         False  False    False     False   \n",
       "4             False            False         False  False    False     False   \n",
       "...             ...              ...           ...    ...      ...       ...   \n",
       "9546          False            False         False  False    False     False   \n",
       "9547          False            False         False  False    False     False   \n",
       "9548          False            False         False  False    False     False   \n",
       "9549          False            False         False  False    False     False   \n",
       "9550          False            False         False  False    False     False   \n",
       "\n",
       "      Locality Verbose  Longitude  Latitude  Cuisines  Average Cost for two  \\\n",
       "0                False      False     False     False                 False   \n",
       "1                False      False     False     False                 False   \n",
       "2                False      False     False     False                 False   \n",
       "3                False      False     False     False                 False   \n",
       "4                False      False     False     False                 False   \n",
       "...                ...        ...       ...       ...                   ...   \n",
       "9546             False      False     False     False                 False   \n",
       "9547             False      False     False     False                 False   \n",
       "9548             False      False     False     False                 False   \n",
       "9549             False      False     False     False                 False   \n",
       "9550             False      False     False     False                 False   \n",
       "\n",
       "      Currency  Has Table booking  Has Online delivery  Price range  \\\n",
       "0        False              False                False        False   \n",
       "1        False              False                False        False   \n",
       "2        False              False                False        False   \n",
       "3        False              False                False        False   \n",
       "4        False              False                False        False   \n",
       "...        ...                ...                  ...          ...   \n",
       "9546     False              False                False        False   \n",
       "9547     False              False                False        False   \n",
       "9548     False              False                False        False   \n",
       "9549     False              False                False        False   \n",
       "9550     False              False                False        False   \n",
       "\n",
       "      Aggregate rating  Rating color  Rating text  Votes  \n",
       "0                False         False        False  False  \n",
       "1                False         False        False  False  \n",
       "2                False         False        False  False  \n",
       "3                False         False        False  False  \n",
       "4                False         False        False  False  \n",
       "...                ...           ...          ...    ...  \n",
       "9546             False         False        False  False  \n",
       "9547             False         False        False  False  \n",
       "9548             False         False        False  False  \n",
       "9549             False         False        False  False  \n",
       "9550             False         False        False  False  \n",
       "\n",
       "[9551 rows x 19 columns]"
      ]
     },
     "execution_count": 5,
     "metadata": {},
     "output_type": "execute_result"
    }
   ],
   "source": [
    "# check if data has any null values\n",
    "data.isnull()"
   ]
  },
  {
   "cell_type": "code",
   "execution_count": 6,
   "metadata": {},
   "outputs": [
    {
     "data": {
      "text/plain": [
       "Restaurant ID           0\n",
       "Restaurant Name         1\n",
       "Country Code            0\n",
       "City                    0\n",
       "Address                 0\n",
       "Locality                0\n",
       "Locality Verbose        0\n",
       "Longitude               0\n",
       "Latitude                0\n",
       "Cuisines                9\n",
       "Average Cost for two    0\n",
       "Currency                0\n",
       "Has Table booking       0\n",
       "Has Online delivery     0\n",
       "Price range             0\n",
       "Aggregate rating        0\n",
       "Rating color            0\n",
       "Rating text             0\n",
       "Votes                   0\n",
       "dtype: int64"
      ]
     },
     "execution_count": 6,
     "metadata": {},
     "output_type": "execute_result"
    }
   ],
   "source": [
    "data.isnull().sum()"
   ]
  },
  {
   "cell_type": "code",
   "execution_count": 7,
   "metadata": {},
   "outputs": [],
   "source": [
    "null_columns=data.columns[data.isnull().any()]"
   ]
  },
  {
   "cell_type": "code",
   "execution_count": 8,
   "metadata": {},
   "outputs": [
    {
     "data": {
      "text/html": [
       "<div>\n",
       "<style scoped>\n",
       "    .dataframe tbody tr th:only-of-type {\n",
       "        vertical-align: middle;\n",
       "    }\n",
       "\n",
       "    .dataframe tbody tr th {\n",
       "        vertical-align: top;\n",
       "    }\n",
       "\n",
       "    .dataframe thead th {\n",
       "        text-align: right;\n",
       "    }\n",
       "</style>\n",
       "<table border=\"1\" class=\"dataframe\">\n",
       "  <thead>\n",
       "    <tr style=\"text-align: right;\">\n",
       "      <th></th>\n",
       "      <th>Restaurant Name</th>\n",
       "      <th>Cuisines</th>\n",
       "    </tr>\n",
       "  </thead>\n",
       "  <tbody>\n",
       "    <tr>\n",
       "      <th>1646</th>\n",
       "      <td>NaN</td>\n",
       "      <td>North Indian, Continental, Mexican, Italian</td>\n",
       "    </tr>\n",
       "    <tr>\n",
       "      <th>9083</th>\n",
       "      <td>Corkscrew Cafe</td>\n",
       "      <td>NaN</td>\n",
       "    </tr>\n",
       "    <tr>\n",
       "      <th>9086</th>\n",
       "      <td>Dovetail</td>\n",
       "      <td>NaN</td>\n",
       "    </tr>\n",
       "    <tr>\n",
       "      <th>9094</th>\n",
       "      <td>Hillstone</td>\n",
       "      <td>NaN</td>\n",
       "    </tr>\n",
       "    <tr>\n",
       "      <th>9406</th>\n",
       "      <td>Jimmie's Hot Dogs</td>\n",
       "      <td>NaN</td>\n",
       "    </tr>\n",
       "  </tbody>\n",
       "</table>\n",
       "</div>"
      ],
      "text/plain": [
       "        Restaurant Name                                     Cuisines\n",
       "1646                NaN  North Indian, Continental, Mexican, Italian\n",
       "9083     Corkscrew Cafe                                          NaN\n",
       "9086           Dovetail                                          NaN\n",
       "9094          Hillstone                                          NaN\n",
       "9406  Jimmie's Hot Dogs                                          NaN"
      ]
     },
     "execution_count": 8,
     "metadata": {},
     "output_type": "execute_result"
    }
   ],
   "source": [
    "data[data.isnull().any(axis=1)][null_columns].head()"
   ]
  },
  {
   "cell_type": "code",
   "execution_count": 9,
   "metadata": {},
   "outputs": [
    {
     "data": {
      "text/plain": [
       "Restaurant ID           0\n",
       "Restaurant Name         0\n",
       "Country Code            0\n",
       "City                    0\n",
       "Address                 0\n",
       "Locality                0\n",
       "Locality Verbose        0\n",
       "Longitude               0\n",
       "Latitude                0\n",
       "Cuisines                0\n",
       "Average Cost for two    0\n",
       "Currency                0\n",
       "Has Table booking       0\n",
       "Has Online delivery     0\n",
       "Price range             0\n",
       "Aggregate rating        0\n",
       "Rating color            0\n",
       "Rating text             0\n",
       "Votes                   0\n",
       "dtype: int64"
      ]
     },
     "execution_count": 9,
     "metadata": {},
     "output_type": "execute_result"
    }
   ],
   "source": [
    "# we can see that Restaurant column has a null value\n",
    "# It has only one null value so i am going to remove that row from the data\n",
    "data.dropna(axis=0,inplace=True)\n",
    "data.isnull().sum()"
   ]
  },
  {
   "cell_type": "code",
   "execution_count": 10,
   "metadata": {},
   "outputs": [
    {
     "name": "stdout",
     "output_type": "stream",
     "text": [
      "<class 'pandas.core.frame.DataFrame'>\n",
      "Int64Index: 9541 entries, 0 to 9550\n",
      "Data columns (total 19 columns):\n",
      " #   Column                Non-Null Count  Dtype  \n",
      "---  ------                --------------  -----  \n",
      " 0   Restaurant ID         9541 non-null   int64  \n",
      " 1   Restaurant Name       9541 non-null   object \n",
      " 2   Country Code          9541 non-null   int64  \n",
      " 3   City                  9541 non-null   object \n",
      " 4   Address               9541 non-null   object \n",
      " 5   Locality              9541 non-null   object \n",
      " 6   Locality Verbose      9541 non-null   object \n",
      " 7   Longitude             9541 non-null   float64\n",
      " 8   Latitude              9541 non-null   float64\n",
      " 9   Cuisines              9541 non-null   object \n",
      " 10  Average Cost for two  9541 non-null   int64  \n",
      " 11  Currency              9541 non-null   object \n",
      " 12  Has Table booking     9541 non-null   object \n",
      " 13  Has Online delivery   9541 non-null   object \n",
      " 14  Price range           9541 non-null   int64  \n",
      " 15  Aggregate rating      9541 non-null   float64\n",
      " 16  Rating color          9541 non-null   object \n",
      " 17  Rating text           9541 non-null   object \n",
      " 18  Votes                 9541 non-null   int64  \n",
      "dtypes: float64(3), int64(5), object(11)\n",
      "memory usage: 1.5+ MB\n"
     ]
    }
   ],
   "source": [
    "data.info()"
   ]
  },
  {
   "cell_type": "code",
   "execution_count": 11,
   "metadata": {},
   "outputs": [
    {
     "data": {
      "text/plain": [
       "Restaurant ID           0\n",
       "Restaurant Name         0\n",
       "Country Code            0\n",
       "City                    0\n",
       "Address                 0\n",
       "Locality                0\n",
       "Locality Verbose        0\n",
       "Longitude               0\n",
       "Latitude                0\n",
       "Cuisines                0\n",
       "Average Cost for two    0\n",
       "Currency                0\n",
       "Has Table booking       0\n",
       "Has Online delivery     0\n",
       "Price range             0\n",
       "Aggregate rating        0\n",
       "Rating color            0\n",
       "Rating text             0\n",
       "Votes                   0\n",
       "dtype: int64"
      ]
     },
     "execution_count": 11,
     "metadata": {},
     "output_type": "execute_result"
    }
   ],
   "source": [
    "data.isnull().sum()"
   ]
  },
  {
   "cell_type": "code",
   "execution_count": 12,
   "metadata": {},
   "outputs": [
    {
     "data": {
      "text/plain": [
       "0       False\n",
       "1       False\n",
       "2       False\n",
       "3       False\n",
       "4       False\n",
       "        ...  \n",
       "9546    False\n",
       "9547    False\n",
       "9548    False\n",
       "9549    False\n",
       "9550    False\n",
       "Length: 9541, dtype: bool"
      ]
     },
     "execution_count": 12,
     "metadata": {},
     "output_type": "execute_result"
    }
   ],
   "source": [
    "# finding duplicates on my data\n",
    "data.duplicated()"
   ]
  },
  {
   "cell_type": "code",
   "execution_count": 13,
   "metadata": {},
   "outputs": [
    {
     "data": {
      "text/plain": [
       "0"
      ]
     },
     "execution_count": 13,
     "metadata": {},
     "output_type": "execute_result"
    }
   ],
   "source": [
    "data.duplicated().sum()"
   ]
  },
  {
   "cell_type": "code",
   "execution_count": 14,
   "metadata": {},
   "outputs": [],
   "source": [
    "# As we can see there are no duplicates in the data.. so we can go forward with EDA of data.."
   ]
  },
  {
   "cell_type": "code",
   "execution_count": 15,
   "metadata": {},
   "outputs": [
    {
     "data": {
      "text/plain": [
       "array([ 7402935,  7410290,  7420899, ..., 18312106,  3900245, 18246202],\n",
       "      dtype=int64)"
      ]
     },
     "execution_count": 15,
     "metadata": {},
     "output_type": "execute_result"
    }
   ],
   "source": [
    "# Unique values in data Restaurant ID column\n",
    "\n",
    "data['Restaurant ID'].unique()"
   ]
  },
  {
   "cell_type": "code",
   "execution_count": 16,
   "metadata": {},
   "outputs": [
    {
     "data": {
      "text/plain": [
       "9541"
      ]
     },
     "execution_count": 16,
     "metadata": {},
     "output_type": "execute_result"
    }
   ],
   "source": [
    "# count of unique values in a column\n",
    "\n",
    "len(pandas.unique(data['Restaurant ID']))"
   ]
  },
  {
   "cell_type": "code",
   "execution_count": 17,
   "metadata": {},
   "outputs": [
    {
     "data": {
      "text/plain": [
       "15"
      ]
     },
     "execution_count": 17,
     "metadata": {},
     "output_type": "execute_result"
    }
   ],
   "source": [
    "# Count of Countries in our Data\n",
    "\n",
    "len(pandas.unique(data['Country Code']))"
   ]
  },
  {
   "cell_type": "code",
   "execution_count": 18,
   "metadata": {},
   "outputs": [],
   "source": [
    "# Explore the geographical distribution of the restaurants and \n",
    "# identify the cities with the maximum and minimum number of restaurants\n",
    " "
   ]
  },
  {
   "cell_type": "code",
   "execution_count": 19,
   "metadata": {},
   "outputs": [
    {
     "data": {
      "text/html": [
       "<div>\n",
       "<style scoped>\n",
       "    .dataframe tbody tr th:only-of-type {\n",
       "        vertical-align: middle;\n",
       "    }\n",
       "\n",
       "    .dataframe tbody tr th {\n",
       "        vertical-align: top;\n",
       "    }\n",
       "\n",
       "    .dataframe thead th {\n",
       "        text-align: right;\n",
       "    }\n",
       "</style>\n",
       "<table border=\"1\" class=\"dataframe\">\n",
       "  <thead>\n",
       "    <tr style=\"text-align: right;\">\n",
       "      <th></th>\n",
       "      <th>Restaurant ID</th>\n",
       "      <th>Restaurant Name</th>\n",
       "      <th>Country Code</th>\n",
       "      <th>City</th>\n",
       "      <th>Address</th>\n",
       "      <th>Locality</th>\n",
       "      <th>Locality Verbose</th>\n",
       "      <th>Longitude</th>\n",
       "      <th>Latitude</th>\n",
       "      <th>Cuisines</th>\n",
       "      <th>Average Cost for two</th>\n",
       "      <th>Currency</th>\n",
       "      <th>Has Table booking</th>\n",
       "      <th>Has Online delivery</th>\n",
       "      <th>Price range</th>\n",
       "      <th>Aggregate rating</th>\n",
       "      <th>Rating color</th>\n",
       "      <th>Rating text</th>\n",
       "      <th>Votes</th>\n",
       "      <th>Countries</th>\n",
       "    </tr>\n",
       "  </thead>\n",
       "  <tbody>\n",
       "    <tr>\n",
       "      <th>0</th>\n",
       "      <td>7402935</td>\n",
       "      <td>Skye</td>\n",
       "      <td>94</td>\n",
       "      <td>Jakarta</td>\n",
       "      <td>Menara BCA, Lantai 56, Jl. MH. Thamrin, Thamri...</td>\n",
       "      <td>Grand Indonesia Mall, Thamrin</td>\n",
       "      <td>Grand Indonesia Mall, Thamrin, Jakarta</td>\n",
       "      <td>106.821999</td>\n",
       "      <td>-6.196778</td>\n",
       "      <td>Italian, Continental</td>\n",
       "      <td>800000</td>\n",
       "      <td>Indonesian Rupiah(IDR)</td>\n",
       "      <td>No</td>\n",
       "      <td>No</td>\n",
       "      <td>3</td>\n",
       "      <td>4.1</td>\n",
       "      <td>Green</td>\n",
       "      <td>Very Good</td>\n",
       "      <td>1498</td>\n",
       "      <td>Indonesia</td>\n",
       "    </tr>\n",
       "    <tr>\n",
       "      <th>1</th>\n",
       "      <td>7410290</td>\n",
       "      <td>Satoo - Hotel Shangri-La</td>\n",
       "      <td>94</td>\n",
       "      <td>Jakarta</td>\n",
       "      <td>Hotel Shangri-La, Jl. Jend. Sudirman</td>\n",
       "      <td>Hotel Shangri-La, Sudirman</td>\n",
       "      <td>Hotel Shangri-La, Sudirman, Jakarta</td>\n",
       "      <td>106.818961</td>\n",
       "      <td>-6.203292</td>\n",
       "      <td>Asian, Indonesian, Western</td>\n",
       "      <td>800000</td>\n",
       "      <td>Indonesian Rupiah(IDR)</td>\n",
       "      <td>No</td>\n",
       "      <td>No</td>\n",
       "      <td>3</td>\n",
       "      <td>4.6</td>\n",
       "      <td>Dark Green</td>\n",
       "      <td>Excellent</td>\n",
       "      <td>873</td>\n",
       "      <td>Indonesia</td>\n",
       "    </tr>\n",
       "    <tr>\n",
       "      <th>2</th>\n",
       "      <td>7420899</td>\n",
       "      <td>Sushi Masa</td>\n",
       "      <td>94</td>\n",
       "      <td>Jakarta</td>\n",
       "      <td>Jl. Tuna Raya No. 5, Penjaringan</td>\n",
       "      <td>Penjaringan</td>\n",
       "      <td>Penjaringan, Jakarta</td>\n",
       "      <td>106.800144</td>\n",
       "      <td>-6.101298</td>\n",
       "      <td>Sushi, Japanese</td>\n",
       "      <td>500000</td>\n",
       "      <td>Indonesian Rupiah(IDR)</td>\n",
       "      <td>No</td>\n",
       "      <td>No</td>\n",
       "      <td>3</td>\n",
       "      <td>4.9</td>\n",
       "      <td>Dark Green</td>\n",
       "      <td>Excellent</td>\n",
       "      <td>605</td>\n",
       "      <td>Indonesia</td>\n",
       "    </tr>\n",
       "    <tr>\n",
       "      <th>3</th>\n",
       "      <td>7421967</td>\n",
       "      <td>3 Wise Monkeys</td>\n",
       "      <td>94</td>\n",
       "      <td>Jakarta</td>\n",
       "      <td>Jl. Suryo No. 26, Senopati, Jakarta</td>\n",
       "      <td>Senopati</td>\n",
       "      <td>Senopati, Jakarta</td>\n",
       "      <td>106.813400</td>\n",
       "      <td>-6.235241</td>\n",
       "      <td>Japanese</td>\n",
       "      <td>450000</td>\n",
       "      <td>Indonesian Rupiah(IDR)</td>\n",
       "      <td>No</td>\n",
       "      <td>No</td>\n",
       "      <td>3</td>\n",
       "      <td>4.2</td>\n",
       "      <td>Green</td>\n",
       "      <td>Very Good</td>\n",
       "      <td>395</td>\n",
       "      <td>Indonesia</td>\n",
       "    </tr>\n",
       "    <tr>\n",
       "      <th>4</th>\n",
       "      <td>7422489</td>\n",
       "      <td>Avec Moi Restaurant and Bar</td>\n",
       "      <td>94</td>\n",
       "      <td>Jakarta</td>\n",
       "      <td>Gedung PIC, Jl. Teluk Betung 43, Thamrin, Jakarta</td>\n",
       "      <td>Thamrin</td>\n",
       "      <td>Thamrin, Jakarta</td>\n",
       "      <td>106.821023</td>\n",
       "      <td>-6.196270</td>\n",
       "      <td>French, Western</td>\n",
       "      <td>350000</td>\n",
       "      <td>Indonesian Rupiah(IDR)</td>\n",
       "      <td>No</td>\n",
       "      <td>No</td>\n",
       "      <td>3</td>\n",
       "      <td>4.3</td>\n",
       "      <td>Green</td>\n",
       "      <td>Very Good</td>\n",
       "      <td>243</td>\n",
       "      <td>Indonesia</td>\n",
       "    </tr>\n",
       "  </tbody>\n",
       "</table>\n",
       "</div>"
      ],
      "text/plain": [
       "   Restaurant ID              Restaurant Name  Country Code     City  \\\n",
       "0        7402935                         Skye            94  Jakarta   \n",
       "1        7410290     Satoo - Hotel Shangri-La            94  Jakarta   \n",
       "2        7420899                   Sushi Masa            94  Jakarta   \n",
       "3        7421967               3 Wise Monkeys            94  Jakarta   \n",
       "4        7422489  Avec Moi Restaurant and Bar            94  Jakarta   \n",
       "\n",
       "                                             Address  \\\n",
       "0  Menara BCA, Lantai 56, Jl. MH. Thamrin, Thamri...   \n",
       "1               Hotel Shangri-La, Jl. Jend. Sudirman   \n",
       "2                   Jl. Tuna Raya No. 5, Penjaringan   \n",
       "3                Jl. Suryo No. 26, Senopati, Jakarta   \n",
       "4  Gedung PIC, Jl. Teluk Betung 43, Thamrin, Jakarta   \n",
       "\n",
       "                        Locality                        Locality Verbose  \\\n",
       "0  Grand Indonesia Mall, Thamrin  Grand Indonesia Mall, Thamrin, Jakarta   \n",
       "1     Hotel Shangri-La, Sudirman     Hotel Shangri-La, Sudirman, Jakarta   \n",
       "2                    Penjaringan                    Penjaringan, Jakarta   \n",
       "3                       Senopati                       Senopati, Jakarta   \n",
       "4                        Thamrin                        Thamrin, Jakarta   \n",
       "\n",
       "    Longitude  Latitude                    Cuisines  Average Cost for two  \\\n",
       "0  106.821999 -6.196778        Italian, Continental                800000   \n",
       "1  106.818961 -6.203292  Asian, Indonesian, Western                800000   \n",
       "2  106.800144 -6.101298             Sushi, Japanese                500000   \n",
       "3  106.813400 -6.235241                    Japanese                450000   \n",
       "4  106.821023 -6.196270             French, Western                350000   \n",
       "\n",
       "                 Currency Has Table booking Has Online delivery  Price range  \\\n",
       "0  Indonesian Rupiah(IDR)                No                  No            3   \n",
       "1  Indonesian Rupiah(IDR)                No                  No            3   \n",
       "2  Indonesian Rupiah(IDR)                No                  No            3   \n",
       "3  Indonesian Rupiah(IDR)                No                  No            3   \n",
       "4  Indonesian Rupiah(IDR)                No                  No            3   \n",
       "\n",
       "   Aggregate rating Rating color Rating text  Votes  Countries  \n",
       "0               4.1        Green   Very Good   1498  Indonesia  \n",
       "1               4.6   Dark Green   Excellent    873  Indonesia  \n",
       "2               4.9   Dark Green   Excellent    605  Indonesia  \n",
       "3               4.2        Green   Very Good    395  Indonesia  \n",
       "4               4.3        Green   Very Good    243  Indonesia  "
      ]
     },
     "execution_count": 19,
     "metadata": {},
     "output_type": "execute_result"
    }
   ],
   "source": [
    "# I want to add a column for Country names according to their codes.\n",
    "# I have a dataset  where i know the countries according to the codes..\n",
    "\n",
    "conditions = [\n",
    "    (data['Country Code']==1),\n",
    "    (data['Country Code']==14),\n",
    "    (data['Country Code']==30),\n",
    "    (data['Country Code']==37),\n",
    "    (data['Country Code'] ==94),\n",
    "    (data['Country Code']==148),\n",
    "    (data['Country Code']==162),\n",
    "    (data['Country Code']==166),\n",
    "    (data['Country Code']==184),\n",
    "    (data['Country Code']==189),\n",
    "    (data['Country Code']==191),\n",
    "    (data['Country Code']==208),\n",
    "    (data['Country Code']==214),\n",
    "    (data['Country Code']==215),\n",
    "    (data['Country Code']==216)\n",
    "]\n",
    "\n",
    "values = ['India','Australia','Brazil','Canada','Indonesia','Newzeland','Phillipines','Qatar','Singapore','South Africa','Sri Lanka'\n",
    "         ,'Turkey','UAE','United Kingdom','United States']\n",
    "\n",
    "data['Countries']=np.select(conditions,values)\n",
    "data.head()"
   ]
  },
  {
   "cell_type": "code",
   "execution_count": 20,
   "metadata": {},
   "outputs": [
    {
     "data": {
      "text/plain": [
       "Restaurant ID                                             18313013\n",
       "Restaurant Name                               The Grand Trunk Road\n",
       "Country Code                                                     1\n",
       "City                                                     Hyderabad\n",
       "Address                 16, Image Garden Road, Madhapur, Hyderabad\n",
       "Locality                                                  Madhapur\n",
       "Locality Verbose                               Madhapur, Hyderabad\n",
       "Longitude                                                  78.3859\n",
       "Latitude                                                    17.452\n",
       "Cuisines                                     North Indian, Chinese\n",
       "Average Cost for two                                          1100\n",
       "Currency                                        Indian Rupees(Rs.)\n",
       "Has Table booking                                               No\n",
       "Has Online delivery                                            Yes\n",
       "Price range                                                      3\n",
       "Aggregate rating                                               3.9\n",
       "Rating color                                                Yellow\n",
       "Rating text                                                   Good\n",
       "Votes                                                          616\n",
       "Countries                                                    India\n",
       "Name: 1111, dtype: object"
      ]
     },
     "execution_count": 20,
     "metadata": {},
     "output_type": "execute_result"
    }
   ],
   "source": [
    "data.iloc[1111]"
   ]
  },
  {
   "cell_type": "code",
   "execution_count": 21,
   "metadata": {},
   "outputs": [
    {
     "data": {
      "text/plain": [
       "India             8651\n",
       "United States      425\n",
       "United Kingdom      80\n",
       "South Africa        60\n",
       "Brazil              60\n",
       "UAE                 60\n",
       "Newzeland           40\n",
       "Turkey              34\n",
       "Australia           24\n",
       "Phillipines         22\n",
       "Indonesia           21\n",
       "Qatar               20\n",
       "Singapore           20\n",
       "Sri Lanka           20\n",
       "Canada               4\n",
       "Name: Countries, dtype: int64"
      ]
     },
     "execution_count": 21,
     "metadata": {},
     "output_type": "execute_result"
    }
   ],
   "source": [
    "data['Countries'].value_counts()"
   ]
  },
  {
   "cell_type": "code",
   "execution_count": 22,
   "metadata": {},
   "outputs": [
    {
     "data": {
      "text/plain": [
       "Cafe Coffee Day                                    83\n",
       "Domino's Pizza                                     79\n",
       "Subway                                             63\n",
       "Green Chick Chop                                   51\n",
       "McDonald's                                         48\n",
       "                                                   ..\n",
       "Khandani Pakodewala                                 1\n",
       "The Second Wife Kitchen                             1\n",
       "Wangchuk's Ladakhi Kitchen                          1\n",
       "Sanjha Chulah Babe Da                               1\n",
       "The Living Room - The Westin Sohna Resort & Spa     1\n",
       "Name: Restaurant Name, Length: 7436, dtype: int64"
      ]
     },
     "execution_count": 22,
     "metadata": {},
     "output_type": "execute_result"
    }
   ],
   "source": [
    "data['Restaurant Name'].value_counts()"
   ]
  },
  {
   "cell_type": "code",
   "execution_count": 23,
   "metadata": {},
   "outputs": [
    {
     "data": {
      "text/plain": [
       "([<matplotlib.axis.YTick at 0x16f95a73b50>,\n",
       "  <matplotlib.axis.YTick at 0x16f95a73730>,\n",
       "  <matplotlib.axis.YTick at 0x16f95c7d0d0>,\n",
       "  <matplotlib.axis.YTick at 0x16f95b86ca0>,\n",
       "  <matplotlib.axis.YTick at 0x16f95b8d1f0>,\n",
       "  <matplotlib.axis.YTick at 0x16f95b8d700>,\n",
       "  <matplotlib.axis.YTick at 0x16f95b8dc10>],\n",
       " [Text(0, 0, ''),\n",
       "  Text(0, 0, ''),\n",
       "  Text(0, 0, ''),\n",
       "  Text(0, 0, ''),\n",
       "  Text(0, 0, ''),\n",
       "  Text(0, 0, ''),\n",
       "  Text(0, 0, '')])"
      ]
     },
     "execution_count": 23,
     "metadata": {},
     "output_type": "execute_result"
    },
    {
     "data": {
      "image/png": "[encoded data removed]",
      "text/plain": [
       "<Figure size 720x576 with 1 Axes>"
      ]
     },
     "metadata": {
      "needs_background": "light"
     },
     "output_type": "display_data"
    }
   ],
   "source": [
    "data['Countries'].value_counts().plot(kind='bar',figsize=(10,8),color='coral',)\n",
    "plt.title(\"Restaurants Counts on countries\")\n",
    "plt.xlabel('Countries')\n",
    "plt.ylabel('Restaurant counts')\n",
    "plt.yticks([0,500,1000,2000,4000,6000,8000,])\n"
   ]
  },
  {
   "cell_type": "code",
   "execution_count": 24,
   "metadata": {},
   "outputs": [],
   "source": [
    "# As we can see from above the majority of the restaurants are in India, and then United States, and United Kingdom etc....\n",
    "# The least number of restuarants are in Canada.."
   ]
  },
  {
   "cell_type": "code",
   "execution_count": 25,
   "metadata": {},
   "outputs": [
    {
     "data": {
      "text/html": [
       "<div>\n",
       "<style scoped>\n",
       "    .dataframe tbody tr th:only-of-type {\n",
       "        vertical-align: middle;\n",
       "    }\n",
       "\n",
       "    .dataframe tbody tr th {\n",
       "        vertical-align: top;\n",
       "    }\n",
       "\n",
       "    .dataframe thead th {\n",
       "        text-align: right;\n",
       "    }\n",
       "</style>\n",
       "<table border=\"1\" class=\"dataframe\">\n",
       "  <thead>\n",
       "    <tr style=\"text-align: right;\">\n",
       "      <th></th>\n",
       "      <th>Restaurant ID</th>\n",
       "      <th>Restaurant Name</th>\n",
       "      <th>Country Code</th>\n",
       "      <th>City</th>\n",
       "      <th>Address</th>\n",
       "      <th>Locality</th>\n",
       "      <th>Locality Verbose</th>\n",
       "      <th>Longitude</th>\n",
       "      <th>Latitude</th>\n",
       "      <th>Cuisines</th>\n",
       "      <th>Average Cost for two</th>\n",
       "      <th>Currency</th>\n",
       "      <th>Has Table booking</th>\n",
       "      <th>Has Online delivery</th>\n",
       "      <th>Price range</th>\n",
       "      <th>Aggregate rating</th>\n",
       "      <th>Rating color</th>\n",
       "      <th>Rating text</th>\n",
       "      <th>Votes</th>\n",
       "      <th>Countries</th>\n",
       "    </tr>\n",
       "  </thead>\n",
       "  <tbody>\n",
       "    <tr>\n",
       "      <th>0</th>\n",
       "      <td>7402935</td>\n",
       "      <td>Skye</td>\n",
       "      <td>94</td>\n",
       "      <td>Jakarta</td>\n",
       "      <td>Menara BCA, Lantai 56, Jl. MH. Thamrin, Thamri...</td>\n",
       "      <td>Grand Indonesia Mall, Thamrin</td>\n",
       "      <td>Grand Indonesia Mall, Thamrin, Jakarta</td>\n",
       "      <td>106.821999</td>\n",
       "      <td>-6.196778</td>\n",
       "      <td>Italian, Continental</td>\n",
       "      <td>800000</td>\n",
       "      <td>Indonesian Rupiah(IDR)</td>\n",
       "      <td>No</td>\n",
       "      <td>No</td>\n",
       "      <td>3</td>\n",
       "      <td>4.1</td>\n",
       "      <td>Green</td>\n",
       "      <td>Very Good</td>\n",
       "      <td>1498</td>\n",
       "      <td>Indonesia</td>\n",
       "    </tr>\n",
       "    <tr>\n",
       "      <th>1</th>\n",
       "      <td>7410290</td>\n",
       "      <td>Satoo - Hotel Shangri-La</td>\n",
       "      <td>94</td>\n",
       "      <td>Jakarta</td>\n",
       "      <td>Hotel Shangri-La, Jl. Jend. Sudirman</td>\n",
       "      <td>Hotel Shangri-La, Sudirman</td>\n",
       "      <td>Hotel Shangri-La, Sudirman, Jakarta</td>\n",
       "      <td>106.818961</td>\n",
       "      <td>-6.203292</td>\n",
       "      <td>Asian, Indonesian, Western</td>\n",
       "      <td>800000</td>\n",
       "      <td>Indonesian Rupiah(IDR)</td>\n",
       "      <td>No</td>\n",
       "      <td>No</td>\n",
       "      <td>3</td>\n",
       "      <td>4.6</td>\n",
       "      <td>Dark Green</td>\n",
       "      <td>Excellent</td>\n",
       "      <td>873</td>\n",
       "      <td>Indonesia</td>\n",
       "    </tr>\n",
       "  </tbody>\n",
       "</table>\n",
       "</div>"
      ],
      "text/plain": [
       "   Restaurant ID           Restaurant Name  Country Code     City  \\\n",
       "0        7402935                      Skye            94  Jakarta   \n",
       "1        7410290  Satoo - Hotel Shangri-La            94  Jakarta   \n",
       "\n",
       "                                             Address  \\\n",
       "0  Menara BCA, Lantai 56, Jl. MH. Thamrin, Thamri...   \n",
       "1               Hotel Shangri-La, Jl. Jend. Sudirman   \n",
       "\n",
       "                        Locality                        Locality Verbose  \\\n",
       "0  Grand Indonesia Mall, Thamrin  Grand Indonesia Mall, Thamrin, Jakarta   \n",
       "1     Hotel Shangri-La, Sudirman     Hotel Shangri-La, Sudirman, Jakarta   \n",
       "\n",
       "    Longitude  Latitude                    Cuisines  Average Cost for two  \\\n",
       "0  106.821999 -6.196778        Italian, Continental                800000   \n",
       "1  106.818961 -6.203292  Asian, Indonesian, Western                800000   \n",
       "\n",
       "                 Currency Has Table booking Has Online delivery  Price range  \\\n",
       "0  Indonesian Rupiah(IDR)                No                  No            3   \n",
       "1  Indonesian Rupiah(IDR)                No                  No            3   \n",
       "\n",
       "   Aggregate rating Rating color Rating text  Votes  Countries  \n",
       "0               4.1        Green   Very Good   1498  Indonesia  \n",
       "1               4.6   Dark Green   Excellent    873  Indonesia  "
      ]
     },
     "execution_count": 25,
     "metadata": {},
     "output_type": "execute_result"
    }
   ],
   "source": [
    "# identify the cities with the maximum and minimum number of restaurants\n",
    "data.head(2)"
   ]
  },
  {
   "cell_type": "code",
   "execution_count": 26,
   "metadata": {},
   "outputs": [
    {
     "data": {
      "text/plain": [
       "140"
      ]
     },
     "execution_count": 26,
     "metadata": {},
     "output_type": "execute_result"
    }
   ],
   "source": [
    "len(pandas.unique(data['City']))"
   ]
  },
  {
   "cell_type": "code",
   "execution_count": 27,
   "metadata": {},
   "outputs": [
    {
     "data": {
      "text/plain": [
       "New Delhi        5473\n",
       "Gurgaon          1118\n",
       "Noida            1080\n",
       "Faridabad         251\n",
       "Ghaziabad          25\n",
       "                 ... \n",
       "Randburg            1\n",
       "Penola              1\n",
       "Balingup            1\n",
       "Tagaytay City       1\n",
       "Palm Cove           1\n",
       "Name: City, Length: 140, dtype: int64"
      ]
     },
     "execution_count": 27,
     "metadata": {},
     "output_type": "execute_result"
    }
   ],
   "source": [
    "data['City'].value_counts()"
   ]
  },
  {
   "cell_type": "code",
   "execution_count": 28,
   "metadata": {},
   "outputs": [],
   "source": [
    "# As we can see from above New Delhi has maximum number of restaurants and Many Restaurants has minimum number of restaurants..\n",
    "\n"
   ]
  },
  {
   "cell_type": "code",
   "execution_count": 29,
   "metadata": {},
   "outputs": [
    {
     "data": {
      "text/plain": [
       "7436"
      ]
     },
     "execution_count": 29,
     "metadata": {},
     "output_type": "execute_result"
    }
   ],
   "source": [
    "#Restaurant franchising is a thriving venture. So, it is very important to explore the franchise with most national presence\n",
    "# Understanding how many restaurants types are there in our data\n",
    "len(pandas.unique(data['Restaurant Name']))"
   ]
  },
  {
   "cell_type": "code",
   "execution_count": 30,
   "metadata": {},
   "outputs": [
    {
     "data": {
      "text/plain": [
       "Countries\n",
       "Australia           24\n",
       "Brazil              60\n",
       "Canada               4\n",
       "India             8651\n",
       "Indonesia           21\n",
       "Newzeland           40\n",
       "Phillipines         22\n",
       "Qatar               20\n",
       "Singapore           20\n",
       "South Africa        60\n",
       "Sri Lanka           20\n",
       "Turkey              34\n",
       "UAE                 60\n",
       "United Kingdom      80\n",
       "United States      425\n",
       "Name: Restaurant Name, dtype: int64"
      ]
     },
     "execution_count": 30,
     "metadata": {},
     "output_type": "execute_result"
    }
   ],
   "source": [
    "# There are 7436 types of restaurants in total in our data..\n",
    "data.groupby('Countries')['Restaurant Name'].count()"
   ]
  },
  {
   "cell_type": "code",
   "execution_count": 31,
   "metadata": {},
   "outputs": [
    {
     "data": {
      "text/plain": [
       "Restaurant Name\n",
       "12212                   1\n",
       " Let's Burrrp           1\n",
       "#45                     1\n",
       "#Dilliwaala6            1\n",
       "#InstaFreeze            1\n",
       "                       ..\n",
       "t Lounge by Dilmah      1\n",
       "tashas                  1\n",
       "wagamama                1\n",
       "{Niche} - Cafe & Bar    1\n",
       "Ìàukura€Ùa Sofras€±     1\n",
       "Name: Countries, Length: 7436, dtype: int64"
      ]
     },
     "execution_count": 31,
     "metadata": {},
     "output_type": "execute_result"
    }
   ],
   "source": [
    "data.groupby('Restaurant Name')['Countries'].count()"
   ]
  },
  {
   "cell_type": "code",
   "execution_count": 32,
   "metadata": {},
   "outputs": [
    {
     "data": {
      "text/plain": [
       "Cafe Coffee Day                                    83\n",
       "Domino's Pizza                                     79\n",
       "Subway                                             63\n",
       "Green Chick Chop                                   51\n",
       "McDonald's                                         48\n",
       "                                                   ..\n",
       "Khandani Pakodewala                                 1\n",
       "The Second Wife Kitchen                             1\n",
       "Wangchuk's Ladakhi Kitchen                          1\n",
       "Sanjha Chulah Babe Da                               1\n",
       "The Living Room - The Westin Sohna Resort & Spa     1\n",
       "Name: Restaurant Name, Length: 7436, dtype: int64"
      ]
     },
     "execution_count": 32,
     "metadata": {},
     "output_type": "execute_result"
    }
   ],
   "source": [
    "data['Restaurant Name'].value_counts()"
   ]
  },
  {
   "cell_type": "code",
   "execution_count": 33,
   "metadata": {},
   "outputs": [
    {
     "data": {
      "text/plain": [
       "India    83\n",
       "Name: Countries, dtype: int64"
      ]
     },
     "execution_count": 33,
     "metadata": {},
     "output_type": "execute_result"
    }
   ],
   "source": [
    "# A restaurant franchise is a brand which an investor, or franchisee, has bought the right to use. \n",
    "# The franchisee is responsible for the day-to-day running and management of the restaurant.\n",
    "# In our data Many Restaurants have more branches , so we have many franchises..\n",
    "# which restaurant have most antional presence\n",
    "\n",
    "data.loc[data['Restaurant Name']=='Cafe Coffee Day','Countries'].value_counts()"
   ]
  },
  {
   "cell_type": "code",
   "execution_count": 34,
   "metadata": {},
   "outputs": [
    {
     "data": {
      "text/plain": [
       "India    79\n",
       "Name: Countries, dtype: int64"
      ]
     },
     "execution_count": 34,
     "metadata": {},
     "output_type": "execute_result"
    }
   ],
   "source": [
    "data.loc[data['Restaurant Name']==\"Domino's Pizza\",'Countries'].value_counts()"
   ]
  },
  {
   "cell_type": "code",
   "execution_count": 35,
   "metadata": {},
   "outputs": [
    {
     "data": {
      "text/plain": [
       "India    63\n",
       "Name: Countries, dtype: int64"
      ]
     },
     "execution_count": 35,
     "metadata": {},
     "output_type": "execute_result"
    }
   ],
   "source": [
    "data.loc[data['Restaurant Name']=='Subway','Countries'].value_counts()"
   ]
  },
  {
   "cell_type": "code",
   "execution_count": 36,
   "metadata": {},
   "outputs": [
    {
     "data": {
      "text/plain": [
       "Texas Roadhouse                           4\n",
       "HuHot Mongolian Grill                     3\n",
       "Los Agaves                                2\n",
       "Mellow Mushroom                           2\n",
       "Ceviche Tapas Bar & Restaurant            2\n",
       "                                         ..\n",
       "Boise Fry Company                         1\n",
       "The Artesian Restaurant                   1\n",
       "Cool Basil                                1\n",
       "The Black Cow                             1\n",
       "Original Georgios Authentic Greek Food    1\n",
       "Name: Restaurant Name, Length: 414, dtype: int64"
      ]
     },
     "execution_count": 36,
     "metadata": {},
     "output_type": "execute_result"
    }
   ],
   "source": [
    "data.loc[data['Countries']=='United States','Restaurant Name'].value_counts()"
   ]
  },
  {
   "cell_type": "code",
   "execution_count": 37,
   "metadata": {},
   "outputs": [
    {
     "data": {
      "text/plain": [
       "Cafe Coffee Day                                    83\n",
       "Domino's Pizza                                     79\n",
       "Subway                                             63\n",
       "Green Chick Chop                                   51\n",
       "McDonald's                                         48\n",
       "                                                   ..\n",
       "Sufiaana                                            1\n",
       "Spiritual Bar & Lounge-DoubleTree by Hilton         1\n",
       "Annapurna                                           1\n",
       "Hook N Cook                                         1\n",
       "The Living Room - The Westin Sohna Resort & Spa     1\n",
       "Name: Restaurant Name, Length: 6603, dtype: int64"
      ]
     },
     "execution_count": 37,
     "metadata": {},
     "output_type": "execute_result"
    }
   ],
   "source": [
    "# Restaurant Names with value counts in India.\n",
    "\n",
    "data.loc[data['Countries']=='India','Restaurant Name'].value_counts()"
   ]
  },
  {
   "cell_type": "code",
   "execution_count": 38,
   "metadata": {},
   "outputs": [
    {
     "data": {
      "text/plain": [
       "'India'"
      ]
     },
     "execution_count": 38,
     "metadata": {},
     "output_type": "execute_result"
    }
   ],
   "source": [
    "data.loc[data['Restaurant Name']=='Cafe Coffee Day','Countries'].max()"
   ]
  },
  {
   "cell_type": "code",
   "execution_count": 39,
   "metadata": {},
   "outputs": [],
   "source": [
    "# I can say that Cafe Coffee day has most national presence as there are 83 resturants in India..\n"
   ]
  },
  {
   "cell_type": "code",
   "execution_count": 40,
   "metadata": {
    "scrolled": true
   },
   "outputs": [
    {
     "data": {
      "text/html": [
       "<div>\n",
       "<style scoped>\n",
       "    .dataframe tbody tr th:only-of-type {\n",
       "        vertical-align: middle;\n",
       "    }\n",
       "\n",
       "    .dataframe tbody tr th {\n",
       "        vertical-align: top;\n",
       "    }\n",
       "\n",
       "    .dataframe thead th {\n",
       "        text-align: right;\n",
       "    }\n",
       "</style>\n",
       "<table border=\"1\" class=\"dataframe\">\n",
       "  <thead>\n",
       "    <tr style=\"text-align: right;\">\n",
       "      <th></th>\n",
       "      <th>Restaurant ID</th>\n",
       "      <th>Restaurant Name</th>\n",
       "      <th>Country Code</th>\n",
       "      <th>City</th>\n",
       "      <th>Address</th>\n",
       "      <th>Locality</th>\n",
       "      <th>Locality Verbose</th>\n",
       "      <th>Longitude</th>\n",
       "      <th>Latitude</th>\n",
       "      <th>Cuisines</th>\n",
       "      <th>Average Cost for two</th>\n",
       "      <th>Currency</th>\n",
       "      <th>Has Table booking</th>\n",
       "      <th>Has Online delivery</th>\n",
       "      <th>Price range</th>\n",
       "      <th>Aggregate rating</th>\n",
       "      <th>Rating color</th>\n",
       "      <th>Rating text</th>\n",
       "      <th>Votes</th>\n",
       "      <th>Countries</th>\n",
       "    </tr>\n",
       "  </thead>\n",
       "  <tbody>\n",
       "    <tr>\n",
       "      <th>0</th>\n",
       "      <td>7402935</td>\n",
       "      <td>Skye</td>\n",
       "      <td>94</td>\n",
       "      <td>Jakarta</td>\n",
       "      <td>Menara BCA, Lantai 56, Jl. MH. Thamrin, Thamri...</td>\n",
       "      <td>Grand Indonesia Mall, Thamrin</td>\n",
       "      <td>Grand Indonesia Mall, Thamrin, Jakarta</td>\n",
       "      <td>106.821999</td>\n",
       "      <td>-6.196778</td>\n",
       "      <td>Italian, Continental</td>\n",
       "      <td>800000</td>\n",
       "      <td>Indonesian Rupiah(IDR)</td>\n",
       "      <td>No</td>\n",
       "      <td>No</td>\n",
       "      <td>3</td>\n",
       "      <td>4.1</td>\n",
       "      <td>Green</td>\n",
       "      <td>Very Good</td>\n",
       "      <td>1498</td>\n",
       "      <td>Indonesia</td>\n",
       "    </tr>\n",
       "    <tr>\n",
       "      <th>1</th>\n",
       "      <td>7410290</td>\n",
       "      <td>Satoo - Hotel Shangri-La</td>\n",
       "      <td>94</td>\n",
       "      <td>Jakarta</td>\n",
       "      <td>Hotel Shangri-La, Jl. Jend. Sudirman</td>\n",
       "      <td>Hotel Shangri-La, Sudirman</td>\n",
       "      <td>Hotel Shangri-La, Sudirman, Jakarta</td>\n",
       "      <td>106.818961</td>\n",
       "      <td>-6.203292</td>\n",
       "      <td>Asian, Indonesian, Western</td>\n",
       "      <td>800000</td>\n",
       "      <td>Indonesian Rupiah(IDR)</td>\n",
       "      <td>No</td>\n",
       "      <td>No</td>\n",
       "      <td>3</td>\n",
       "      <td>4.6</td>\n",
       "      <td>Dark Green</td>\n",
       "      <td>Excellent</td>\n",
       "      <td>873</td>\n",
       "      <td>Indonesia</td>\n",
       "    </tr>\n",
       "  </tbody>\n",
       "</table>\n",
       "</div>"
      ],
      "text/plain": [
       "   Restaurant ID           Restaurant Name  Country Code     City  \\\n",
       "0        7402935                      Skye            94  Jakarta   \n",
       "1        7410290  Satoo - Hotel Shangri-La            94  Jakarta   \n",
       "\n",
       "                                             Address  \\\n",
       "0  Menara BCA, Lantai 56, Jl. MH. Thamrin, Thamri...   \n",
       "1               Hotel Shangri-La, Jl. Jend. Sudirman   \n",
       "\n",
       "                        Locality                        Locality Verbose  \\\n",
       "0  Grand Indonesia Mall, Thamrin  Grand Indonesia Mall, Thamrin, Jakarta   \n",
       "1     Hotel Shangri-La, Sudirman     Hotel Shangri-La, Sudirman, Jakarta   \n",
       "\n",
       "    Longitude  Latitude                    Cuisines  Average Cost for two  \\\n",
       "0  106.821999 -6.196778        Italian, Continental                800000   \n",
       "1  106.818961 -6.203292  Asian, Indonesian, Western                800000   \n",
       "\n",
       "                 Currency Has Table booking Has Online delivery  Price range  \\\n",
       "0  Indonesian Rupiah(IDR)                No                  No            3   \n",
       "1  Indonesian Rupiah(IDR)                No                  No            3   \n",
       "\n",
       "   Aggregate rating Rating color Rating text  Votes  Countries  \n",
       "0               4.1        Green   Very Good   1498  Indonesia  \n",
       "1               4.6   Dark Green   Excellent    873  Indonesia  "
      ]
     },
     "execution_count": 40,
     "metadata": {},
     "output_type": "execute_result"
    }
   ],
   "source": [
    "# Find out the ratio between restaurants that allow table booking vs. those that do not allow table booking\n",
    "\n",
    "data.head(2)\n"
   ]
  },
  {
   "cell_type": "code",
   "execution_count": 41,
   "metadata": {},
   "outputs": [
    {
     "data": {
      "text/plain": [
       "array(['No', 'Yes'], dtype=object)"
      ]
     },
     "execution_count": 41,
     "metadata": {},
     "output_type": "execute_result"
    }
   ],
   "source": [
    "data['Has Table booking'].unique()"
   ]
  },
  {
   "cell_type": "code",
   "execution_count": 42,
   "metadata": {},
   "outputs": [
    {
     "data": {
      "text/plain": [
       "Restaurant ID           8383\n",
       "Restaurant Name         8383\n",
       "Country Code            8383\n",
       "City                    8383\n",
       "Address                 8383\n",
       "Locality                8383\n",
       "Locality Verbose        8383\n",
       "Longitude               8383\n",
       "Latitude                8383\n",
       "Cuisines                8383\n",
       "Average Cost for two    8383\n",
       "Currency                8383\n",
       "Has Table booking       8383\n",
       "Has Online delivery     8383\n",
       "Price range             8383\n",
       "Aggregate rating        8383\n",
       "Rating color            8383\n",
       "Rating text             8383\n",
       "Votes                   8383\n",
       "Countries               8383\n",
       "dtype: int64"
      ]
     },
     "execution_count": 42,
     "metadata": {},
     "output_type": "execute_result"
    }
   ],
   "source": [
    "t_no = data.loc[data['Has Table booking']=='No'].count()\n",
    "t_no"
   ]
  },
  {
   "cell_type": "code",
   "execution_count": 43,
   "metadata": {},
   "outputs": [
    {
     "data": {
      "text/plain": [
       "Restaurant ID           1158\n",
       "Restaurant Name         1158\n",
       "Country Code            1158\n",
       "City                    1158\n",
       "Address                 1158\n",
       "Locality                1158\n",
       "Locality Verbose        1158\n",
       "Longitude               1158\n",
       "Latitude                1158\n",
       "Cuisines                1158\n",
       "Average Cost for two    1158\n",
       "Currency                1158\n",
       "Has Table booking       1158\n",
       "Has Online delivery     1158\n",
       "Price range             1158\n",
       "Aggregate rating        1158\n",
       "Rating color            1158\n",
       "Rating text             1158\n",
       "Votes                   1158\n",
       "Countries               1158\n",
       "dtype: int64"
      ]
     },
     "execution_count": 43,
     "metadata": {},
     "output_type": "execute_result"
    }
   ],
   "source": [
    "t_yes = data.loc[data['Has Table booking']=='Yes'].count()\n",
    "t_yes"
   ]
  },
  {
   "cell_type": "code",
   "execution_count": 44,
   "metadata": {},
   "outputs": [
    {
     "name": "stdout",
     "output_type": "stream",
     "text": [
      "The ratio of Restaurants that have table bookings vs restaurants thats doesnot have table bookings :  Restaurant ID           0.138137\n",
      "Restaurant Name         0.138137\n",
      "Country Code            0.138137\n",
      "City                    0.138137\n",
      "Address                 0.138137\n",
      "Locality                0.138137\n",
      "Locality Verbose        0.138137\n",
      "Longitude               0.138137\n",
      "Latitude                0.138137\n",
      "Cuisines                0.138137\n",
      "Average Cost for two    0.138137\n",
      "Currency                0.138137\n",
      "Has Table booking       0.138137\n",
      "Has Online delivery     0.138137\n",
      "Price range             0.138137\n",
      "Aggregate rating        0.138137\n",
      "Rating color            0.138137\n",
      "Rating text             0.138137\n",
      "Votes                   0.138137\n",
      "Countries               0.138137\n",
      "dtype: float64\n"
     ]
    }
   ],
   "source": [
    "# As we can see there are 8383 restaurants that doesnot have a table booking option \n",
    "# and 1158 restaurants that have table booking options\n",
    "\n",
    "print(\"The ratio of Restaurants that have table bookings vs restaurants thats doesnot have table bookings : \",t_yes/t_no)"
   ]
  },
  {
   "cell_type": "code",
   "execution_count": 45,
   "metadata": {},
   "outputs": [
    {
     "data": {
      "text/plain": [
       "Restaurant ID           0.138137\n",
       "Restaurant Name         0.138137\n",
       "Country Code            0.138137\n",
       "City                    0.138137\n",
       "Address                 0.138137\n",
       "Locality                0.138137\n",
       "Locality Verbose        0.138137\n",
       "Longitude               0.138137\n",
       "Latitude                0.138137\n",
       "Cuisines                0.138137\n",
       "Average Cost for two    0.138137\n",
       "Currency                0.138137\n",
       "Has Table booking       0.138137\n",
       "Has Online delivery     0.138137\n",
       "Price range             0.138137\n",
       "Aggregate rating        0.138137\n",
       "Rating color            0.138137\n",
       "Rating text             0.138137\n",
       "Votes                   0.138137\n",
       "Countries               0.138137\n",
       "dtype: float64"
      ]
     },
     "execution_count": 45,
     "metadata": {},
     "output_type": "execute_result"
    }
   ],
   "source": [
    "(t_yes/t_no)"
   ]
  },
  {
   "cell_type": "code",
   "execution_count": 46,
   "metadata": {},
   "outputs": [],
   "source": [
    "# The Ratio  of Restaurants that offer table booking vs restaurants that doent offer table bookings is  0.13"
   ]
  },
  {
   "cell_type": "code",
   "execution_count": 47,
   "metadata": {},
   "outputs": [
    {
     "data": {
      "text/html": [
       "<div>\n",
       "<style scoped>\n",
       "    .dataframe tbody tr th:only-of-type {\n",
       "        vertical-align: middle;\n",
       "    }\n",
       "\n",
       "    .dataframe tbody tr th {\n",
       "        vertical-align: top;\n",
       "    }\n",
       "\n",
       "    .dataframe thead th {\n",
       "        text-align: right;\n",
       "    }\n",
       "</style>\n",
       "<table border=\"1\" class=\"dataframe\">\n",
       "  <thead>\n",
       "    <tr style=\"text-align: right;\">\n",
       "      <th></th>\n",
       "      <th>Restaurant ID</th>\n",
       "      <th>Restaurant Name</th>\n",
       "      <th>Country Code</th>\n",
       "      <th>City</th>\n",
       "      <th>Address</th>\n",
       "      <th>Locality</th>\n",
       "      <th>Locality Verbose</th>\n",
       "      <th>Longitude</th>\n",
       "      <th>Latitude</th>\n",
       "      <th>Cuisines</th>\n",
       "      <th>Average Cost for two</th>\n",
       "      <th>Currency</th>\n",
       "      <th>Has Table booking</th>\n",
       "      <th>Has Online delivery</th>\n",
       "      <th>Price range</th>\n",
       "      <th>Aggregate rating</th>\n",
       "      <th>Rating color</th>\n",
       "      <th>Rating text</th>\n",
       "      <th>Votes</th>\n",
       "      <th>Countries</th>\n",
       "    </tr>\n",
       "  </thead>\n",
       "  <tbody>\n",
       "    <tr>\n",
       "      <th>0</th>\n",
       "      <td>7402935</td>\n",
       "      <td>Skye</td>\n",
       "      <td>94</td>\n",
       "      <td>Jakarta</td>\n",
       "      <td>Menara BCA, Lantai 56, Jl. MH. Thamrin, Thamri...</td>\n",
       "      <td>Grand Indonesia Mall, Thamrin</td>\n",
       "      <td>Grand Indonesia Mall, Thamrin, Jakarta</td>\n",
       "      <td>106.821999</td>\n",
       "      <td>-6.196778</td>\n",
       "      <td>Italian, Continental</td>\n",
       "      <td>800000</td>\n",
       "      <td>Indonesian Rupiah(IDR)</td>\n",
       "      <td>No</td>\n",
       "      <td>No</td>\n",
       "      <td>3</td>\n",
       "      <td>4.1</td>\n",
       "      <td>Green</td>\n",
       "      <td>Very Good</td>\n",
       "      <td>1498</td>\n",
       "      <td>Indonesia</td>\n",
       "    </tr>\n",
       "  </tbody>\n",
       "</table>\n",
       "</div>"
      ],
      "text/plain": [
       "   Restaurant ID Restaurant Name  Country Code     City  \\\n",
       "0        7402935            Skye            94  Jakarta   \n",
       "\n",
       "                                             Address  \\\n",
       "0  Menara BCA, Lantai 56, Jl. MH. Thamrin, Thamri...   \n",
       "\n",
       "                        Locality                        Locality Verbose  \\\n",
       "0  Grand Indonesia Mall, Thamrin  Grand Indonesia Mall, Thamrin, Jakarta   \n",
       "\n",
       "    Longitude  Latitude              Cuisines  Average Cost for two  \\\n",
       "0  106.821999 -6.196778  Italian, Continental                800000   \n",
       "\n",
       "                 Currency Has Table booking Has Online delivery  Price range  \\\n",
       "0  Indonesian Rupiah(IDR)                No                  No            3   \n",
       "\n",
       "   Aggregate rating Rating color Rating text  Votes  Countries  \n",
       "0               4.1        Green   Very Good   1498  Indonesia  "
      ]
     },
     "execution_count": 47,
     "metadata": {},
     "output_type": "execute_result"
    }
   ],
   "source": [
    "# Find out the percentage of restaurants providing online delivery\n",
    "data.head(1)"
   ]
  },
  {
   "cell_type": "code",
   "execution_count": 48,
   "metadata": {},
   "outputs": [
    {
     "data": {
      "text/plain": [
       "array(['No', 'Yes'], dtype=object)"
      ]
     },
     "execution_count": 48,
     "metadata": {},
     "output_type": "execute_result"
    }
   ],
   "source": [
    "data['Has Online delivery'].unique()"
   ]
  },
  {
   "cell_type": "code",
   "execution_count": 49,
   "metadata": {},
   "outputs": [
    {
     "data": {
      "text/plain": [
       "2451"
      ]
     },
     "execution_count": 49,
     "metadata": {},
     "output_type": "execute_result"
    }
   ],
   "source": [
    "R_online = data.loc[data['Has Online delivery']=='Yes','Restaurant ID'].count()\n",
    "R_online"
   ]
  },
  {
   "cell_type": "code",
   "execution_count": 50,
   "metadata": {},
   "outputs": [
    {
     "data": {
      "text/plain": [
       "7090"
      ]
     },
     "execution_count": 50,
     "metadata": {},
     "output_type": "execute_result"
    }
   ],
   "source": [
    "R_no_online =data.loc[data['Has Online delivery']=='No','Restaurant ID'].count()\n",
    "R_no_online"
   ]
  },
  {
   "cell_type": "code",
   "execution_count": 51,
   "metadata": {},
   "outputs": [
    {
     "name": "stdout",
     "output_type": "stream",
     "text": [
      " The percentage is 25.68913111833141\n"
     ]
    }
   ],
   "source": [
    "# There are 2451 Restaurants that provide online delivery according to our data..\n",
    "# finding percentage\n",
    "print(\" The percentage is\", ((R_online) /(R_online+R_no_online))*100)"
   ]
  },
  {
   "cell_type": "code",
   "execution_count": 52,
   "metadata": {},
   "outputs": [],
   "source": [
    "# There are 25% of the resturants that offer online delivery..\n"
   ]
  },
  {
   "cell_type": "code",
   "execution_count": 53,
   "metadata": {},
   "outputs": [
    {
     "data": {
      "text/plain": [
       "517914"
      ]
     },
     "execution_count": 53,
     "metadata": {},
     "output_type": "execute_result"
    }
   ],
   "source": [
    "# Calculate the difference in number of votes for the restaurants that deliver and the restaurants that do not deliver\n",
    "\n",
    "votes_deliver = data.loc[data['Has Online delivery']=='Yes','Votes'].sum()\n",
    "votes_deliver"
   ]
  },
  {
   "cell_type": "code",
   "execution_count": 54,
   "metadata": {},
   "outputs": [
    {
     "data": {
      "text/plain": [
       "977236"
      ]
     },
     "execution_count": 54,
     "metadata": {},
     "output_type": "execute_result"
    }
   ],
   "source": [
    "votes_no_deliver = data.loc[data['Has Online delivery']=='No','Votes'].sum()\n",
    "votes_no_deliver"
   ]
  },
  {
   "cell_type": "code",
   "execution_count": 55,
   "metadata": {},
   "outputs": [
    {
     "data": {
      "text/plain": [
       "1495150"
      ]
     },
     "execution_count": 55,
     "metadata": {},
     "output_type": "execute_result"
    }
   ],
   "source": [
    "data['Votes'].sum()"
   ]
  },
  {
   "cell_type": "code",
   "execution_count": 56,
   "metadata": {},
   "outputs": [
    {
     "name": "stdout",
     "output_type": "stream",
     "text": [
      "The Difference in number of votes for the restaurants that deliver and that do not deliver is: -459322\n"
     ]
    }
   ],
   "source": [
    "print('The Difference in number of votes for the restaurants that deliver and that do not deliver is:', votes_deliver-votes_no_deliver)"
   ]
  },
  {
   "cell_type": "code",
   "execution_count": 57,
   "metadata": {},
   "outputs": [
    {
     "data": {
      "text/plain": [
       "10934"
      ]
     },
     "execution_count": 57,
     "metadata": {},
     "output_type": "execute_result"
    }
   ],
   "source": [
    "# the difference is 459322 votes.\n",
    "data['Votes'].max()"
   ]
  },
  {
   "cell_type": "code",
   "execution_count": 58,
   "metadata": {},
   "outputs": [
    {
     "data": {
      "text/html": [
       "<div>\n",
       "<style scoped>\n",
       "    .dataframe tbody tr th:only-of-type {\n",
       "        vertical-align: middle;\n",
       "    }\n",
       "\n",
       "    .dataframe tbody tr th {\n",
       "        vertical-align: top;\n",
       "    }\n",
       "\n",
       "    .dataframe thead th {\n",
       "        text-align: right;\n",
       "    }\n",
       "</style>\n",
       "<table border=\"1\" class=\"dataframe\">\n",
       "  <thead>\n",
       "    <tr style=\"text-align: right;\">\n",
       "      <th></th>\n",
       "      <th>Restaurant ID</th>\n",
       "      <th>Restaurant Name</th>\n",
       "      <th>Country Code</th>\n",
       "      <th>City</th>\n",
       "      <th>Address</th>\n",
       "      <th>Locality</th>\n",
       "      <th>Locality Verbose</th>\n",
       "      <th>Longitude</th>\n",
       "      <th>Latitude</th>\n",
       "      <th>Cuisines</th>\n",
       "      <th>Average Cost for two</th>\n",
       "      <th>Currency</th>\n",
       "      <th>Has Table booking</th>\n",
       "      <th>Has Online delivery</th>\n",
       "      <th>Price range</th>\n",
       "      <th>Aggregate rating</th>\n",
       "      <th>Rating color</th>\n",
       "      <th>Rating text</th>\n",
       "      <th>Votes</th>\n",
       "      <th>Countries</th>\n",
       "    </tr>\n",
       "  </thead>\n",
       "  <tbody>\n",
       "    <tr>\n",
       "      <th>0</th>\n",
       "      <td>7402935</td>\n",
       "      <td>Skye</td>\n",
       "      <td>94</td>\n",
       "      <td>Jakarta</td>\n",
       "      <td>Menara BCA, Lantai 56, Jl. MH. Thamrin, Thamri...</td>\n",
       "      <td>Grand Indonesia Mall, Thamrin</td>\n",
       "      <td>Grand Indonesia Mall, Thamrin, Jakarta</td>\n",
       "      <td>106.821999</td>\n",
       "      <td>-6.196778</td>\n",
       "      <td>Italian, Continental</td>\n",
       "      <td>800000</td>\n",
       "      <td>Indonesian Rupiah(IDR)</td>\n",
       "      <td>No</td>\n",
       "      <td>No</td>\n",
       "      <td>3</td>\n",
       "      <td>4.1</td>\n",
       "      <td>Green</td>\n",
       "      <td>Very Good</td>\n",
       "      <td>1498</td>\n",
       "      <td>Indonesia</td>\n",
       "    </tr>\n",
       "    <tr>\n",
       "      <th>1</th>\n",
       "      <td>7410290</td>\n",
       "      <td>Satoo - Hotel Shangri-La</td>\n",
       "      <td>94</td>\n",
       "      <td>Jakarta</td>\n",
       "      <td>Hotel Shangri-La, Jl. Jend. Sudirman</td>\n",
       "      <td>Hotel Shangri-La, Sudirman</td>\n",
       "      <td>Hotel Shangri-La, Sudirman, Jakarta</td>\n",
       "      <td>106.818961</td>\n",
       "      <td>-6.203292</td>\n",
       "      <td>Asian, Indonesian, Western</td>\n",
       "      <td>800000</td>\n",
       "      <td>Indonesian Rupiah(IDR)</td>\n",
       "      <td>No</td>\n",
       "      <td>No</td>\n",
       "      <td>3</td>\n",
       "      <td>4.6</td>\n",
       "      <td>Dark Green</td>\n",
       "      <td>Excellent</td>\n",
       "      <td>873</td>\n",
       "      <td>Indonesia</td>\n",
       "    </tr>\n",
       "  </tbody>\n",
       "</table>\n",
       "</div>"
      ],
      "text/plain": [
       "   Restaurant ID           Restaurant Name  Country Code     City  \\\n",
       "0        7402935                      Skye            94  Jakarta   \n",
       "1        7410290  Satoo - Hotel Shangri-La            94  Jakarta   \n",
       "\n",
       "                                             Address  \\\n",
       "0  Menara BCA, Lantai 56, Jl. MH. Thamrin, Thamri...   \n",
       "1               Hotel Shangri-La, Jl. Jend. Sudirman   \n",
       "\n",
       "                        Locality                        Locality Verbose  \\\n",
       "0  Grand Indonesia Mall, Thamrin  Grand Indonesia Mall, Thamrin, Jakarta   \n",
       "1     Hotel Shangri-La, Sudirman     Hotel Shangri-La, Sudirman, Jakarta   \n",
       "\n",
       "    Longitude  Latitude                    Cuisines  Average Cost for two  \\\n",
       "0  106.821999 -6.196778        Italian, Continental                800000   \n",
       "1  106.818961 -6.203292  Asian, Indonesian, Western                800000   \n",
       "\n",
       "                 Currency Has Table booking Has Online delivery  Price range  \\\n",
       "0  Indonesian Rupiah(IDR)                No                  No            3   \n",
       "1  Indonesian Rupiah(IDR)                No                  No            3   \n",
       "\n",
       "   Aggregate rating Rating color Rating text  Votes  Countries  \n",
       "0               4.1        Green   Very Good   1498  Indonesia  \n",
       "1               4.6   Dark Green   Excellent    873  Indonesia  "
      ]
     },
     "execution_count": 58,
     "metadata": {},
     "output_type": "execute_result"
    }
   ],
   "source": [
    "# What are the top 10 cuisines served across cities?\n",
    "\n",
    "data.head(2)"
   ]
  },
  {
   "cell_type": "code",
   "execution_count": 59,
   "metadata": {},
   "outputs": [
    {
     "data": {
      "text/plain": [
       "array(['Italian, Continental', 'Asian, Indonesian, Western',\n",
       "       'Sushi, Japanese', ...,\n",
       "       'Cafe, Italian, Mexican, North Indian, Continental',\n",
       "       'Indian, Chinese, Continental',\n",
       "       'Cafe, Continental, Desserts, Ice Cream, Italian, Beverages'],\n",
       "      dtype=object)"
      ]
     },
     "execution_count": 59,
     "metadata": {},
     "output_type": "execute_result"
    }
   ],
   "source": [
    "data['Cuisines'].unique()"
   ]
  },
  {
   "cell_type": "code",
   "execution_count": 60,
   "metadata": {},
   "outputs": [
    {
     "data": {
      "text/plain": [
       "array([4.1, 4.6, 4.9, 4.2, 4.3, 3.7, 4. , 3.9, 4.4, 3.4, 3.2, 3.6, 3.5,\n",
       "       3.8, 3.1, 3.3, 2.9, 4.7, 0. , 2.7, 4.5, 3. , 2.5, 2.6, 2.2, 2. ,\n",
       "       4.8, 2.4, 2.8, 2.1, 2.3, 1.8, 1.9])"
      ]
     },
     "execution_count": 60,
     "metadata": {},
     "output_type": "execute_result"
    }
   ],
   "source": [
    "data['Aggregate rating'].unique()"
   ]
  },
  {
   "cell_type": "code",
   "execution_count": 61,
   "metadata": {},
   "outputs": [
    {
     "data": {
      "text/plain": [
       "<AxesSubplot:>"
      ]
     },
     "execution_count": 61,
     "metadata": {},
     "output_type": "execute_result"
    },
    {
     "data": {
      "image/png": "[encoded data removed]",
      "text/plain": [
       "<Figure size 432x288 with 1 Axes>"
      ]
     },
     "metadata": {
      "needs_background": "light"
     },
     "output_type": "display_data"
    }
   ],
   "source": [
    "data['Aggregate rating'].hist()"
   ]
  },
  {
   "cell_type": "code",
   "execution_count": 62,
   "metadata": {},
   "outputs": [
    {
     "data": {
      "text/plain": [
       "0.0"
      ]
     },
     "execution_count": 62,
     "metadata": {},
     "output_type": "execute_result"
    }
   ],
   "source": [
    "data['Aggregate rating'].min()"
   ]
  },
  {
   "cell_type": "code",
   "execution_count": 63,
   "metadata": {
    "scrolled": false
   },
   "outputs": [
    {
     "data": {
      "text/html": [
       "<div>\n",
       "<style scoped>\n",
       "    .dataframe tbody tr th:only-of-type {\n",
       "        vertical-align: middle;\n",
       "    }\n",
       "\n",
       "    .dataframe tbody tr th {\n",
       "        vertical-align: top;\n",
       "    }\n",
       "\n",
       "    .dataframe thead th {\n",
       "        text-align: right;\n",
       "    }\n",
       "</style>\n",
       "<table border=\"1\" class=\"dataframe\">\n",
       "  <thead>\n",
       "    <tr style=\"text-align: right;\">\n",
       "      <th></th>\n",
       "      <th></th>\n",
       "      <th>Restaurant ID</th>\n",
       "      <th>Country Code</th>\n",
       "      <th>Longitude</th>\n",
       "      <th>Latitude</th>\n",
       "      <th>Average Cost for two</th>\n",
       "      <th>Price range</th>\n",
       "      <th>Aggregate rating</th>\n",
       "      <th>Votes</th>\n",
       "    </tr>\n",
       "    <tr>\n",
       "      <th>City</th>\n",
       "      <th>Cuisines</th>\n",
       "      <th></th>\n",
       "      <th></th>\n",
       "      <th></th>\n",
       "      <th></th>\n",
       "      <th></th>\n",
       "      <th></th>\n",
       "      <th></th>\n",
       "      <th></th>\n",
       "    </tr>\n",
       "  </thead>\n",
       "  <tbody>\n",
       "    <tr>\n",
       "      <th rowspan=\"5\" valign=\"top\">Abu Dhabi</th>\n",
       "      <th>American</th>\n",
       "      <td>11958195.0</td>\n",
       "      <td>214.0</td>\n",
       "      <td>54.382872</td>\n",
       "      <td>24.495598</td>\n",
       "      <td>225.0</td>\n",
       "      <td>4.0</td>\n",
       "      <td>4.60</td>\n",
       "      <td>291.5</td>\n",
       "    </tr>\n",
       "    <tr>\n",
       "      <th>American, Desserts</th>\n",
       "      <td>5702574.0</td>\n",
       "      <td>214.0</td>\n",
       "      <td>54.606854</td>\n",
       "      <td>24.490531</td>\n",
       "      <td>200.0</td>\n",
       "      <td>4.0</td>\n",
       "      <td>4.60</td>\n",
       "      <td>586.0</td>\n",
       "    </tr>\n",
       "    <tr>\n",
       "      <th>American, Mexican, Seafood</th>\n",
       "      <td>5701052.0</td>\n",
       "      <td>214.0</td>\n",
       "      <td>54.413141</td>\n",
       "      <td>24.434099</td>\n",
       "      <td>250.0</td>\n",
       "      <td>4.0</td>\n",
       "      <td>4.00</td>\n",
       "      <td>205.0</td>\n",
       "    </tr>\n",
       "    <tr>\n",
       "      <th>Asian</th>\n",
       "      <td>18277098.0</td>\n",
       "      <td>214.0</td>\n",
       "      <td>54.375008</td>\n",
       "      <td>24.470836</td>\n",
       "      <td>180.0</td>\n",
       "      <td>4.0</td>\n",
       "      <td>4.60</td>\n",
       "      <td>81.0</td>\n",
       "    </tr>\n",
       "    <tr>\n",
       "      <th>Chinese</th>\n",
       "      <td>5701917.0</td>\n",
       "      <td>214.0</td>\n",
       "      <td>54.357829</td>\n",
       "      <td>24.487611</td>\n",
       "      <td>250.0</td>\n",
       "      <td>4.0</td>\n",
       "      <td>4.20</td>\n",
       "      <td>435.0</td>\n",
       "    </tr>\n",
       "    <tr>\n",
       "      <th>...</th>\n",
       "      <th>...</th>\n",
       "      <td>...</td>\n",
       "      <td>...</td>\n",
       "      <td>...</td>\n",
       "      <td>...</td>\n",
       "      <td>...</td>\n",
       "      <td>...</td>\n",
       "      <td>...</td>\n",
       "      <td>...</td>\n",
       "    </tr>\n",
       "    <tr>\n",
       "      <th rowspan=\"5\" valign=\"top\">€¡stanbul</th>\n",
       "      <th>Restaurant Cafe</th>\n",
       "      <td>5921545.5</td>\n",
       "      <td>208.0</td>\n",
       "      <td>29.029412</td>\n",
       "      <td>41.023842</td>\n",
       "      <td>100.0</td>\n",
       "      <td>3.5</td>\n",
       "      <td>3.85</td>\n",
       "      <td>703.5</td>\n",
       "    </tr>\n",
       "    <tr>\n",
       "      <th>Restaurant Cafe, Desserts</th>\n",
       "      <td>5902117.0</td>\n",
       "      <td>208.0</td>\n",
       "      <td>29.002896</td>\n",
       "      <td>41.044813</td>\n",
       "      <td>80.0</td>\n",
       "      <td>3.0</td>\n",
       "      <td>4.20</td>\n",
       "      <td>874.0</td>\n",
       "    </tr>\n",
       "    <tr>\n",
       "      <th>Restaurant Cafe, Turkish, Desserts</th>\n",
       "      <td>5905215.0</td>\n",
       "      <td>208.0</td>\n",
       "      <td>29.056620</td>\n",
       "      <td>41.104969</td>\n",
       "      <td>75.0</td>\n",
       "      <td>3.0</td>\n",
       "      <td>4.20</td>\n",
       "      <td>877.0</td>\n",
       "    </tr>\n",
       "    <tr>\n",
       "      <th>Turkish</th>\n",
       "      <td>5915730.0</td>\n",
       "      <td>208.0</td>\n",
       "      <td>28.977392</td>\n",
       "      <td>41.022793</td>\n",
       "      <td>80.0</td>\n",
       "      <td>3.0</td>\n",
       "      <td>4.10</td>\n",
       "      <td>788.0</td>\n",
       "    </tr>\n",
       "    <tr>\n",
       "      <th>World Cuisine, Patisserie, Cafe</th>\n",
       "      <td>5908749.0</td>\n",
       "      <td>208.0</td>\n",
       "      <td>29.041297</td>\n",
       "      <td>41.009847</td>\n",
       "      <td>105.0</td>\n",
       "      <td>3.0</td>\n",
       "      <td>4.20</td>\n",
       "      <td>1034.0</td>\n",
       "    </tr>\n",
       "  </tbody>\n",
       "</table>\n",
       "<p>3023 rows × 8 columns</p>\n",
       "</div>"
      ],
      "text/plain": [
       "                                              Restaurant ID  Country Code  \\\n",
       "City      Cuisines                                                          \n",
       "Abu Dhabi American                               11958195.0         214.0   \n",
       "          American, Desserts                      5702574.0         214.0   \n",
       "          American, Mexican, Seafood              5701052.0         214.0   \n",
       "          Asian                                  18277098.0         214.0   \n",
       "          Chinese                                 5701917.0         214.0   \n",
       "...                                                     ...           ...   \n",
       "€¡stanbul Restaurant Cafe                         5921545.5         208.0   \n",
       "          Restaurant Cafe, Desserts               5902117.0         208.0   \n",
       "          Restaurant Cafe, Turkish, Desserts      5905215.0         208.0   \n",
       "          Turkish                                 5915730.0         208.0   \n",
       "          World Cuisine, Patisserie, Cafe         5908749.0         208.0   \n",
       "\n",
       "                                              Longitude   Latitude  \\\n",
       "City      Cuisines                                                   \n",
       "Abu Dhabi American                            54.382872  24.495598   \n",
       "          American, Desserts                  54.606854  24.490531   \n",
       "          American, Mexican, Seafood          54.413141  24.434099   \n",
       "          Asian                               54.375008  24.470836   \n",
       "          Chinese                             54.357829  24.487611   \n",
       "...                                                 ...        ...   \n",
       "€¡stanbul Restaurant Cafe                     29.029412  41.023842   \n",
       "          Restaurant Cafe, Desserts           29.002896  41.044813   \n",
       "          Restaurant Cafe, Turkish, Desserts  29.056620  41.104969   \n",
       "          Turkish                             28.977392  41.022793   \n",
       "          World Cuisine, Patisserie, Cafe     29.041297  41.009847   \n",
       "\n",
       "                                              Average Cost for two  \\\n",
       "City      Cuisines                                                   \n",
       "Abu Dhabi American                                           225.0   \n",
       "          American, Desserts                                 200.0   \n",
       "          American, Mexican, Seafood                         250.0   \n",
       "          Asian                                              180.0   \n",
       "          Chinese                                            250.0   \n",
       "...                                                            ...   \n",
       "€¡stanbul Restaurant Cafe                                    100.0   \n",
       "          Restaurant Cafe, Desserts                           80.0   \n",
       "          Restaurant Cafe, Turkish, Desserts                  75.0   \n",
       "          Turkish                                             80.0   \n",
       "          World Cuisine, Patisserie, Cafe                    105.0   \n",
       "\n",
       "                                              Price range  Aggregate rating  \\\n",
       "City      Cuisines                                                            \n",
       "Abu Dhabi American                                    4.0              4.60   \n",
       "          American, Desserts                          4.0              4.60   \n",
       "          American, Mexican, Seafood                  4.0              4.00   \n",
       "          Asian                                       4.0              4.60   \n",
       "          Chinese                                     4.0              4.20   \n",
       "...                                                   ...               ...   \n",
       "€¡stanbul Restaurant Cafe                             3.5              3.85   \n",
       "          Restaurant Cafe, Desserts                   3.0              4.20   \n",
       "          Restaurant Cafe, Turkish, Desserts          3.0              4.20   \n",
       "          Turkish                                     3.0              4.10   \n",
       "          World Cuisine, Patisserie, Cafe             3.0              4.20   \n",
       "\n",
       "                                               Votes  \n",
       "City      Cuisines                                    \n",
       "Abu Dhabi American                             291.5  \n",
       "          American, Desserts                   586.0  \n",
       "          American, Mexican, Seafood           205.0  \n",
       "          Asian                                 81.0  \n",
       "          Chinese                              435.0  \n",
       "...                                              ...  \n",
       "€¡stanbul Restaurant Cafe                      703.5  \n",
       "          Restaurant Cafe, Desserts            874.0  \n",
       "          Restaurant Cafe, Turkish, Desserts   877.0  \n",
       "          Turkish                              788.0  \n",
       "          World Cuisine, Patisserie, Cafe     1034.0  \n",
       "\n",
       "[3023 rows x 8 columns]"
      ]
     },
     "execution_count": 63,
     "metadata": {},
     "output_type": "execute_result"
    }
   ],
   "source": [
    "#Grouped_data = data.groupby(['Cuisines','Aggregate rating']),['Countries'].count().sort_values(ascending=False)\n",
    "# Cuisines in India\n",
    "#Grouped_data_Country = Grouped_data.groupby['Countries'].count()\n",
    "Grouped_data = data.groupby(['City','Cuisines']).mean('Aggregate rating')\n",
    "Grouped_data"
   ]
  },
  {
   "cell_type": "code",
   "execution_count": 64,
   "metadata": {},
   "outputs": [
    {
     "data": {
      "text/html": [
       "<div>\n",
       "<style scoped>\n",
       "    .dataframe tbody tr th:only-of-type {\n",
       "        vertical-align: middle;\n",
       "    }\n",
       "\n",
       "    .dataframe tbody tr th {\n",
       "        vertical-align: top;\n",
       "    }\n",
       "\n",
       "    .dataframe thead th {\n",
       "        text-align: right;\n",
       "    }\n",
       "</style>\n",
       "<table border=\"1\" class=\"dataframe\">\n",
       "  <thead>\n",
       "    <tr style=\"text-align: right;\">\n",
       "      <th></th>\n",
       "      <th></th>\n",
       "      <th>Restaurant ID</th>\n",
       "      <th>Country Code</th>\n",
       "      <th>Longitude</th>\n",
       "      <th>Latitude</th>\n",
       "      <th>Average Cost for two</th>\n",
       "      <th>Price range</th>\n",
       "      <th>Aggregate rating</th>\n",
       "      <th>Votes</th>\n",
       "    </tr>\n",
       "    <tr>\n",
       "      <th>City</th>\n",
       "      <th>Cuisines</th>\n",
       "      <th></th>\n",
       "      <th></th>\n",
       "      <th></th>\n",
       "      <th></th>\n",
       "      <th></th>\n",
       "      <th></th>\n",
       "      <th></th>\n",
       "      <th></th>\n",
       "    </tr>\n",
       "  </thead>\n",
       "  <tbody>\n",
       "    <tr>\n",
       "      <th rowspan=\"2\" valign=\"top\">Abu Dhabi</th>\n",
       "      <th>American</th>\n",
       "      <td>11958195.0</td>\n",
       "      <td>214.0</td>\n",
       "      <td>54.382872</td>\n",
       "      <td>24.495598</td>\n",
       "      <td>225.0</td>\n",
       "      <td>4.0</td>\n",
       "      <td>4.6</td>\n",
       "      <td>291.5</td>\n",
       "    </tr>\n",
       "    <tr>\n",
       "      <th>American, Desserts</th>\n",
       "      <td>5702574.0</td>\n",
       "      <td>214.0</td>\n",
       "      <td>54.606854</td>\n",
       "      <td>24.490531</td>\n",
       "      <td>200.0</td>\n",
       "      <td>4.0</td>\n",
       "      <td>4.6</td>\n",
       "      <td>586.0</td>\n",
       "    </tr>\n",
       "  </tbody>\n",
       "</table>\n",
       "</div>"
      ],
      "text/plain": [
       "                              Restaurant ID  Country Code  Longitude  \\\n",
       "City      Cuisines                                                     \n",
       "Abu Dhabi American               11958195.0         214.0  54.382872   \n",
       "          American, Desserts      5702574.0         214.0  54.606854   \n",
       "\n",
       "                               Latitude  Average Cost for two  Price range  \\\n",
       "City      Cuisines                                                           \n",
       "Abu Dhabi American            24.495598                 225.0          4.0   \n",
       "          American, Desserts  24.490531                 200.0          4.0   \n",
       "\n",
       "                              Aggregate rating  Votes  \n",
       "City      Cuisines                                     \n",
       "Abu Dhabi American                         4.6  291.5  \n",
       "          American, Desserts               4.6  586.0  "
      ]
     },
     "execution_count": 64,
     "metadata": {},
     "output_type": "execute_result"
    }
   ],
   "source": [
    "Grouped_data.head(2)"
   ]
  },
  {
   "cell_type": "code",
   "execution_count": 65,
   "metadata": {},
   "outputs": [
    {
     "data": {
      "text/plain": [
       "Index(['Restaurant ID', 'Country Code', 'Longitude', 'Latitude',\n",
       "       'Average Cost for two', 'Price range', 'Aggregate rating', 'Votes'],\n",
       "      dtype='object')"
      ]
     },
     "execution_count": 65,
     "metadata": {},
     "output_type": "execute_result"
    }
   ],
   "source": [
    "Grouped_data.columns"
   ]
  },
  {
   "cell_type": "code",
   "execution_count": 66,
   "metadata": {},
   "outputs": [
    {
     "data": {
      "text/plain": [
       "City        Cuisines                    \n",
       "Inner City  Tapas                           4.9\n",
       "Pasig City  Filipino, Mexican               4.9\n",
       "London      Steak                           4.9\n",
       "Des Moines  American, Coffee and Tea        4.9\n",
       "Jaipur      Italian, Bakery, Continental    4.9\n",
       "Doha        Chinese                         4.9\n",
       "Pretoria    French                          4.9\n",
       "Inner City  European, Contemporary          4.9\n",
       "London      British                         4.9\n",
       "Kolkata     North Indian, Chinese           4.9\n",
       "Name: Aggregate rating, dtype: float64"
      ]
     },
     "execution_count": 66,
     "metadata": {},
     "output_type": "execute_result"
    }
   ],
   "source": [
    "Grouped_data['Aggregate rating'].sort_values(ascending=False).head(10)"
   ]
  },
  {
   "cell_type": "code",
   "execution_count": 67,
   "metadata": {},
   "outputs": [],
   "source": [
    "# # The top 10 cuisines according to the ratings are North Indian, Chinese, FastFood, \n",
    "# The top 10 restaurantsa are Tapas, Filipino,Mexican, Steak, American,Coffee and Tea, Italian, Bakery, Continetal, Chinese, French,\n",
    "# European, Contemporary, British, North Indian, Chinese are some of the top cuisines across cities.."
   ]
  },
  {
   "cell_type": "code",
   "execution_count": 68,
   "metadata": {},
   "outputs": [
    {
     "data": {
      "text/html": [
       "<div>\n",
       "<style scoped>\n",
       "    .dataframe tbody tr th:only-of-type {\n",
       "        vertical-align: middle;\n",
       "    }\n",
       "\n",
       "    .dataframe tbody tr th {\n",
       "        vertical-align: top;\n",
       "    }\n",
       "\n",
       "    .dataframe thead th {\n",
       "        text-align: right;\n",
       "    }\n",
       "</style>\n",
       "<table border=\"1\" class=\"dataframe\">\n",
       "  <thead>\n",
       "    <tr style=\"text-align: right;\">\n",
       "      <th></th>\n",
       "      <th>Restaurant ID</th>\n",
       "      <th>Country Code</th>\n",
       "      <th>Longitude</th>\n",
       "      <th>Latitude</th>\n",
       "      <th>Average Cost for two</th>\n",
       "      <th>Price range</th>\n",
       "      <th>Aggregate rating</th>\n",
       "      <th>Votes</th>\n",
       "    </tr>\n",
       "    <tr>\n",
       "      <th>Cuisines</th>\n",
       "      <th></th>\n",
       "      <th></th>\n",
       "      <th></th>\n",
       "      <th></th>\n",
       "      <th></th>\n",
       "      <th></th>\n",
       "      <th></th>\n",
       "      <th></th>\n",
       "    </tr>\n",
       "  </thead>\n",
       "  <tbody>\n",
       "    <tr>\n",
       "      <th>American, Burger</th>\n",
       "      <td>6.112627e+06</td>\n",
       "      <td>215.0</td>\n",
       "      <td>-0.128136</td>\n",
       "      <td>51.512859</td>\n",
       "      <td>33.333333</td>\n",
       "      <td>2.333333</td>\n",
       "      <td>4.133333</td>\n",
       "      <td>395.333333</td>\n",
       "    </tr>\n",
       "    <tr>\n",
       "      <th>British</th>\n",
       "      <td>6.114829e+06</td>\n",
       "      <td>215.0</td>\n",
       "      <td>-0.080963</td>\n",
       "      <td>51.516284</td>\n",
       "      <td>55.000000</td>\n",
       "      <td>3.000000</td>\n",
       "      <td>4.900000</td>\n",
       "      <td>706.000000</td>\n",
       "    </tr>\n",
       "    <tr>\n",
       "      <th>British, Contemporary</th>\n",
       "      <td>6.113857e+06</td>\n",
       "      <td>215.0</td>\n",
       "      <td>-0.141557</td>\n",
       "      <td>51.512669</td>\n",
       "      <td>100.000000</td>\n",
       "      <td>4.000000</td>\n",
       "      <td>4.500000</td>\n",
       "      <td>148.000000</td>\n",
       "    </tr>\n",
       "    <tr>\n",
       "      <th>Chinese, Dim Sum</th>\n",
       "      <td>6.103384e+06</td>\n",
       "      <td>215.0</td>\n",
       "      <td>-0.140045</td>\n",
       "      <td>51.512040</td>\n",
       "      <td>105.000000</td>\n",
       "      <td>4.000000</td>\n",
       "      <td>4.750000</td>\n",
       "      <td>860.500000</td>\n",
       "    </tr>\n",
       "    <tr>\n",
       "      <th>French</th>\n",
       "      <td>6.113680e+06</td>\n",
       "      <td>215.0</td>\n",
       "      <td>-0.162092</td>\n",
       "      <td>51.485509</td>\n",
       "      <td>230.000000</td>\n",
       "      <td>4.000000</td>\n",
       "      <td>4.700000</td>\n",
       "      <td>320.000000</td>\n",
       "    </tr>\n",
       "    <tr>\n",
       "      <th>Indian, Cafe, Curry</th>\n",
       "      <td>6.103922e+06</td>\n",
       "      <td>215.0</td>\n",
       "      <td>-0.076581</td>\n",
       "      <td>51.524536</td>\n",
       "      <td>55.000000</td>\n",
       "      <td>3.000000</td>\n",
       "      <td>4.500000</td>\n",
       "      <td>305.000000</td>\n",
       "    </tr>\n",
       "    <tr>\n",
       "      <th>Indian, Curry</th>\n",
       "      <td>6.100054e+06</td>\n",
       "      <td>215.0</td>\n",
       "      <td>-0.123132</td>\n",
       "      <td>51.513196</td>\n",
       "      <td>30.000000</td>\n",
       "      <td>2.000000</td>\n",
       "      <td>4.100000</td>\n",
       "      <td>316.000000</td>\n",
       "    </tr>\n",
       "    <tr>\n",
       "      <th>Indian, North Indian, Curry, Cafe</th>\n",
       "      <td>6.103211e+06</td>\n",
       "      <td>215.0</td>\n",
       "      <td>-0.127164</td>\n",
       "      <td>51.512417</td>\n",
       "      <td>35.000000</td>\n",
       "      <td>2.000000</td>\n",
       "      <td>4.700000</td>\n",
       "      <td>964.000000</td>\n",
       "    </tr>\n",
       "    <tr>\n",
       "      <th>Indian, Pakistani, Curry</th>\n",
       "      <td>6.118140e+06</td>\n",
       "      <td>215.0</td>\n",
       "      <td>-0.141645</td>\n",
       "      <td>51.508515</td>\n",
       "      <td>80.000000</td>\n",
       "      <td>4.000000</td>\n",
       "      <td>4.700000</td>\n",
       "      <td>214.000000</td>\n",
       "    </tr>\n",
       "    <tr>\n",
       "      <th>Indian, Street Food</th>\n",
       "      <td>6.104220e+06</td>\n",
       "      <td>215.0</td>\n",
       "      <td>-0.155732</td>\n",
       "      <td>51.514641</td>\n",
       "      <td>45.000000</td>\n",
       "      <td>3.000000</td>\n",
       "      <td>4.500000</td>\n",
       "      <td>367.000000</td>\n",
       "    </tr>\n",
       "    <tr>\n",
       "      <th>Italian</th>\n",
       "      <td>6.102782e+06</td>\n",
       "      <td>215.0</td>\n",
       "      <td>-0.130455</td>\n",
       "      <td>51.512110</td>\n",
       "      <td>47.500000</td>\n",
       "      <td>3.000000</td>\n",
       "      <td>4.400000</td>\n",
       "      <td>421.000000</td>\n",
       "    </tr>\n",
       "    <tr>\n",
       "      <th>Japanese, Sushi</th>\n",
       "      <td>6.103562e+06</td>\n",
       "      <td>215.0</td>\n",
       "      <td>-0.139392</td>\n",
       "      <td>51.513873</td>\n",
       "      <td>80.000000</td>\n",
       "      <td>3.500000</td>\n",
       "      <td>4.500000</td>\n",
       "      <td>373.500000</td>\n",
       "    </tr>\n",
       "    <tr>\n",
       "      <th>Ramen, Japanese</th>\n",
       "      <td>6.113973e+06</td>\n",
       "      <td>215.0</td>\n",
       "      <td>-0.133789</td>\n",
       "      <td>51.512627</td>\n",
       "      <td>40.000000</td>\n",
       "      <td>3.000000</td>\n",
       "      <td>4.600000</td>\n",
       "      <td>418.000000</td>\n",
       "    </tr>\n",
       "    <tr>\n",
       "      <th>Steak</th>\n",
       "      <td>6.114338e+06</td>\n",
       "      <td>215.0</td>\n",
       "      <td>-0.138343</td>\n",
       "      <td>51.512069</td>\n",
       "      <td>35.000000</td>\n",
       "      <td>2.000000</td>\n",
       "      <td>4.900000</td>\n",
       "      <td>309.000000</td>\n",
       "    </tr>\n",
       "    <tr>\n",
       "      <th>Taiwanese, Street Food</th>\n",
       "      <td>6.127163e+06</td>\n",
       "      <td>215.0</td>\n",
       "      <td>-0.136576</td>\n",
       "      <td>51.513225</td>\n",
       "      <td>20.000000</td>\n",
       "      <td>2.000000</td>\n",
       "      <td>4.900000</td>\n",
       "      <td>161.000000</td>\n",
       "    </tr>\n",
       "  </tbody>\n",
       "</table>\n",
       "</div>"
      ],
      "text/plain": [
       "                                   Restaurant ID  Country Code  Longitude  \\\n",
       "Cuisines                                                                    \n",
       "American, Burger                    6.112627e+06         215.0  -0.128136   \n",
       "British                             6.114829e+06         215.0  -0.080963   \n",
       "British, Contemporary               6.113857e+06         215.0  -0.141557   \n",
       "Chinese, Dim Sum                    6.103384e+06         215.0  -0.140045   \n",
       "French                              6.113680e+06         215.0  -0.162092   \n",
       "Indian, Cafe, Curry                 6.103922e+06         215.0  -0.076581   \n",
       "Indian, Curry                       6.100054e+06         215.0  -0.123132   \n",
       "Indian, North Indian, Curry, Cafe   6.103211e+06         215.0  -0.127164   \n",
       "Indian, Pakistani, Curry            6.118140e+06         215.0  -0.141645   \n",
       "Indian, Street Food                 6.104220e+06         215.0  -0.155732   \n",
       "Italian                             6.102782e+06         215.0  -0.130455   \n",
       "Japanese, Sushi                     6.103562e+06         215.0  -0.139392   \n",
       "Ramen, Japanese                     6.113973e+06         215.0  -0.133789   \n",
       "Steak                               6.114338e+06         215.0  -0.138343   \n",
       "Taiwanese, Street Food              6.127163e+06         215.0  -0.136576   \n",
       "\n",
       "                                    Latitude  Average Cost for two  \\\n",
       "Cuisines                                                             \n",
       "American, Burger                   51.512859             33.333333   \n",
       "British                            51.516284             55.000000   \n",
       "British, Contemporary              51.512669            100.000000   \n",
       "Chinese, Dim Sum                   51.512040            105.000000   \n",
       "French                             51.485509            230.000000   \n",
       "Indian, Cafe, Curry                51.524536             55.000000   \n",
       "Indian, Curry                      51.513196             30.000000   \n",
       "Indian, North Indian, Curry, Cafe  51.512417             35.000000   \n",
       "Indian, Pakistani, Curry           51.508515             80.000000   \n",
       "Indian, Street Food                51.514641             45.000000   \n",
       "Italian                            51.512110             47.500000   \n",
       "Japanese, Sushi                    51.513873             80.000000   \n",
       "Ramen, Japanese                    51.512627             40.000000   \n",
       "Steak                              51.512069             35.000000   \n",
       "Taiwanese, Street Food             51.513225             20.000000   \n",
       "\n",
       "                                   Price range  Aggregate rating       Votes  \n",
       "Cuisines                                                                      \n",
       "American, Burger                      2.333333          4.133333  395.333333  \n",
       "British                               3.000000          4.900000  706.000000  \n",
       "British, Contemporary                 4.000000          4.500000  148.000000  \n",
       "Chinese, Dim Sum                      4.000000          4.750000  860.500000  \n",
       "French                                4.000000          4.700000  320.000000  \n",
       "Indian, Cafe, Curry                   3.000000          4.500000  305.000000  \n",
       "Indian, Curry                         2.000000          4.100000  316.000000  \n",
       "Indian, North Indian, Curry, Cafe     2.000000          4.700000  964.000000  \n",
       "Indian, Pakistani, Curry              4.000000          4.700000  214.000000  \n",
       "Indian, Street Food                   3.000000          4.500000  367.000000  \n",
       "Italian                               3.000000          4.400000  421.000000  \n",
       "Japanese, Sushi                       3.500000          4.500000  373.500000  \n",
       "Ramen, Japanese                       3.000000          4.600000  418.000000  \n",
       "Steak                                 2.000000          4.900000  309.000000  \n",
       "Taiwanese, Street Food                2.000000          4.900000  161.000000  "
      ]
     },
     "execution_count": 68,
     "metadata": {},
     "output_type": "execute_result"
    }
   ],
   "source": [
    "\n",
    "Grouped_data.loc['London']"
   ]
  },
  {
   "cell_type": "code",
   "execution_count": 69,
   "metadata": {},
   "outputs": [
    {
     "data": {
      "text/plain": [
       "array(['Jakarta', 'Tangerang', 'Bogor', 'Bandung', 'New Delhi',\n",
       "       'Pasay City', 'Gurgaon', 'Colombo', 'Mandaluyong City', 'Agra',\n",
       "       'Noida', 'Pretoria', 'Taguig City', 'Kanpur', 'Ghaziabad',\n",
       "       'Jaipur', 'Bangalore', 'Chandigarh', 'Pune', 'Chennai', 'Goa',\n",
       "       'Hyderabad', 'Indore', 'Lucknow', 'Ludhiana', 'Panchkula',\n",
       "       'Ranchi', 'Faridabad', 'Kolkata', 'Ahmedabad', 'Aurangabad',\n",
       "       'Bhopal', 'Mysore', 'Vizag', 'Guwahati', 'Dehradun', 'Mangalore',\n",
       "       'Nagpur', 'Patna', 'Inner City', 'Bhubaneshwar', 'Coimbatore',\n",
       "       'Kochi', 'Mumbai', 'Nashik', 'Puducherry', 'Surat', 'Vadodara',\n",
       "       'Makati City', 'Tagaytay City', 'Amritsar', 'Pasig City',\n",
       "       'Varanasi', 'San Juan City', 'Allahabad', 'Johannesburg',\n",
       "       'Santa Rosa', 'Secunderabad', 'Quezon City', 'Cape Town', 'Mohali',\n",
       "       'Doha', 'Sandton', 'Singapore', 'Abu Dhabi', 'Dubai', 'SÌ£o Paulo',\n",
       "       'Ankara', 'BrasÌ_lia', 'Rio de Janeiro', 'Sharjah', 'London',\n",
       "       'Wellington City', 'Randburg', 'Auckland', '€¡stanbul',\n",
       "       'Manchester', 'Paynesville', 'Birmingham', 'Orlando', 'Edinburgh',\n",
       "       'Albany', 'Boise', 'Davenport', 'Des Moines', 'Dubuque', 'Macon',\n",
       "       'Princeton', 'Rest of Hawaii', 'Savannah', 'Sioux City',\n",
       "       'Tampa Bay', 'Valdosta', 'Vineland Station', 'Pocatello', 'Athens',\n",
       "       'Augusta', 'Cedar Rapids/Iowa City', 'Columbus', 'Dalton',\n",
       "       'Gainesville', 'Ojo Caliente', 'Pensacola', 'Waterloo', 'Flaxton',\n",
       "       'Middleton Beach', 'Montville', 'Palm Cove', 'Tanunda',\n",
       "       'Chatham-Kent', 'Cochrane', 'Consort', 'Lincoln', 'Monroe',\n",
       "       'Potrero', 'Weirton', 'Winchester Bay', 'Yorkton', 'Armidale',\n",
       "       'Balingup', 'Beechworth', 'East Ballina', 'Forrest',\n",
       "       'Hepburn Springs', 'Huskisson', 'Lorn', 'Macedon', 'Mayfield',\n",
       "       'Penola', 'Phillip Island', 'Trentham East', 'Victor Harbor',\n",
       "       'Clatskanie', 'Fernley', 'Lakeview', 'Mc Millan', 'Vernonia',\n",
       "       'Dicky Beach', 'Inverloch', 'Lakes Entrance'], dtype=object)"
      ]
     },
     "execution_count": 69,
     "metadata": {},
     "output_type": "execute_result"
    }
   ],
   "source": [
    "data['City'].unique()"
   ]
  },
  {
   "cell_type": "code",
   "execution_count": 70,
   "metadata": {},
   "outputs": [
    {
     "data": {
      "text/plain": [
       "array(['Skye', 'Satoo - Hotel Shangri-La', 'Sushi Masa', ...,\n",
       "       'UrbanCrave', 'Deena Chat Bhandar', 'VNS Live Studio'],\n",
       "      dtype=object)"
      ]
     },
     "execution_count": 70,
     "metadata": {},
     "output_type": "execute_result"
    }
   ],
   "source": [
    "# What is the maximum and minimum number of cuisines that a restaurant serves?\n",
    "# Also, which is the most served cuisine across the restaurant for each city?\n",
    "\n",
    "data['Restaurant Name'].unique()"
   ]
  },
  {
   "cell_type": "code",
   "execution_count": 71,
   "metadata": {},
   "outputs": [
    {
     "data": {
      "text/plain": [
       "array(['Skye', 'Satoo - Hotel Shangri-La', 'Sushi Masa', ...,\n",
       "       'UrbanCrave', 'Deena Chat Bhandar', 'VNS Live Studio'],\n",
       "      dtype=object)"
      ]
     },
     "execution_count": 71,
     "metadata": {},
     "output_type": "execute_result"
    }
   ],
   "source": [
    "data['Restaurant Name'].unique()"
   ]
  },
  {
   "cell_type": "code",
   "execution_count": 72,
   "metadata": {},
   "outputs": [
    {
     "data": {
      "text/plain": [
       "7436"
      ]
     },
     "execution_count": 72,
     "metadata": {},
     "output_type": "execute_result"
    }
   ],
   "source": [
    "len(pandas.unique(data['Restaurant Name']))"
   ]
  },
  {
   "cell_type": "code",
   "execution_count": 73,
   "metadata": {},
   "outputs": [
    {
     "data": {
      "text/plain": [
       "Restaurant Name\n",
       "12212                   1\n",
       " Let's Burrrp           1\n",
       "#45                     1\n",
       "#Dilliwaala6            1\n",
       "#InstaFreeze            1\n",
       "                       ..\n",
       "t Lounge by Dilmah      1\n",
       "tashas                  1\n",
       "wagamama                1\n",
       "{Niche} - Cafe & Bar    1\n",
       "Ìàukura€Ùa Sofras€±     1\n",
       "Name: Cuisines, Length: 7436, dtype: int64"
      ]
     },
     "execution_count": 73,
     "metadata": {},
     "output_type": "execute_result"
    }
   ],
   "source": [
    "data.groupby(['Restaurant Name'])['Cuisines'].count()"
   ]
  },
  {
   "cell_type": "code",
   "execution_count": 74,
   "metadata": {},
   "outputs": [
    {
     "data": {
      "text/html": [
       "<div>\n",
       "<style scoped>\n",
       "    .dataframe tbody tr th:only-of-type {\n",
       "        vertical-align: middle;\n",
       "    }\n",
       "\n",
       "    .dataframe tbody tr th {\n",
       "        vertical-align: top;\n",
       "    }\n",
       "\n",
       "    .dataframe thead th {\n",
       "        text-align: right;\n",
       "    }\n",
       "</style>\n",
       "<table border=\"1\" class=\"dataframe\">\n",
       "  <thead>\n",
       "    <tr style=\"text-align: right;\">\n",
       "      <th></th>\n",
       "      <th></th>\n",
       "      <th>Count</th>\n",
       "    </tr>\n",
       "    <tr>\n",
       "      <th>Countries</th>\n",
       "      <th>City</th>\n",
       "      <th></th>\n",
       "    </tr>\n",
       "  </thead>\n",
       "  <tbody>\n",
       "    <tr>\n",
       "      <th rowspan=\"5\" valign=\"top\">Australia</th>\n",
       "      <th>Armidale</th>\n",
       "      <td>1</td>\n",
       "    </tr>\n",
       "    <tr>\n",
       "      <th>Balingup</th>\n",
       "      <td>1</td>\n",
       "    </tr>\n",
       "    <tr>\n",
       "      <th>Beechworth</th>\n",
       "      <td>1</td>\n",
       "    </tr>\n",
       "    <tr>\n",
       "      <th>Dicky Beach</th>\n",
       "      <td>1</td>\n",
       "    </tr>\n",
       "    <tr>\n",
       "      <th>East Ballina</th>\n",
       "      <td>1</td>\n",
       "    </tr>\n",
       "    <tr>\n",
       "      <th>...</th>\n",
       "      <th>...</th>\n",
       "      <td>...</td>\n",
       "    </tr>\n",
       "    <tr>\n",
       "      <th rowspan=\"5\" valign=\"top\">United States</th>\n",
       "      <th>Valdosta</th>\n",
       "      <td>20</td>\n",
       "    </tr>\n",
       "    <tr>\n",
       "      <th>Vernonia</th>\n",
       "      <td>1</td>\n",
       "    </tr>\n",
       "    <tr>\n",
       "      <th>Waterloo</th>\n",
       "      <td>20</td>\n",
       "    </tr>\n",
       "    <tr>\n",
       "      <th>Weirton</th>\n",
       "      <td>1</td>\n",
       "    </tr>\n",
       "    <tr>\n",
       "      <th>Winchester Bay</th>\n",
       "      <td>1</td>\n",
       "    </tr>\n",
       "  </tbody>\n",
       "</table>\n",
       "<p>140 rows × 1 columns</p>\n",
       "</div>"
      ],
      "text/plain": [
       "                              Count\n",
       "Countries     City                 \n",
       "Australia     Armidale            1\n",
       "              Balingup            1\n",
       "              Beechworth          1\n",
       "              Dicky Beach         1\n",
       "              East Ballina        1\n",
       "...                             ...\n",
       "United States Valdosta           20\n",
       "              Vernonia            1\n",
       "              Waterloo           20\n",
       "              Weirton             1\n",
       "              Winchester Bay      1\n",
       "\n",
       "[140 rows x 1 columns]"
      ]
     },
     "execution_count": 74,
     "metadata": {},
     "output_type": "execute_result"
    }
   ],
   "source": [
    "city_count = data.groupby(['Countries','City']).agg(Count = ('Restaurant ID','count'))\n",
    "city_count"
   ]
  },
  {
   "cell_type": "code",
   "execution_count": 75,
   "metadata": {},
   "outputs": [
    {
     "data": {
      "text/html": [
       "<div>\n",
       "<style scoped>\n",
       "    .dataframe tbody tr th:only-of-type {\n",
       "        vertical-align: middle;\n",
       "    }\n",
       "\n",
       "    .dataframe tbody tr th {\n",
       "        vertical-align: top;\n",
       "    }\n",
       "\n",
       "    .dataframe thead th {\n",
       "        text-align: right;\n",
       "    }\n",
       "</style>\n",
       "<table border=\"1\" class=\"dataframe\">\n",
       "  <thead>\n",
       "    <tr style=\"text-align: right;\">\n",
       "      <th></th>\n",
       "      <th></th>\n",
       "      <th>Count</th>\n",
       "    </tr>\n",
       "    <tr>\n",
       "      <th>Countries</th>\n",
       "      <th>City</th>\n",
       "      <th></th>\n",
       "    </tr>\n",
       "  </thead>\n",
       "  <tbody>\n",
       "    <tr>\n",
       "      <th rowspan=\"7\" valign=\"top\">India</th>\n",
       "      <th>New Delhi</th>\n",
       "      <td>5473</td>\n",
       "    </tr>\n",
       "    <tr>\n",
       "      <th>Gurgaon</th>\n",
       "      <td>1118</td>\n",
       "    </tr>\n",
       "    <tr>\n",
       "      <th>Noida</th>\n",
       "      <td>1080</td>\n",
       "    </tr>\n",
       "    <tr>\n",
       "      <th>Faridabad</th>\n",
       "      <td>251</td>\n",
       "    </tr>\n",
       "    <tr>\n",
       "      <th>Ghaziabad</th>\n",
       "      <td>25</td>\n",
       "    </tr>\n",
       "    <tr>\n",
       "      <th>...</th>\n",
       "      <td>...</td>\n",
       "    </tr>\n",
       "    <tr>\n",
       "      <th>Panchkula</th>\n",
       "      <td>1</td>\n",
       "    </tr>\n",
       "    <tr>\n",
       "      <th>Australia</th>\n",
       "      <th>Balingup</th>\n",
       "      <td>1</td>\n",
       "    </tr>\n",
       "    <tr>\n",
       "      <th>Indonesia</th>\n",
       "      <th>Bandung</th>\n",
       "      <td>1</td>\n",
       "    </tr>\n",
       "    <tr>\n",
       "      <th>Phillipines</th>\n",
       "      <th>Quezon City</th>\n",
       "      <td>1</td>\n",
       "    </tr>\n",
       "    <tr>\n",
       "      <th>United States</th>\n",
       "      <th>Winchester Bay</th>\n",
       "      <td>1</td>\n",
       "    </tr>\n",
       "  </tbody>\n",
       "</table>\n",
       "<p>140 rows × 1 columns</p>\n",
       "</div>"
      ],
      "text/plain": [
       "                              Count\n",
       "Countries     City                 \n",
       "India         New Delhi        5473\n",
       "              Gurgaon          1118\n",
       "              Noida            1080\n",
       "              Faridabad         251\n",
       "              Ghaziabad          25\n",
       "...                             ...\n",
       "              Panchkula           1\n",
       "Australia     Balingup            1\n",
       "Indonesia     Bandung             1\n",
       "Phillipines   Quezon City         1\n",
       "United States Winchester Bay      1\n",
       "\n",
       "[140 rows x 1 columns]"
      ]
     },
     "execution_count": 75,
     "metadata": {},
     "output_type": "execute_result"
    }
   ],
   "source": [
    "city_count.sort_values(by='Count', ascending= False)"
   ]
  },
  {
   "cell_type": "code",
   "execution_count": 76,
   "metadata": {},
   "outputs": [],
   "source": [
    "# From the above analysis,we can say that New Delhi has highest count of restaurants (5473) in our data.\n",
    "# There are many cities that only has one Restaurant."
   ]
  },
  {
   "cell_type": "code",
   "execution_count": 77,
   "metadata": {},
   "outputs": [
    {
     "data": {
      "text/html": [
       "<div>\n",
       "<style scoped>\n",
       "    .dataframe tbody tr th:only-of-type {\n",
       "        vertical-align: middle;\n",
       "    }\n",
       "\n",
       "    .dataframe tbody tr th {\n",
       "        vertical-align: top;\n",
       "    }\n",
       "\n",
       "    .dataframe thead th {\n",
       "        text-align: right;\n",
       "    }\n",
       "</style>\n",
       "<table border=\"1\" class=\"dataframe\">\n",
       "  <thead>\n",
       "    <tr style=\"text-align: right;\">\n",
       "      <th></th>\n",
       "      <th></th>\n",
       "      <th>Count</th>\n",
       "    </tr>\n",
       "    <tr>\n",
       "      <th>Countries</th>\n",
       "      <th>City</th>\n",
       "      <th></th>\n",
       "    </tr>\n",
       "  </thead>\n",
       "  <tbody>\n",
       "    <tr>\n",
       "      <th rowspan=\"22\" valign=\"top\">Australia</th>\n",
       "      <th>Armidale</th>\n",
       "      <td>1</td>\n",
       "    </tr>\n",
       "    <tr>\n",
       "      <th>Balingup</th>\n",
       "      <td>1</td>\n",
       "    </tr>\n",
       "    <tr>\n",
       "      <th>Beechworth</th>\n",
       "      <td>1</td>\n",
       "    </tr>\n",
       "    <tr>\n",
       "      <th>Dicky Beach</th>\n",
       "      <td>1</td>\n",
       "    </tr>\n",
       "    <tr>\n",
       "      <th>East Ballina</th>\n",
       "      <td>1</td>\n",
       "    </tr>\n",
       "    <tr>\n",
       "      <th>Flaxton</th>\n",
       "      <td>1</td>\n",
       "    </tr>\n",
       "    <tr>\n",
       "      <th>Forrest</th>\n",
       "      <td>1</td>\n",
       "    </tr>\n",
       "    <tr>\n",
       "      <th>Huskisson</th>\n",
       "      <td>1</td>\n",
       "    </tr>\n",
       "    <tr>\n",
       "      <th>Inverloch</th>\n",
       "      <td>1</td>\n",
       "    </tr>\n",
       "    <tr>\n",
       "      <th>Lakes Entrance</th>\n",
       "      <td>1</td>\n",
       "    </tr>\n",
       "    <tr>\n",
       "      <th>Lorn</th>\n",
       "      <td>1</td>\n",
       "    </tr>\n",
       "    <tr>\n",
       "      <th>Macedon</th>\n",
       "      <td>1</td>\n",
       "    </tr>\n",
       "    <tr>\n",
       "      <th>Mayfield</th>\n",
       "      <td>1</td>\n",
       "    </tr>\n",
       "    <tr>\n",
       "      <th>Middleton Beach</th>\n",
       "      <td>1</td>\n",
       "    </tr>\n",
       "    <tr>\n",
       "      <th>Montville</th>\n",
       "      <td>1</td>\n",
       "    </tr>\n",
       "    <tr>\n",
       "      <th>Palm Cove</th>\n",
       "      <td>1</td>\n",
       "    </tr>\n",
       "    <tr>\n",
       "      <th>Paynesville</th>\n",
       "      <td>1</td>\n",
       "    </tr>\n",
       "    <tr>\n",
       "      <th>Penola</th>\n",
       "      <td>1</td>\n",
       "    </tr>\n",
       "    <tr>\n",
       "      <th>Phillip Island</th>\n",
       "      <td>1</td>\n",
       "    </tr>\n",
       "    <tr>\n",
       "      <th>Tanunda</th>\n",
       "      <td>1</td>\n",
       "    </tr>\n",
       "    <tr>\n",
       "      <th>Trentham East</th>\n",
       "      <td>1</td>\n",
       "    </tr>\n",
       "    <tr>\n",
       "      <th>Victor Harbor</th>\n",
       "      <td>1</td>\n",
       "    </tr>\n",
       "    <tr>\n",
       "      <th rowspan=\"4\" valign=\"top\">Canada</th>\n",
       "      <th>Chatham-Kent</th>\n",
       "      <td>1</td>\n",
       "    </tr>\n",
       "    <tr>\n",
       "      <th>Consort</th>\n",
       "      <td>1</td>\n",
       "    </tr>\n",
       "    <tr>\n",
       "      <th>Vineland Station</th>\n",
       "      <td>1</td>\n",
       "    </tr>\n",
       "    <tr>\n",
       "      <th>Yorkton</th>\n",
       "      <td>1</td>\n",
       "    </tr>\n",
       "    <tr>\n",
       "      <th rowspan=\"2\" valign=\"top\">India</th>\n",
       "      <th>Mohali</th>\n",
       "      <td>1</td>\n",
       "    </tr>\n",
       "    <tr>\n",
       "      <th>Panchkula</th>\n",
       "      <td>1</td>\n",
       "    </tr>\n",
       "    <tr>\n",
       "      <th>Indonesia</th>\n",
       "      <th>Bandung</th>\n",
       "      <td>1</td>\n",
       "    </tr>\n",
       "    <tr>\n",
       "      <th rowspan=\"2\" valign=\"top\">Phillipines</th>\n",
       "      <th>Quezon City</th>\n",
       "      <td>1</td>\n",
       "    </tr>\n",
       "    <tr>\n",
       "      <th>Tagaytay City</th>\n",
       "      <td>1</td>\n",
       "    </tr>\n",
       "    <tr>\n",
       "      <th>South Africa</th>\n",
       "      <th>Randburg</th>\n",
       "      <td>1</td>\n",
       "    </tr>\n",
       "    <tr>\n",
       "      <th rowspan=\"13\" valign=\"top\">United States</th>\n",
       "      <th>Clatskanie</th>\n",
       "      <td>1</td>\n",
       "    </tr>\n",
       "    <tr>\n",
       "      <th>Cochrane</th>\n",
       "      <td>1</td>\n",
       "    </tr>\n",
       "    <tr>\n",
       "      <th>Fernley</th>\n",
       "      <td>1</td>\n",
       "    </tr>\n",
       "    <tr>\n",
       "      <th>Lakeview</th>\n",
       "      <td>1</td>\n",
       "    </tr>\n",
       "    <tr>\n",
       "      <th>Lincoln</th>\n",
       "      <td>1</td>\n",
       "    </tr>\n",
       "    <tr>\n",
       "      <th>Mc Millan</th>\n",
       "      <td>1</td>\n",
       "    </tr>\n",
       "    <tr>\n",
       "      <th>Monroe</th>\n",
       "      <td>1</td>\n",
       "    </tr>\n",
       "    <tr>\n",
       "      <th>Ojo Caliente</th>\n",
       "      <td>1</td>\n",
       "    </tr>\n",
       "    <tr>\n",
       "      <th>Potrero</th>\n",
       "      <td>1</td>\n",
       "    </tr>\n",
       "    <tr>\n",
       "      <th>Princeton</th>\n",
       "      <td>1</td>\n",
       "    </tr>\n",
       "    <tr>\n",
       "      <th>Vernonia</th>\n",
       "      <td>1</td>\n",
       "    </tr>\n",
       "    <tr>\n",
       "      <th>Weirton</th>\n",
       "      <td>1</td>\n",
       "    </tr>\n",
       "    <tr>\n",
       "      <th>Winchester Bay</th>\n",
       "      <td>1</td>\n",
       "    </tr>\n",
       "  </tbody>\n",
       "</table>\n",
       "</div>"
      ],
      "text/plain": [
       "                                Count\n",
       "Countries     City                   \n",
       "Australia     Armidale              1\n",
       "              Balingup              1\n",
       "              Beechworth            1\n",
       "              Dicky Beach           1\n",
       "              East Ballina          1\n",
       "              Flaxton               1\n",
       "              Forrest               1\n",
       "              Huskisson             1\n",
       "              Inverloch             1\n",
       "              Lakes Entrance        1\n",
       "              Lorn                  1\n",
       "              Macedon               1\n",
       "              Mayfield              1\n",
       "              Middleton Beach       1\n",
       "              Montville             1\n",
       "              Palm Cove             1\n",
       "              Paynesville           1\n",
       "              Penola                1\n",
       "              Phillip Island        1\n",
       "              Tanunda               1\n",
       "              Trentham East         1\n",
       "              Victor Harbor         1\n",
       "Canada        Chatham-Kent          1\n",
       "              Consort               1\n",
       "              Vineland Station      1\n",
       "              Yorkton               1\n",
       "India         Mohali                1\n",
       "              Panchkula             1\n",
       "Indonesia     Bandung               1\n",
       "Phillipines   Quezon City           1\n",
       "              Tagaytay City         1\n",
       "South Africa  Randburg              1\n",
       "United States Clatskanie            1\n",
       "              Cochrane              1\n",
       "              Fernley               1\n",
       "              Lakeview              1\n",
       "              Lincoln               1\n",
       "              Mc Millan             1\n",
       "              Monroe                1\n",
       "              Ojo Caliente          1\n",
       "              Potrero               1\n",
       "              Princeton             1\n",
       "              Vernonia              1\n",
       "              Weirton               1\n",
       "              Winchester Bay        1"
      ]
     },
     "execution_count": 77,
     "metadata": {},
     "output_type": "execute_result"
    }
   ],
   "source": [
    "# The below Restaurants that has minimum( only 1) Restaurant in our data\n",
    "\n",
    "city_count[city_count['Count']==1]"
   ]
  },
  {
   "cell_type": "code",
   "execution_count": 78,
   "metadata": {},
   "outputs": [
    {
     "data": {
      "text/html": [
       "<div>\n",
       "<style scoped>\n",
       "    .dataframe tbody tr th:only-of-type {\n",
       "        vertical-align: middle;\n",
       "    }\n",
       "\n",
       "    .dataframe tbody tr th {\n",
       "        vertical-align: top;\n",
       "    }\n",
       "\n",
       "    .dataframe thead th {\n",
       "        text-align: right;\n",
       "    }\n",
       "</style>\n",
       "<table border=\"1\" class=\"dataframe\">\n",
       "  <thead>\n",
       "    <tr style=\"text-align: right;\">\n",
       "      <th></th>\n",
       "      <th></th>\n",
       "      <th>Restaurant ID</th>\n",
       "      <th>Country Code</th>\n",
       "      <th>Longitude</th>\n",
       "      <th>Latitude</th>\n",
       "      <th>Average Cost for two</th>\n",
       "      <th>Price range</th>\n",
       "      <th>Aggregate rating</th>\n",
       "      <th>Votes</th>\n",
       "    </tr>\n",
       "    <tr>\n",
       "      <th>City</th>\n",
       "      <th>Cuisines</th>\n",
       "      <th></th>\n",
       "      <th></th>\n",
       "      <th></th>\n",
       "      <th></th>\n",
       "      <th></th>\n",
       "      <th></th>\n",
       "      <th></th>\n",
       "      <th></th>\n",
       "    </tr>\n",
       "  </thead>\n",
       "  <tbody>\n",
       "    <tr>\n",
       "      <th rowspan=\"2\" valign=\"top\">Abu Dhabi</th>\n",
       "      <th>American</th>\n",
       "      <td>11958195.0</td>\n",
       "      <td>214.0</td>\n",
       "      <td>54.382872</td>\n",
       "      <td>24.495598</td>\n",
       "      <td>225.0</td>\n",
       "      <td>4.0</td>\n",
       "      <td>4.6</td>\n",
       "      <td>291.5</td>\n",
       "    </tr>\n",
       "    <tr>\n",
       "      <th>American, Desserts</th>\n",
       "      <td>5702574.0</td>\n",
       "      <td>214.0</td>\n",
       "      <td>54.606854</td>\n",
       "      <td>24.490531</td>\n",
       "      <td>200.0</td>\n",
       "      <td>4.0</td>\n",
       "      <td>4.6</td>\n",
       "      <td>586.0</td>\n",
       "    </tr>\n",
       "  </tbody>\n",
       "</table>\n",
       "</div>"
      ],
      "text/plain": [
       "                              Restaurant ID  Country Code  Longitude  \\\n",
       "City      Cuisines                                                     \n",
       "Abu Dhabi American               11958195.0         214.0  54.382872   \n",
       "          American, Desserts      5702574.0         214.0  54.606854   \n",
       "\n",
       "                               Latitude  Average Cost for two  Price range  \\\n",
       "City      Cuisines                                                           \n",
       "Abu Dhabi American            24.495598                 225.0          4.0   \n",
       "          American, Desserts  24.490531                 200.0          4.0   \n",
       "\n",
       "                              Aggregate rating  Votes  \n",
       "City      Cuisines                                     \n",
       "Abu Dhabi American                         4.6  291.5  \n",
       "          American, Desserts               4.6  586.0  "
      ]
     },
     "execution_count": 78,
     "metadata": {},
     "output_type": "execute_result"
    }
   ],
   "source": [
    "# Cuisines served in New Delhi Restaurants\n",
    "Grouped_data.head(2)"
   ]
  },
  {
   "cell_type": "code",
   "execution_count": 79,
   "metadata": {},
   "outputs": [
    {
     "data": {
      "text/plain": [
       "Index(['Restaurant ID', 'Country Code', 'Longitude', 'Latitude',\n",
       "       'Average Cost for two', 'Price range', 'Aggregate rating', 'Votes'],\n",
       "      dtype='object')"
      ]
     },
     "execution_count": 79,
     "metadata": {},
     "output_type": "execute_result"
    }
   ],
   "source": [
    "Grouped_data.columns"
   ]
  },
  {
   "cell_type": "code",
   "execution_count": 80,
   "metadata": {},
   "outputs": [
    {
     "data": {
      "text/plain": [
       "North Indian                                   658\n",
       "North Indian, Chinese                          284\n",
       "Fast Food                                      242\n",
       "Chinese                                        228\n",
       "North Indian, Mughlai                          207\n",
       "                                              ... \n",
       "Italian, Continental, Fast Food, Chinese         1\n",
       "Continental, Thai, Chinese, North Indian         1\n",
       "Continental, Seafood, North Indian               1\n",
       "Continental, Fast Food, North Indian, Asian      1\n",
       "Fast Food, Chinese, Mithai, Street Food          1\n",
       "Name: Cuisines, Length: 892, dtype: int64"
      ]
     },
     "execution_count": 80,
     "metadata": {},
     "output_type": "execute_result"
    }
   ],
   "source": [
    "data.loc[data['City']=='New Delhi','Cuisines'].value_counts()"
   ]
  },
  {
   "cell_type": "code",
   "execution_count": 81,
   "metadata": {},
   "outputs": [],
   "source": [
    "# North Indian is the most served cuisine in New Delhi Restaurants\n",
    "# Some of the cuisines are least served cuisines in New Delhi Restuarants"
   ]
  },
  {
   "cell_type": "code",
   "execution_count": 82,
   "metadata": {},
   "outputs": [
    {
     "data": {
      "text/plain": [
       "1318                                   Vietnamese\n",
       "306        Turkish, Mediterranean, Middle Eastern\n",
       "5237         Turkish, Arabian, Moroccan, Lebanese\n",
       "3125                                      Turkish\n",
       "2824                                      Turkish\n",
       "                          ...                    \n",
       "5327                                     American\n",
       "4158    Afghani, North Indian, Pakistani, Arabian\n",
       "3791                    Afghani, Mughlai, Chinese\n",
       "3388                                      Afghani\n",
       "6353                                      Afghani\n",
       "Name: Cuisines, Length: 5473, dtype: object"
      ]
     },
     "execution_count": 82,
     "metadata": {},
     "output_type": "execute_result"
    }
   ],
   "source": [
    "data.loc[data['City']== 'New Delhi','Cuisines'].sort_values(ascending=False)"
   ]
  },
  {
   "cell_type": "code",
   "execution_count": 83,
   "metadata": {},
   "outputs": [
    {
     "data": {
      "text/html": [
       "<div>\n",
       "<style scoped>\n",
       "    .dataframe tbody tr th:only-of-type {\n",
       "        vertical-align: middle;\n",
       "    }\n",
       "\n",
       "    .dataframe tbody tr th {\n",
       "        vertical-align: top;\n",
       "    }\n",
       "\n",
       "    .dataframe thead th {\n",
       "        text-align: right;\n",
       "    }\n",
       "</style>\n",
       "<table border=\"1\" class=\"dataframe\">\n",
       "  <thead>\n",
       "    <tr style=\"text-align: right;\">\n",
       "      <th></th>\n",
       "      <th></th>\n",
       "      <th></th>\n",
       "      <th>Count</th>\n",
       "    </tr>\n",
       "    <tr>\n",
       "      <th>City</th>\n",
       "      <th>Restaurant Name</th>\n",
       "      <th>Cuisines</th>\n",
       "      <th></th>\n",
       "    </tr>\n",
       "  </thead>\n",
       "  <tbody>\n",
       "    <tr>\n",
       "      <th rowspan=\"10\" valign=\"top\">New Delhi</th>\n",
       "      <th>Cafe Coffee Day</th>\n",
       "      <th>Cafe</th>\n",
       "      <td>57</td>\n",
       "    </tr>\n",
       "    <tr>\n",
       "      <th>Domino's Pizza</th>\n",
       "      <th>Pizza, Fast Food</th>\n",
       "      <td>55</td>\n",
       "    </tr>\n",
       "    <tr>\n",
       "      <th>Subway</th>\n",
       "      <th>American, Fast Food, Salad, Healthy Food</th>\n",
       "      <td>38</td>\n",
       "    </tr>\n",
       "    <tr>\n",
       "      <th>Green Chick Chop</th>\n",
       "      <th>Raw Meats, North Indian, Fast Food</th>\n",
       "      <td>35</td>\n",
       "    </tr>\n",
       "    <tr>\n",
       "      <th>McDonald's</th>\n",
       "      <th>Fast Food, Burger</th>\n",
       "      <td>33</td>\n",
       "    </tr>\n",
       "    <tr>\n",
       "      <th>...</th>\n",
       "      <th>...</th>\n",
       "      <td>...</td>\n",
       "    </tr>\n",
       "    <tr>\n",
       "      <th>Bhukkad</th>\n",
       "      <th>North Indian</th>\n",
       "      <td>1</td>\n",
       "    </tr>\n",
       "    <tr>\n",
       "      <th>Bhola Dhaba</th>\n",
       "      <th>North Indian</th>\n",
       "      <td>1</td>\n",
       "    </tr>\n",
       "    <tr>\n",
       "      <th>Bhoj Restaurant</th>\n",
       "      <th>North Indian, Mughlai</th>\n",
       "      <td>1</td>\n",
       "    </tr>\n",
       "    <tr>\n",
       "      <th>Bhogalji Bikaner Sweets</th>\n",
       "      <th>Mithai</th>\n",
       "      <td>1</td>\n",
       "    </tr>\n",
       "    <tr>\n",
       "      <th>€¡stanbul</th>\n",
       "      <th>Walter's Coffee Roastery</th>\n",
       "      <th>Cafe</th>\n",
       "      <td>1</td>\n",
       "    </tr>\n",
       "  </tbody>\n",
       "</table>\n",
       "<p>8281 rows × 1 columns</p>\n",
       "</div>"
      ],
      "text/plain": [
       "                                                                             Count\n",
       "City      Restaurant Name          Cuisines                                       \n",
       "New Delhi Cafe Coffee Day          Cafe                                         57\n",
       "          Domino's Pizza           Pizza, Fast Food                             55\n",
       "          Subway                   American, Fast Food, Salad, Healthy Food     38\n",
       "          Green Chick Chop         Raw Meats, North Indian, Fast Food           35\n",
       "          McDonald's               Fast Food, Burger                            33\n",
       "...                                                                            ...\n",
       "          Bhukkad                  North Indian                                  1\n",
       "          Bhola Dhaba              North Indian                                  1\n",
       "          Bhoj Restaurant          North Indian, Mughlai                         1\n",
       "          Bhogalji Bikaner Sweets  Mithai                                        1\n",
       "€¡stanbul Walter's Coffee Roastery Cafe                                          1\n",
       "\n",
       "[8281 rows x 1 columns]"
      ]
     },
     "execution_count": 83,
     "metadata": {},
     "output_type": "execute_result"
    }
   ],
   "source": [
    "City_cuisines = data.groupby(['City','Restaurant Name','Cuisines']).agg(Count = ('Restaurant ID','count'))\n",
    "City_cuisines.sort_values(by='Count',ascending=False)"
   ]
  },
  {
   "cell_type": "code",
   "execution_count": null,
   "metadata": {},
   "outputs": [],
   "source": []
  },
  {
   "cell_type": "code",
   "execution_count": 84,
   "metadata": {},
   "outputs": [
    {
     "data": {
      "text/plain": [
       "Cafe    83\n",
       "Name: Cuisines, dtype: int64"
      ]
     },
     "execution_count": 84,
     "metadata": {},
     "output_type": "execute_result"
    }
   ],
   "source": [
    "data.loc[data['Restaurant Name']=='Cafe Coffee Day','Cuisines'].value_counts()"
   ]
  },
  {
   "cell_type": "code",
   "execution_count": 85,
   "metadata": {},
   "outputs": [
    {
     "data": {
      "text/plain": [
       "American, Fast Food, Salad, Healthy Food    62\n",
       "Fast Food, American, Salad, Healthy Food     1\n",
       "Name: Cuisines, dtype: int64"
      ]
     },
     "execution_count": 85,
     "metadata": {},
     "output_type": "execute_result"
    }
   ],
   "source": [
    "data.loc[data['Restaurant Name']=='Subway','Cuisines'].value_counts()"
   ]
  },
  {
   "cell_type": "code",
   "execution_count": 86,
   "metadata": {},
   "outputs": [],
   "source": [
    "# New Delhi city has maximum restaurants as per our data , and Cafe Coffee Day are the most resturants in New Delhi..\n",
    "# The cuisine it serves is Cafe.\n",
    "# Many Restaurants serve only one cuisine and Many cities has only one Resturant.."
   ]
  },
  {
   "cell_type": "code",
   "execution_count": 87,
   "metadata": {},
   "outputs": [
    {
     "data": {
      "text/plain": [
       "North Indian                                        936\n",
       "North Indian, Chinese                               511\n",
       "Chinese                                             354\n",
       "Fast Food                                           354\n",
       "North Indian, Mughlai                               334\n",
       "                                                   ... \n",
       "Italian, Cafe                                         1\n",
       "North Indian, Fast Food, Biryani                      1\n",
       "Burger, American, Fast Food, Italian, Pizza           1\n",
       "Seafood, Mughlai, North Indian                        1\n",
       "Cafe, North Indian, Italian, Japanese, Fast Food      1\n",
       "Name: Cuisines, Length: 1825, dtype: int64"
      ]
     },
     "execution_count": 87,
     "metadata": {},
     "output_type": "execute_result"
    }
   ],
   "source": [
    "# Relationship between no. of cuisines and Ratings\n",
    "Cuisines_count = data['Cuisines'].value_counts()\n",
    "Cuisines_count"
   ]
  },
  {
   "cell_type": "code",
   "execution_count": null,
   "metadata": {},
   "outputs": [],
   "source": []
  },
  {
   "cell_type": "code",
   "execution_count": 88,
   "metadata": {},
   "outputs": [
    {
     "data": {
      "text/plain": [
       "0.0    2148\n",
       "3.2     522\n",
       "3.1     519\n",
       "3.4     495\n",
       "3.3     483\n",
       "3.5     480\n",
       "3.0     468\n",
       "3.6     458\n",
       "3.7     427\n",
       "3.8     399\n",
       "2.9     381\n",
       "3.9     332\n",
       "2.8     315\n",
       "4.1     273\n",
       "4.0     266\n",
       "2.7     250\n",
       "4.2     221\n",
       "2.6     191\n",
       "4.3     174\n",
       "4.4     143\n",
       "2.5     110\n",
       "4.5      95\n",
       "2.4      87\n",
       "4.6      78\n",
       "4.9      61\n",
       "2.3      47\n",
       "4.7      41\n",
       "2.2      27\n",
       "4.8      25\n",
       "2.1      15\n",
       "2.0       7\n",
       "1.9       2\n",
       "1.8       1\n",
       "Name: Aggregate rating, dtype: int64"
      ]
     },
     "execution_count": 88,
     "metadata": {},
     "output_type": "execute_result"
    }
   ],
   "source": [
    "Rating_count = data['Aggregate rating'].value_counts()\n",
    "Rating_count"
   ]
  },
  {
   "cell_type": "code",
   "execution_count": 89,
   "metadata": {},
   "outputs": [
    {
     "data": {
      "text/html": [
       "<div>\n",
       "<style scoped>\n",
       "    .dataframe tbody tr th:only-of-type {\n",
       "        vertical-align: middle;\n",
       "    }\n",
       "\n",
       "    .dataframe tbody tr th {\n",
       "        vertical-align: top;\n",
       "    }\n",
       "\n",
       "    .dataframe thead th {\n",
       "        text-align: right;\n",
       "    }\n",
       "</style>\n",
       "<table border=\"1\" class=\"dataframe\">\n",
       "  <thead>\n",
       "    <tr style=\"text-align: right;\">\n",
       "      <th></th>\n",
       "      <th>Restaurant ID</th>\n",
       "      <th>Restaurant Name</th>\n",
       "      <th>Country Code</th>\n",
       "      <th>City</th>\n",
       "      <th>Address</th>\n",
       "      <th>Locality</th>\n",
       "      <th>Locality Verbose</th>\n",
       "      <th>Longitude</th>\n",
       "      <th>Latitude</th>\n",
       "      <th>Cuisines</th>\n",
       "      <th>Average Cost for two</th>\n",
       "      <th>Currency</th>\n",
       "      <th>Has Table booking</th>\n",
       "      <th>Has Online delivery</th>\n",
       "      <th>Price range</th>\n",
       "      <th>Aggregate rating</th>\n",
       "      <th>Rating color</th>\n",
       "      <th>Rating text</th>\n",
       "      <th>Votes</th>\n",
       "      <th>Countries</th>\n",
       "    </tr>\n",
       "  </thead>\n",
       "  <tbody>\n",
       "    <tr>\n",
       "      <th>0</th>\n",
       "      <td>7402935</td>\n",
       "      <td>Skye</td>\n",
       "      <td>94</td>\n",
       "      <td>Jakarta</td>\n",
       "      <td>Menara BCA, Lantai 56, Jl. MH. Thamrin, Thamri...</td>\n",
       "      <td>Grand Indonesia Mall, Thamrin</td>\n",
       "      <td>Grand Indonesia Mall, Thamrin, Jakarta</td>\n",
       "      <td>106.821999</td>\n",
       "      <td>-6.196778</td>\n",
       "      <td>Italian, Continental</td>\n",
       "      <td>800000</td>\n",
       "      <td>Indonesian Rupiah(IDR)</td>\n",
       "      <td>No</td>\n",
       "      <td>No</td>\n",
       "      <td>3</td>\n",
       "      <td>4.1</td>\n",
       "      <td>Green</td>\n",
       "      <td>Very Good</td>\n",
       "      <td>1498</td>\n",
       "      <td>Indonesia</td>\n",
       "    </tr>\n",
       "    <tr>\n",
       "      <th>1</th>\n",
       "      <td>7410290</td>\n",
       "      <td>Satoo - Hotel Shangri-La</td>\n",
       "      <td>94</td>\n",
       "      <td>Jakarta</td>\n",
       "      <td>Hotel Shangri-La, Jl. Jend. Sudirman</td>\n",
       "      <td>Hotel Shangri-La, Sudirman</td>\n",
       "      <td>Hotel Shangri-La, Sudirman, Jakarta</td>\n",
       "      <td>106.818961</td>\n",
       "      <td>-6.203292</td>\n",
       "      <td>Asian, Indonesian, Western</td>\n",
       "      <td>800000</td>\n",
       "      <td>Indonesian Rupiah(IDR)</td>\n",
       "      <td>No</td>\n",
       "      <td>No</td>\n",
       "      <td>3</td>\n",
       "      <td>4.6</td>\n",
       "      <td>Dark Green</td>\n",
       "      <td>Excellent</td>\n",
       "      <td>873</td>\n",
       "      <td>Indonesia</td>\n",
       "    </tr>\n",
       "  </tbody>\n",
       "</table>\n",
       "</div>"
      ],
      "text/plain": [
       "   Restaurant ID           Restaurant Name  Country Code     City  \\\n",
       "0        7402935                      Skye            94  Jakarta   \n",
       "1        7410290  Satoo - Hotel Shangri-La            94  Jakarta   \n",
       "\n",
       "                                             Address  \\\n",
       "0  Menara BCA, Lantai 56, Jl. MH. Thamrin, Thamri...   \n",
       "1               Hotel Shangri-La, Jl. Jend. Sudirman   \n",
       "\n",
       "                        Locality                        Locality Verbose  \\\n",
       "0  Grand Indonesia Mall, Thamrin  Grand Indonesia Mall, Thamrin, Jakarta   \n",
       "1     Hotel Shangri-La, Sudirman     Hotel Shangri-La, Sudirman, Jakarta   \n",
       "\n",
       "    Longitude  Latitude                    Cuisines  Average Cost for two  \\\n",
       "0  106.821999 -6.196778        Italian, Continental                800000   \n",
       "1  106.818961 -6.203292  Asian, Indonesian, Western                800000   \n",
       "\n",
       "                 Currency Has Table booking Has Online delivery  Price range  \\\n",
       "0  Indonesian Rupiah(IDR)                No                  No            3   \n",
       "1  Indonesian Rupiah(IDR)                No                  No            3   \n",
       "\n",
       "   Aggregate rating Rating color Rating text  Votes  Countries  \n",
       "0               4.1        Green   Very Good   1498  Indonesia  \n",
       "1               4.6   Dark Green   Excellent    873  Indonesia  "
      ]
     },
     "execution_count": 89,
     "metadata": {},
     "output_type": "execute_result"
    }
   ],
   "source": [
    "# What is the distribution cost across the restaurants?\n",
    "\n",
    "data.head(2)"
   ]
  },
  {
   "cell_type": "code",
   "execution_count": 90,
   "metadata": {},
   "outputs": [
    {
     "data": {
      "text/plain": [
       "(array([   1,    2,    3, ..., 1823, 1824, 1825]),\n",
       " [Text(1, 0, 'Afghani'),\n",
       "  Text(2, 0, 'Afghani, Mughlai, Chinese'),\n",
       "  Text(3, 0, 'Afghani, North Indian'),\n",
       "  Text(4, 0, 'Afghani, North Indian, Pakistani, Arabian'),\n",
       "  Text(5, 0, 'African'),\n",
       "  Text(6, 0, 'African, Portuguese'),\n",
       "  Text(7, 0, 'American'),\n",
       "  Text(8, 0, 'American, Asian, Burger'),\n",
       "  Text(9, 0, 'American, Asian, European, Seafood'),\n",
       "  Text(10, 0, 'American, Asian, Italian, Seafood'),\n",
       "  Text(11, 0, 'American, Asian, North Indian, Mexican, South Indian'),\n",
       "  Text(12, 0, 'American, BBQ'),\n",
       "  Text(13, 0, 'American, BBQ, Burger'),\n",
       "  Text(14, 0, 'American, BBQ, Sandwich'),\n",
       "  Text(15, 0, 'American, BBQ, Seafood'),\n",
       "  Text(16, 0, 'American, BBQ, Southern'),\n",
       "  Text(17, 0, 'American, BBQ, Steak'),\n",
       "  Text(18, 0, 'American, Bakery, European, Burger, Fusion'),\n",
       "  Text(19, 0, 'American, Bar Food'),\n",
       "  Text(20, 0, 'American, Bar Food, BBQ'),\n",
       "  Text(21, 0, 'American, Bar Food, Sandwich'),\n",
       "  Text(22, 0, 'American, Breakfast'),\n",
       "  Text(23, 0, 'American, Breakfast, Burger'),\n",
       "  Text(24, 0, 'American, Breakfast, Desserts'),\n",
       "  Text(25, 0, 'American, Breakfast, Diner'),\n",
       "  Text(26, 0, 'American, Breakfast, Greek'),\n",
       "  Text(27, 0, 'American, Breakfast, Hawaiian'),\n",
       "  Text(28, 0, 'American, Breakfast, Vegetarian'),\n",
       "  Text(29, 0, 'American, British, Continental'),\n",
       "  Text(30, 0, 'American, Burger'),\n",
       "  Text(31, 0, 'American, Burger, Cafe'),\n",
       "  Text(32, 0, 'American, Burger, Cajun'),\n",
       "  Text(33, 0, 'American, Burger, Fast Food'),\n",
       "  Text(34, 0, 'American, Burger, Grill'),\n",
       "  Text(35, 0, 'American, Burger, Pizza, Cafe'),\n",
       "  Text(36, 0, 'American, Burger, Sandwich'),\n",
       "  Text(37, 0, 'American, Cafe'),\n",
       "  Text(38, 0, 'American, Caribbean, Seafood'),\n",
       "  Text(39, 0, 'American, Chinese, North Indian'),\n",
       "  Text(40, 0, 'American, Chinese, North Indian, Italian'),\n",
       "  Text(41, 0, 'American, Chinese, Sushi'),\n",
       "  Text(42, 0, 'American, Coffee and Tea'),\n",
       "  Text(43, 0, 'American, Continental, Burger'),\n",
       "  Text(44, 0, 'American, Continental, Italian'),\n",
       "  Text(45, 0, 'American, Continental, Italian, Bakery'),\n",
       "  Text(46, 0, 'American, Continental, Italian, North Indian, Asian'),\n",
       "  Text(47, 0, 'American, Continental, North Indian, Chinese'),\n",
       "  Text(48, 0, 'American, Desserts'),\n",
       "  Text(49, 0, 'American, Desserts, Diner'),\n",
       "  Text(50, 0, 'American, Desserts, Steak'),\n",
       "  Text(51, 0, 'American, Diner, Southern'),\n",
       "  Text(52, 0, 'American, European'),\n",
       "  Text(53, 0, 'American, European, North Indian'),\n",
       "  Text(54, 0, 'American, European, Sandwich'),\n",
       "  Text(55, 0, 'American, Fast Food'),\n",
       "  Text(56, 0, 'American, Fast Food, Burger'),\n",
       "  Text(57, 0, 'American, Fast Food, Desserts'),\n",
       "  Text(58, 0, 'American, Fast Food, Desserts, Steak'),\n",
       "  Text(59, 0, 'American, Fast Food, Salad, Healthy Food'),\n",
       "  Text(60, 0, 'American, Fast Food, Steak, Beverages'),\n",
       "  Text(61, 0, 'American, Finger Food'),\n",
       "  Text(62, 0, 'American, French'),\n",
       "  Text(63, 0, 'American, Greek'),\n",
       "  Text(64, 0, 'American, Greek, Seafood'),\n",
       "  Text(65, 0, 'American, Grill'),\n",
       "  Text(66, 0, 'American, Hawaiian'),\n",
       "  Text(67, 0, 'American, Ice Cream, Desserts'),\n",
       "  Text(68, 0, 'American, International, Southwestern'),\n",
       "  Text(69, 0, 'American, International, Sushi'),\n",
       "  Text(70, 0, 'American, Italian'),\n",
       "  Text(71, 0, 'American, Italian, Bakery, Deli, Burger, Sandwich, Pizza'),\n",
       "  Text(72, 0, 'American, Italian, Cafe'),\n",
       "  Text(73, 0, 'American, Italian, Chinese'),\n",
       "  Text(74, 0, 'American, Italian, Chinese, North Indian, Cafe'),\n",
       "  Text(75, 0, 'American, Italian, Mughlai, North Indian'),\n",
       "  Text(76, 0, 'American, Italian, North Indian, Chinese'),\n",
       "  Text(77, 0, 'American, Italian, North Indian, Chinese, Lebanese'),\n",
       "  Text(78, 0, 'American, Italian, North Indian, European, Thai'),\n",
       "  Text(79, 0, 'American, Italian, Pizza'),\n",
       "  Text(80, 0, 'American, Italian, Seafood'),\n",
       "  Text(81, 0, 'American, Japanese, Singaporean'),\n",
       "  Text(82, 0, 'American, Japanese, Sushi'),\n",
       "  Text(83, 0, 'American, Mediterranean, Seafood'),\n",
       "  Text(84, 0, 'American, Mexican'),\n",
       "  Text(85, 0, 'American, Mexican, Burger'),\n",
       "  Text(86, 0, 'American, Mexican, Finger Food'),\n",
       "  Text(87, 0, 'American, Mexican, Seafood'),\n",
       "  Text(88, 0, 'American, North Indian, European, Asian'),\n",
       "  Text(89, 0, 'American, North Indian, Thai, Continental'),\n",
       "  Text(90, 0, 'American, Pizza'),\n",
       "  Text(91, 0, 'American, Pizza, Bar Food'),\n",
       "  Text(92, 0, 'American, Sandwich, Salad'),\n",
       "  Text(93, 0, 'American, Sandwich, Seafood'),\n",
       "  Text(94, 0, 'American, Sandwich, Tea'),\n",
       "  Text(95, 0, 'American, Seafood'),\n",
       "  Text(96, 0, 'American, Seafood, Cajun'),\n",
       "  Text(97, 0, 'American, Seafood, Italian, Japanese, Thai'),\n",
       "  Text(98, 0, 'American, Seafood, Southern'),\n",
       "  Text(99, 0, 'American, Seafood, Steak'),\n",
       "  Text(100, 0, 'American, Seafood, Sushi'),\n",
       "  Text(101, 0, 'American, Southern'),\n",
       "  Text(102, 0, 'American, Southern, Southwestern'),\n",
       "  Text(103, 0, 'American, Steak'),\n",
       "  Text(104, 0, 'American, Tapas'),\n",
       "  Text(105, 0, 'American, Tex-Mex'),\n",
       "  Text(106, 0, 'American, Tex-Mex, Italian, Mexican, North Indian'),\n",
       "  Text(107, 0, 'Andhra'),\n",
       "  Text(108, 0, 'Andhra, North Indian, Chinese'),\n",
       "  Text(109, 0, 'Andhra, North Indian, Chinese, Seafood, Biryani'),\n",
       "  Text(110, 0, 'Arabian'),\n",
       "  Text(111, 0, 'Arabian, Lebanese'),\n",
       "  Text(112, 0, 'Arabian, Mexican'),\n",
       "  Text(113, 0, 'Arabian, Middle Eastern'),\n",
       "  Text(114, 0, 'Arabian, North Indian'),\n",
       "  Text(115, 0, 'Argentine, American'),\n",
       "  Text(116, 0, 'Asian'),\n",
       "  Text(117, 0, 'Asian Fusion, Cafe'),\n",
       "  Text(118, 0, 'Asian Fusion, Pub Food, Fusion, Asian, Filipino, Malaysian, Thai'),\n",
       "  Text(119, 0, 'Asian, Bakery'),\n",
       "  Text(120, 0, 'Asian, Breakfast, Hawaiian'),\n",
       "  Text(121, 0, 'Asian, Burmese'),\n",
       "  Text(122, 0, 'Asian, Chinese'),\n",
       "  Text(123, 0, 'Asian, Chinese, Japanese'),\n",
       "  Text(124, 0, 'Asian, Chinese, North Indian'),\n",
       "  Text(125, 0, 'Asian, Chinese, Thai'),\n",
       "  Text(126, 0, 'Asian, Chinese, Thai, Japanese'),\n",
       "  Text(127, 0, 'Asian, Chinese, Thai, Malaysian, Indonesian, Burmese'),\n",
       "  Text(128, 0, 'Asian, Chinese, Thai, Vietnamese'),\n",
       "  Text(129, 0, 'Asian, Chinese, Tibetan'),\n",
       "  Text(130, 0, 'Asian, Chinese, Vegetarian'),\n",
       "  Text(131, 0, 'Asian, Continental'),\n",
       "  Text(132, 0, 'Asian, Continental, Fast Food'),\n",
       "  Text(133, 0, 'Asian, Continental, Italian, North Indian'),\n",
       "  Text(134, 0, 'Asian, Continental, Seafood'),\n",
       "  Text(135, 0, 'Asian, European'),\n",
       "  Text(136, 0, 'Asian, European, Seafood'),\n",
       "  Text(137, 0, 'Asian, Indonesian, Western'),\n",
       "  Text(138, 0, 'Asian, Japanese'),\n",
       "  Text(139, 0, 'Asian, Japanese, Chinese, Thai'),\n",
       "  Text(140, 0, 'Asian, Japanese, Korean, Thai, Chinese'),\n",
       "  Text(141, 0, 'Asian, Japanese, Sushi'),\n",
       "  Text(142, 0, 'Asian, Latin American, Vegetarian'),\n",
       "  Text(143, 0, 'Asian, Mediterranean, North Indian'),\n",
       "  Text(144, 0, 'Asian, North Indian'),\n",
       "  Text(145, 0, 'Asian, North Indian, Continental'),\n",
       "  Text(146, 0, 'Asian, North Indian, Japanese'),\n",
       "  Text(147, 0, 'Asian, North Indian, Mughlai'),\n",
       "  Text(148, 0, 'Asian, Seafood'),\n",
       "  Text(149, 0, 'Asian, Sushi'),\n",
       "  Text(150, 0, 'Asian, Sushi, Seafood'),\n",
       "  Text(151, 0, 'Asian, Sushi, Tapas'),\n",
       "  Text(152, 0, 'Asian, Sushi, Thai'),\n",
       "  Text(153, 0, 'Asian, Sushi, Vegetarian'),\n",
       "  Text(154, 0, 'Asian, Thai'),\n",
       "  Text(155, 0, 'Asian, Thai, Chinese'),\n",
       "  Text(156, 0, 'Asian, Thai, Chinese, North Indian'),\n",
       "  Text(157, 0, 'Asian, Thai, Vegetarian'),\n",
       "  Text(158, 0, 'Asian, Vegetarian, Vietnamese'),\n",
       "  Text(159, 0, 'Asian, Vegetarian, Vietnamese, Bubble Tea'),\n",
       "  Text(160, 0, 'Asian, Vietnamese'),\n",
       "  Text(161, 0, 'Assamese'),\n",
       "  Text(162, 0, 'Assamese, Chinese'),\n",
       "  Text(163, 0, 'Australian'),\n",
       "  Text(164, 0, 'Awadhi'),\n",
       "  Text(165, 0, 'Awadhi, Mughlai'),\n",
       "  Text(166, 0, 'Awadhi, Mughlai, North Indian'),\n",
       "  Text(167, 0, 'Awadhi, North Indian'),\n",
       "  Text(168, 0, 'Awadhi, North Indian, Mughlai'),\n",
       "  Text(169, 0, 'BBQ'),\n",
       "  Text(170, 0, 'BBQ, Breakfast, Southern'),\n",
       "  Text(171, 0, 'BBQ, Burger, Desserts'),\n",
       "  Text(172, 0, 'BBQ, Burger, Seafood'),\n",
       "  Text(173, 0, 'BBQ, Caribbean, Cajun'),\n",
       "  Text(174, 0, 'BBQ, Caribbean, Seafood'),\n",
       "  Text(175, 0, 'BBQ, Grill, Brazilian'),\n",
       "  Text(176, 0, 'BBQ, Sandwich'),\n",
       "  Text(177, 0, 'BBQ, Southern'),\n",
       "  Text(178, 0, 'Bakery'),\n",
       "  Text(179, 0, 'Bakery, Arabian, Middle Eastern'),\n",
       "  Text(180, 0, 'Bakery, Beverages'),\n",
       "  Text(181, 0, 'Bakery, Beverages, Fast Food'),\n",
       "  Text(182, 0, 'Bakery, Cafe'),\n",
       "  Text(183, 0, 'Bakery, Cafe, Fast Food'),\n",
       "  Text(184, 0, 'Bakery, Chinese'),\n",
       "  Text(185, 0, 'Bakery, Chinese, Fast Food'),\n",
       "  Text(186, 0, 'Bakery, Chinese, North Indian'),\n",
       "  Text(187, 0, 'Bakery, Desserts'),\n",
       "  Text(188, 0, 'Bakery, Desserts, Bakery'),\n",
       "  Text(189, 0, 'Bakery, Desserts, Beverages'),\n",
       "  Text(190, 0, 'Bakery, Desserts, Cafe'),\n",
       "  Text(191, 0, 'Bakery, Desserts, Chinese, Fast Food'),\n",
       "  Text(192, 0, 'Bakery, Desserts, Fast Food'),\n",
       "  Text(193, 0, 'Bakery, Desserts, Fast Food, Beverages'),\n",
       "  Text(194, 0, 'Bakery, Desserts, Fast Food, Mithai'),\n",
       "  Text(195, 0, 'Bakery, Desserts, Fast Food, North Indian'),\n",
       "  Text(196, 0, 'Bakery, Desserts, Fast Food, Pizza, Burger, Continental'),\n",
       "  Text(197, 0, 'Bakery, Desserts, Fast Food, Pizza, Burger, Finger Food'),\n",
       "  Text(198, 0, 'Bakery, Desserts, Fast Food, Street Food, Chinese, Beverages'),\n",
       "  Text(199, 0, 'Bakery, Desserts, Healthy Food'),\n",
       "  Text(200, 0, 'Bakery, Desserts, Ice Cream'),\n",
       "  Text(201, 0, 'Bakery, Desserts, North Indian, Bengali, South Indian'),\n",
       "  Text(202, 0, 'Bakery, Fast Food'),\n",
       "  Text(203, 0, 'Bakery, Fast Food, Beverages'),\n",
       "  Text(204, 0, 'Bakery, Fast Food, Chinese'),\n",
       "  Text(205, 0, 'Bakery, Fast Food, Desserts'),\n",
       "  Text(206, 0, 'Bakery, Fast Food, Pizza'),\n",
       "  Text(207, 0, 'Bakery, Fast Food, Street Food'),\n",
       "  Text(208, 0, 'Bakery, French'),\n",
       "  Text(209, 0, 'Bakery, Healthy Food'),\n",
       "  Text(210, 0, 'Bakery, Italian, Chinese, Mexican'),\n",
       "  Text(211, 0, 'Bakery, Italian, Fast Food, Chinese, Continental'),\n",
       "  Text(212, 0, 'Bakery, Mithai'),\n",
       "  Text(213, 0, 'Bakery, Mithai, Fast Food'),\n",
       "  Text(214, 0, 'Bakery, North Indian'),\n",
       "  Text(215, 0, 'Bakery, Pizza'),\n",
       "  Text(216, 0, 'Bakery, Sandwich, Brazilian'),\n",
       "  Text(217, 0, 'Bakery, Street Food'),\n",
       "  Text(218, 0, 'Bar Food'),\n",
       "  Text(219, 0, 'Bar Food, Brazilian'),\n",
       "  Text(220, 0, 'Bar Food, Modern Australian'),\n",
       "  Text(221, 0, 'Bar Food, Sandwich, Seafood'),\n",
       "  Text(222, 0, 'Bar Food, Seafood, Vegetarian'),\n",
       "  Text(223, 0, 'Bar Food, Steak'),\n",
       "  Text(224, 0, 'Bengali'),\n",
       "  Text(225, 0, 'Bengali, Chinese'),\n",
       "  Text(226, 0, 'Bengali, Fast Food'),\n",
       "  Text(227, 0, 'Bengali, North Indian'),\n",
       "  Text(228, 0, 'Bengali, North Indian, Chinese'),\n",
       "  Text(229, 0, 'Bengali, Seafood'),\n",
       "  Text(230, 0, 'Bengali, South Indian, North Indian, Mughlai'),\n",
       "  Text(231, 0, 'Beverages'),\n",
       "  Text(232, 0, 'Beverages, Bar Food, Fast Food'),\n",
       "  Text(233, 0, 'Beverages, Desserts'),\n",
       "  Text(234, 0, 'Beverages, Fast Food'),\n",
       "  Text(235, 0, 'Beverages, Healthy Food'),\n",
       "  Text(236, 0, 'Beverages, Ice Cream'),\n",
       "  Text(237, 0, 'Beverages, International'),\n",
       "  Text(238, 0, 'Beverages, Juices'),\n",
       "  Text(239, 0, 'Beverages, Salad'),\n",
       "  Text(240, 0, 'Beverages, Salad, Beverages'),\n",
       "  Text(241, 0, 'Beverages, Street Food'),\n",
       "  Text(242, 0, 'Bihari'),\n",
       "  Text(243, 0, 'Bihari, Lucknowi, North Indian'),\n",
       "  Text(244, 0, 'Biryani'),\n",
       "  Text(245, 0, 'Biryani, Andhra'),\n",
       "  Text(246, 0, 'Biryani, Chinese, North Indian'),\n",
       "  Text(247, 0, 'Biryani, Hyderabadi'),\n",
       "  Text(248, 0, 'Biryani, Kerala'),\n",
       "  Text(249, 0, 'Biryani, Lucknowi, North Indian'),\n",
       "  Text(250, 0, 'Biryani, Mughlai'),\n",
       "  Text(251, 0, 'Biryani, Mughlai, Bengali, North Indian'),\n",
       "  Text(252, 0, 'Biryani, North Indian'),\n",
       "  Text(253, 0, 'Biryani, North Indian, Chinese, Mughlai'),\n",
       "  Text(254, 0, 'Biryani, North Indian, Fast Food'),\n",
       "  Text(255, 0, 'Biryani, North Indian, Hyderabadi'),\n",
       "  Text(256, 0, 'Biryani, North Indian, Mughlai'),\n",
       "  Text(257, 0, 'Biryani, Pizza, Fast Food, Healthy Food'),\n",
       "  Text(258, 0, 'Brazilian'),\n",
       "  Text(259, 0, 'Brazilian, Bar Food'),\n",
       "  Text(260, 0, 'Brazilian, Bar Food, Beverages'),\n",
       "  Text(261, 0, 'Brazilian, Cafe'),\n",
       "  Text(262, 0, 'Brazilian, Grill'),\n",
       "  Text(263, 0, 'Brazilian, Healthy Food, Juices, Pizza'),\n",
       "  Text(264, 0, 'Brazilian, Italian'),\n",
       "  Text(265, 0, 'Brazilian, Mineira'),\n",
       "  Text(266, 0, 'Brazilian, North Eastern'),\n",
       "  Text(267, 0, 'Brazilian, Seafood'),\n",
       "  Text(268, 0, 'Brazilian, Steak'),\n",
       "  Text(269, 0, 'Breakfast'),\n",
       "  Text(270, 0, 'Breakfast, Burger'),\n",
       "  Text(271, 0, 'Breakfast, Burger, Sandwich'),\n",
       "  Text(272, 0, 'Breakfast, Cajun'),\n",
       "  Text(273, 0, 'Breakfast, Coffee and Tea'),\n",
       "  Text(274, 0, 'Breakfast, Coffee and Tea, Modern Australian'),\n",
       "  Text(275, 0, 'Breakfast, Diner'),\n",
       "  Text(276, 0, 'Breakfast, Diner, Sandwich'),\n",
       "  Text(277, 0, 'Breakfast, Diner, Southern'),\n",
       "  Text(278, 0, 'Breakfast, French'),\n",
       "  Text(279, 0, 'Breakfast, Mexican'),\n",
       "  Text(280, 0, 'Breakfast, Mexican, Southwestern'),\n",
       "  Text(281, 0, 'Breakfast, Modern Australian'),\n",
       "  Text(282, 0, 'Breakfast, Pizza'),\n",
       "  Text(283, 0, 'Breakfast, Sandwich'),\n",
       "  Text(284, 0, 'Breakfast, Spanish, Tapas'),\n",
       "  Text(285, 0, 'Breakfast, Vegetarian'),\n",
       "  Text(286, 0, 'British'),\n",
       "  Text(287, 0, 'British, Bar Food, Sandwich'),\n",
       "  Text(288, 0, 'British, Burger, Cafe'),\n",
       "  Text(289, 0, 'British, Cafe'),\n",
       "  Text(290, 0, 'British, Chinese, Italian'),\n",
       "  Text(291, 0, 'British, Contemporary'),\n",
       "  Text(292, 0, 'British, French'),\n",
       "  Text(293, 0, 'British, Scottish, Seafood'),\n",
       "  Text(294, 0, 'British, Steak'),\n",
       "  Text(295, 0, 'Burger'),\n",
       "  Text(296, 0, 'Burger, American'),\n",
       "  Text(297, 0, 'Burger, American, Beverages'),\n",
       "  Text(298, 0, 'Burger, American, Fast Food'),\n",
       "  Text(299, 0, 'Burger, American, Fast Food, Italian, Pizza'),\n",
       "  Text(300, 0, 'Burger, American, Grill'),\n",
       "  Text(301, 0, 'Burger, Bar Food'),\n",
       "  Text(302, 0, 'Burger, Bar Food, Southern'),\n",
       "  Text(303, 0, 'Burger, Bar Food, Steak'),\n",
       "  Text(304, 0, 'Burger, Bar Food, Vegetarian'),\n",
       "  Text(305, 0, 'Burger, Coffee and Tea, Modern Australian'),\n",
       "  Text(306, 0, 'Burger, Desserts'),\n",
       "  Text(307, 0, 'Burger, Desserts, Bar Food'),\n",
       "  Text(308, 0, 'Burger, Desserts, Fast Food'),\n",
       "  Text(309, 0, 'Burger, Desserts, Sandwich'),\n",
       "  Text(310, 0, 'Burger, Desserts, Vegetarian'),\n",
       "  Text(311, 0, 'Burger, Fast Food'),\n",
       "  Text(312, 0, 'Burger, Fast Food, Chinese'),\n",
       "  Text(313, 0, 'Burger, Fast Food, Chinese, Bakery'),\n",
       "  Text(314, 0, 'Burger, Fast Food, Desserts, Beverages'),\n",
       "  Text(315, 0, 'Burger, Fast Food, Grill'),\n",
       "  Text(316, 0, 'Burger, Finger Food, Pizza'),\n",
       "  Text(317, 0, 'Burger, German, Sandwich'),\n",
       "  Text(318, 0, 'Burger, Greek, Sandwich'),\n",
       "  Text(319, 0, 'Burger, Grill'),\n",
       "  Text(320, 0, 'Burger, Izgara'),\n",
       "  Text(321, 0, 'Burger, Juices, Finger Food'),\n",
       "  Text(322, 0, 'Burger, Pizza'),\n",
       "  Text(323, 0, 'Burger, Pizza, Biryani'),\n",
       "  Text(324, 0, 'Burger, Pizza, Fast Food'),\n",
       "  Text(325, 0, 'Burger, Pizza, Sandwich'),\n",
       "  Text(326, 0, 'Burger, Sandwich, Seafood'),\n",
       "  Text(327, 0, 'Burger, Seafood'),\n",
       "  Text(328, 0, 'Burger, Seafood, Steak'),\n",
       "  Text(329, 0, 'Burger, Steak, Seafood'),\n",
       "  Text(330, 0, 'Burmese, Chinese, Japanese, Malaysian, Thai'),\n",
       "  Text(331, 0, 'Burmese, Chinese, Thai'),\n",
       "  Text(332, 0, 'Cafe'),\n",
       "  Text(333, 0, 'Cafe, American'),\n",
       "  Text(334, 0, 'Cafe, American, Continental, Armenian, Fast Food'),\n",
       "  Text(335, 0, 'Cafe, American, Continental, Nepalese'),\n",
       "  Text(336, 0, 'Cafe, American, Desserts, Italian, Bakery'),\n",
       "  Text(337, 0, 'Cafe, American, Italian'),\n",
       "  Text(338, 0, 'Cafe, American, Italian, Continental'),\n",
       "  Text(339, 0, 'Cafe, American, Italian, Filipino'),\n",
       "  Text(340, 0, 'Cafe, American, Italian, North Indian, Chinese'),\n",
       "  Text(341, 0, 'Cafe, American, Mexican, Italian, Thai'),\n",
       "  Text(342, 0, 'Cafe, American, Tea'),\n",
       "  Text(343, 0, 'Cafe, Asian, Italian, North Indian'),\n",
       "  Text(344, 0, 'Cafe, Australian'),\n",
       "  Text(345, 0, 'Cafe, Bakery'),\n",
       "  Text(346, 0, 'Cafe, Bakery, American, Italian'),\n",
       "  Text(347, 0, 'Cafe, Bakery, Desserts'),\n",
       "  Text(348, 0, 'Cafe, Bakery, Fast Food'),\n",
       "  Text(349, 0, 'Cafe, Bakery, Italian'),\n",
       "  Text(350, 0, 'Cafe, Bakery, Parsi'),\n",
       "  Text(351, 0, 'Cafe, Bakery, Tea, Vegetarian'),\n",
       "  Text(352, 0, 'Cafe, Belgian'),\n",
       "  Text(353, 0, 'Cafe, Beverages'),\n",
       "  Text(354, 0, 'Cafe, Beverages, Desserts, Pizza'),\n",
       "  Text(355, 0, 'Cafe, British'),\n",
       "  Text(356, 0, 'Cafe, Burger'),\n",
       "  Text(357, 0, 'Cafe, Burger, Tapas, South African, European, Grill'),\n",
       "  Text(358, 0, 'Cafe, Charcoal Grill, Steak'),\n",
       "  Text(359, 0, 'Cafe, Chinese'),\n",
       "  Text(360, 0, 'Cafe, Chinese, Continental'),\n",
       "  Text(361, 0, 'Cafe, Chinese, Continental, Italian, Desserts, Beverages'),\n",
       "  Text(362, 0, 'Cafe, Chinese, Fast Food'),\n",
       "  Text(363, 0, 'Cafe, Chinese, Fast Food, Italian'),\n",
       "  Text(364, 0, 'Cafe, Chinese, Fast Food, Seafood'),\n",
       "  Text(365, 0, 'Cafe, Chinese, Italian'),\n",
       "  Text(366, 0, 'Cafe, Chinese, North Indian'),\n",
       "  Text(367, 0, 'Cafe, Chinese, Thai, North Indian, Continental'),\n",
       "  Text(368, 0, 'Cafe, Coffee and Tea, Modern Australian'),\n",
       "  Text(369, 0, 'Cafe, Coffee and Tea, Sandwich'),\n",
       "  Text(370, 0, 'Cafe, Coffee and Tea, Western'),\n",
       "  Text(371, 0, 'Cafe, Continental'),\n",
       "  Text(372, 0, 'Cafe, Continental, Chinese'),\n",
       "  Text(373, 0, 'Cafe, Continental, Chinese, Italian'),\n",
       "  Text(374, 0, 'Cafe, Continental, Chinese, North Indian, Italian'),\n",
       "  Text(375, 0, 'Cafe, Continental, Desserts'),\n",
       "  Text(376, 0, 'Cafe, Continental, Desserts, Ice Cream, Italian, Beverages'),\n",
       "  Text(377, 0, 'Cafe, Continental, European, Beverages'),\n",
       "  Text(378, 0, 'Cafe, Continental, Fast Food'),\n",
       "  Text(379, 0, 'Cafe, Continental, Fast Food, Italian'),\n",
       "  Text(380, 0, 'Cafe, Continental, Italian'),\n",
       "  Text(381, 0, 'Cafe, Continental, Italian, Bakery'),\n",
       "  Text(382, 0, 'Cafe, Continental, Italian, Chinese'),\n",
       "  Text(383, 0, 'Cafe, Continental, Italian, Chinese, North Indian'),\n",
       "  Text(384, 0, 'Cafe, Continental, Italian, Fast Food'),\n",
       "  Text(385, 0, 'Cafe, Continental, Italian, Mexican'),\n",
       "  Text(386, 0, 'Cafe, Continental, Italian, Mexican, Chinese, American'),\n",
       "  Text(387, 0, 'Cafe, Continental, Italian, North Indian'),\n",
       "  Text(388, 0, 'Cafe, Continental, Italian, Pizza'),\n",
       "  Text(389, 0, 'Cafe, Continental, Italian, Street Food'),\n",
       "  Text(390, 0, 'Cafe, Continental, Mexican, Italian, North Indian, Chinese'),\n",
       "  Text(391, 0, 'Cafe, Continental, North Indian'),\n",
       "  Text(392, 0, 'Cafe, Continental, North Indian, Chinese'),\n",
       "  Text(393, 0, 'Cafe, Continental, North Indian, Chinese, Mexican'),\n",
       "  Text(394, 0, 'Cafe, Continental, North Indian, Italian, Chinese, Bakery, Desserts, Finger Food'),\n",
       "  Text(395, 0, 'Cafe, Desserts'),\n",
       "  Text(396, 0, 'Cafe, Desserts, Bakery'),\n",
       "  Text(397, 0, 'Cafe, Desserts, Beverages'),\n",
       "  Text(398, 0, 'Cafe, Desserts, Healthy Food, Juices'),\n",
       "  Text(399, 0, 'Cafe, European'),\n",
       "  Text(400, 0, 'Cafe, European, Mexican'),\n",
       "  Text(401, 0, 'Cafe, Fast Food'),\n",
       "  Text(402, 0, 'Cafe, Fast Food, American'),\n",
       "  Text(403, 0, 'Cafe, Fast Food, Asian, Italian'),\n",
       "  Text(404, 0, 'Cafe, Fast Food, Bakery'),\n",
       "  Text(405, 0, 'Cafe, Fast Food, Beverages'),\n",
       "  Text(406, 0, 'Cafe, Fast Food, Chinese'),\n",
       "  Text(407, 0, 'Cafe, Fast Food, Continental'),\n",
       "  Text(408, 0, 'Cafe, Fast Food, Desserts'),\n",
       "  Text(409, 0, 'Cafe, Fast Food, Healthy Food'),\n",
       "  Text(410, 0, 'Cafe, Fast Food, Italian'),\n",
       "  Text(411, 0, 'Cafe, Fast Food, Italian, Chinese'),\n",
       "  Text(412, 0, 'Cafe, Fast Food, Italian, Mexican'),\n",
       "  Text(413, 0, 'Cafe, Fast Food, North Indian'),\n",
       "  Text(414, 0, 'Cafe, Fast Food, Pizza'),\n",
       "  Text(415, 0, 'Cafe, Fast Food, Street Food'),\n",
       "  Text(416, 0, 'Cafe, French'),\n",
       "  Text(417, 0, 'Cafe, Grill'),\n",
       "  Text(418, 0, 'Cafe, Healthy Food, Continental'),\n",
       "  Text(419, 0, 'Cafe, Healthy Food, Continental, Italian, Asian'),\n",
       "  Text(420, 0, 'Cafe, Healthy Food, North Indian'),\n",
       "  Text(421, 0, 'Cafe, Italian'),\n",
       "  Text(422, 0, 'Cafe, Italian, Bakery'),\n",
       "  Text(423, 0, 'Cafe, Italian, Chinese'),\n",
       "  Text(424, 0, 'Cafe, Italian, Chinese, Continental'),\n",
       "  Text(425, 0, 'Cafe, Italian, Chinese, North Indian'),\n",
       "  Text(426, 0, 'Cafe, Italian, Coffee and Tea, Western, Indonesian'),\n",
       "  Text(427, 0, 'Cafe, Italian, Continental'),\n",
       "  Text(428, 0, 'Cafe, Italian, Continental, Chinese'),\n",
       "  Text(429, 0, 'Cafe, Italian, Continental, Desserts'),\n",
       "  Text(430, 0, 'Cafe, Italian, Continental, Fast Food'),\n",
       "  Text(431, 0, 'Cafe, Italian, Continental, Mexican'),\n",
       "  Text(432, 0, 'Cafe, Italian, Continental, Mexican, Mediterranean'),\n",
       "  Text(433, 0, 'Cafe, Italian, Desserts'),\n",
       "  Text(434, 0, 'Cafe, Italian, Desserts, Fast Food, Chinese, Tea'),\n",
       "  Text(435, 0, 'Cafe, Italian, European, Bakery'),\n",
       "  Text(436, 0, 'Cafe, Italian, Fast Food'),\n",
       "  Text(437, 0, 'Cafe, Italian, Japanese, Continental'),\n",
       "  Text(438, 0, 'Cafe, Italian, Lebanese'),\n",
       "  Text(439, 0, 'Cafe, Italian, Lebanese, Continental, Mediterranean'),\n",
       "  Text(440, 0, 'Cafe, Italian, Mexican, Bakery'),\n",
       "  Text(441, 0, 'Cafe, Italian, Mexican, Chinese'),\n",
       "  Text(442, 0, 'Cafe, Italian, Mexican, Chinese, North Indian'),\n",
       "  Text(443, 0, 'Cafe, Italian, Mexican, Continental'),\n",
       "  Text(444, 0, 'Cafe, Italian, Mexican, North Indian, Continental'),\n",
       "  Text(445, 0, 'Cafe, Italian, Mexican, Salad, Desserts'),\n",
       "  Text(446, 0, 'Cafe, Italian, North Indian'),\n",
       "  Text(447, 0, 'Cafe, Italian, Pizza'),\n",
       "  Text(448, 0, 'Cafe, Italian, Pizza, European, Bakery, Deli'),\n",
       "  Text(449, 0, 'Cafe, Italian, Salad'),\n",
       "  Text(450, 0, 'Cafe, Kiwi'),\n",
       "  Text(451, 0, 'Cafe, Kiwi, Ice Cream, Desserts'),\n",
       "  Text(452, 0, 'Cafe, Korean'),\n",
       "  Text(453, 0, 'Cafe, Korean, Desserts'),\n",
       "  Text(454, 0, 'Cafe, Lebanese, Italian'),\n",
       "  Text(455, 0, 'Cafe, Mediterranean'),\n",
       "  Text(456, 0, 'Cafe, Mexican'),\n",
       "  Text(457, 0, 'Cafe, Mexican, American, Italian, Lebanese, Continental'),\n",
       "  Text(458, 0, 'Cafe, Mexican, Continental'),\n",
       "  Text(459, 0, 'Cafe, Mexican, Italian, Continental'),\n",
       "  Text(460, 0, 'Cafe, Mexican, Italian, Fast Food'),\n",
       "  Text(461, 0, 'Cafe, Mexican, Italian, North Indian, Chinese'),\n",
       "  Text(462, 0, 'Cafe, Mexican, Italian, North Indian, Fast Food'),\n",
       "  Text(463, 0, 'Cafe, Mughlai, North Indian'),\n",
       "  Text(464, 0, 'Cafe, North Eastern'),\n",
       "  Text(465, 0, 'Cafe, North Indian'),\n",
       "  Text(466, 0, 'Cafe, North Indian, Chinese'),\n",
       "  Text(467, 0, 'Cafe, North Indian, Chinese, Continental'),\n",
       "  Text(468, 0, 'Cafe, North Indian, Chinese, South Indian'),\n",
       "  Text(469, 0, 'Cafe, North Indian, Continental'),\n",
       "  Text(470, 0, 'Cafe, North Indian, Continental, Chinese'),\n",
       "  Text(471, 0, 'Cafe, North Indian, Continental, Italian'),\n",
       "  Text(472, 0, 'Cafe, North Indian, Fast Food'),\n",
       "  Text(473, 0, 'Cafe, North Indian, Italian'),\n",
       "  Text(474, 0, 'Cafe, North Indian, Italian, Chinese'),\n",
       "  Text(475, 0, 'Cafe, North Indian, Italian, Japanese, Fast Food'),\n",
       "  Text(476, 0, 'Cafe, North Indian, Lebanese, Continental'),\n",
       "  Text(477, 0, 'Cafe, Patisserie'),\n",
       "  Text(478, 0, 'Cafe, Patisserie, Bakery, Desserts'),\n",
       "  Text(479, 0, 'Cafe, Pizza'),\n",
       "  Text(480, 0, 'Cafe, Pizza, Burger'),\n",
       "  Text(481, 0, 'Cafe, Pizza, Italian'),\n",
       "  Text(482, 0, 'Cafe, Sandwich, Southern'),\n",
       "  Text(483, 0, 'Cafe, South Indian, North Indian, Bakery'),\n",
       "  Text(484, 0, 'Cafe, Spanish, Turkish, Greek'),\n",
       "  Text(485, 0, 'Cafe, Sri Lankan, Continental, American'),\n",
       "  Text(486, 0, 'Cafe, Street Food'),\n",
       "  Text(487, 0, 'Cafe, Tapas, South African, Beverages, Healthy Food, Desserts, Spanish'),\n",
       "  Text(488, 0, 'Cafe, Tea'),\n",
       "  Text(489, 0, 'Cafe, Tea, Desserts'),\n",
       "  Text(490, 0, 'Cafe, Tibetan'),\n",
       "  Text(491, 0, 'Cafe, Western'),\n",
       "  Text(492, 0, 'Cajun'),\n",
       "  Text(493, 0, 'Caribbean'),\n",
       "  Text(494, 0, 'Caribbean, Mexican, Cajun'),\n",
       "  Text(495, 0, 'Caribbean, Seafood'),\n",
       "  Text(496, 0, 'Caribbean, Seafood, Steak'),\n",
       "  Text(497, 0, 'Charcoal Grill, Italian, North Indian, European, Indonesian, Thai'),\n",
       "  Text(498, 0, 'Chinese'),\n",
       "  Text(499, 0, 'Chinese, Asian'),\n",
       "  Text(500, 0, 'Chinese, Asian, Mediterranean, Continental'),\n",
       "  Text(501, 0, 'Chinese, Asian, Thai'),\n",
       "  Text(502, 0, 'Chinese, Assamese'),\n",
       "  Text(503, 0, 'Chinese, Bakery'),\n",
       "  Text(504, 0, 'Chinese, Beverages'),\n",
       "  Text(505, 0, 'Chinese, Biryani, North Indian'),\n",
       "  Text(506, 0, 'Chinese, Cafe'),\n",
       "  Text(507, 0, 'Chinese, Cafe, Fast Food'),\n",
       "  Text(508, 0, 'Chinese, Cafe, North Indian, Desserts'),\n",
       "  Text(509, 0, 'Chinese, Canadian'),\n",
       "  Text(510, 0, 'Chinese, Continental'),\n",
       "  Text(511, 0, 'Chinese, Continental, Italian, North Indian'),\n",
       "  Text(512, 0, 'Chinese, Continental, Mexican'),\n",
       "  Text(513, 0, 'Chinese, Continental, North Indian'),\n",
       "  Text(514, 0, 'Chinese, Continental, North Indian, Mexican'),\n",
       "  Text(515, 0, 'Chinese, Continental, North Indian, Mughlai'),\n",
       "  Text(516, 0, 'Chinese, Continental, Singaporean'),\n",
       "  Text(517, 0, 'Chinese, Continental, Thai'),\n",
       "  Text(518, 0, 'Chinese, Dim Sum'),\n",
       "  Text(519, 0, 'Chinese, Fast Food'),\n",
       "  Text(520, 0, 'Chinese, Fast Food, Bakery'),\n",
       "  Text(521, 0, 'Chinese, Fast Food, Ice Cream'),\n",
       "  Text(522, 0, 'Chinese, Fast Food, North Indian'),\n",
       "  Text(523, 0, 'Chinese, Fast Food, North Indian, South Indian'),\n",
       "  Text(524, 0, 'Chinese, Fast Food, North Indian, South Indian, Street Food, Mithai'),\n",
       "  Text(525, 0, 'Chinese, Fast Food, Pizza'),\n",
       "  Text(526, 0, 'Chinese, Healthy Food'),\n",
       "  Text(527, 0, 'Chinese, Indian'),\n",
       "  Text(528, 0, 'Chinese, Italian'),\n",
       "  Text(529, 0, 'Chinese, Italian, Continental'),\n",
       "  Text(530, 0, 'Chinese, Italian, Continental, North Indian'),\n",
       "  Text(531, 0, 'Chinese, Italian, Fast Food'),\n",
       "  Text(532, 0, 'Chinese, Italian, North Indian'),\n",
       "  Text(533, 0, 'Chinese, Italian, North Indian, Mexican, Mediterranean, Thai'),\n",
       "  Text(534, 0, 'Chinese, Japanese'),\n",
       "  Text(535, 0, 'Chinese, Japanese, Italian, Seafood'),\n",
       "  Text(536, 0, 'Chinese, Japanese, Korean, Asian'),\n",
       "  Text(537, 0, 'Chinese, Japanese, Sushi'),\n",
       "  Text(538, 0, 'Chinese, Japanese, Thai'),\n",
       "  Text(539, 0, 'Chinese, Japanese, Thai, Asian'),\n",
       "  Text(540, 0, 'Chinese, Japanese, Thai, Malaysian, Vietnamese, Asian'),\n",
       "  Text(541, 0, 'Chinese, Lucknowi'),\n",
       "  Text(542, 0, 'Chinese, Mangalorean'),\n",
       "  Text(543, 0, 'Chinese, Mexican, Fast Food, Continental'),\n",
       "  Text(544, 0, 'Chinese, Mexican, Italian'),\n",
       "  Text(545, 0, 'Chinese, Mithai'),\n",
       "  Text(546, 0, 'Chinese, Mughlai'),\n",
       "  Text(547, 0, 'Chinese, Mughlai, North Indian'),\n",
       "  Text(548, 0, 'Chinese, Naga'),\n",
       "  Text(549, 0, 'Chinese, North Eastern'),\n",
       "  Text(550, 0, 'Chinese, North Indian'),\n",
       "  Text(551, 0, 'Chinese, North Indian, Cafe'),\n",
       "  Text(552, 0, 'Chinese, North Indian, Continental'),\n",
       "  Text(553, 0, 'Chinese, North Indian, Continental, Italian'),\n",
       "  Text(554, 0, 'Chinese, North Indian, Continental, Mexican'),\n",
       "  Text(555, 0, 'Chinese, North Indian, Fast Food'),\n",
       "  Text(556, 0, 'Chinese, North Indian, Fast Food, Italian'),\n",
       "  Text(557, 0, 'Chinese, North Indian, Fast Food, Street Food'),\n",
       "  Text(558, 0, 'Chinese, North Indian, Italian'),\n",
       "  Text(559, 0, 'Chinese, North Indian, Italian, Continental'),\n",
       "  Text(560, 0, 'Chinese, North Indian, Italian, Continental, Fast Food'),\n",
       "  Text(561, 0, 'Chinese, North Indian, Italian, Fast Food'),\n",
       "  Text(562, 0, 'Chinese, North Indian, Italian, Mexican'),\n",
       "  Text(563, 0, 'Chinese, North Indian, Italian, Mughlai'),\n",
       "  Text(564, 0, 'Chinese, North Indian, Mithai, Street Food'),\n",
       "  Text(565, 0, 'Chinese, North Indian, Mughlai'),\n",
       "  Text(566, 0, 'Chinese, North Indian, Mughlai, Continental'),\n",
       "  Text(567, 0, 'Chinese, North Indian, Mughlai, Pizza'),\n",
       "  Text(568, 0, 'Chinese, North Indian, Seafood'),\n",
       "  Text(569, 0, 'Chinese, North Indian, South Indian'),\n",
       "  Text(570, 0, 'Chinese, North Indian, South Indian, Fast Food'),\n",
       "  Text(571, 0, 'Chinese, North Indian, South Indian, Healthy Food'),\n",
       "  Text(572, 0, 'Chinese, North Indian, South Indian, Street Food'),\n",
       "  Text(573, 0, 'Chinese, North Indian, Street Food'),\n",
       "  Text(574, 0, 'Chinese, North Indian, Thai'),\n",
       "  Text(575, 0, 'Chinese, Pizza'),\n",
       "  Text(576, 0, 'Chinese, Seafood'),\n",
       "  Text(577, 0, 'Chinese, Seafood, Asian'),\n",
       "  Text(578, 0, 'Chinese, Seafood, Cantonese, Dim Sum'),\n",
       "  Text(579, 0, 'Chinese, Seafood, Japanese'),\n",
       "  Text(580, 0, 'Chinese, Seafood, North Indian, Biryani'),\n",
       "  Text(581, 0, 'Chinese, Seafood, Thai'),\n",
       "  Text(582, 0, 'Chinese, Seafood, Vegetarian'),\n",
       "  Text(583, 0, 'Chinese, South Indian'),\n",
       "  Text(584, 0, 'Chinese, South Indian, Fast Food'),\n",
       "  Text(585, 0, 'Chinese, South Indian, North Indian'),\n",
       "  Text(586, 0, 'Chinese, Steak'),\n",
       "  Text(587, 0, 'Chinese, Street Food'),\n",
       "  Text(588, 0, 'Chinese, Sushi, Thai'),\n",
       "  Text(589, 0, 'Chinese, Thai'),\n",
       "  Text(590, 0, 'Chinese, Thai, Asian'),\n",
       "  Text(591, 0, 'Chinese, Thai, Asian, Japanese, Korean, Seafood'),\n",
       "  Text(592, 0, 'Chinese, Thai, Asian, Malaysian, Vietnamese, Japanese'),\n",
       "  Text(593, 0, 'Chinese, Thai, Burmese, Vietnamese, Tibetan, Japanese'),\n",
       "  Text(594, 0, 'Chinese, Thai, Continental, Fast Food, North Indian'),\n",
       "  Text(595, 0, 'Chinese, Thai, Continental, North Indian'),\n",
       "  Text(596, 0, 'Chinese, Thai, Fast Food'),\n",
       "  Text(597, 0, 'Chinese, Thai, Japanese'),\n",
       "  Text(598, 0, 'Chinese, Thai, Japanese, Asian'),\n",
       "  Text(599, 0, 'Chinese, Thai, Japanese, Tibetan'),\n",
       "  Text(600, 0, 'Chinese, Thai, Malaysian, Indonesian'),\n",
       "  Text(601, 0, 'Chinese, Thai, Malaysian, Vietnamese, Korean, Indonesian, Asian'),\n",
       "  Text(602, 0, 'Chinese, Thai, North Indian'),\n",
       "  Text(603, 0, 'Chinese, Thai, North Indian, Japanese'),\n",
       "  Text(604, 0, 'Chinese, Thai, North Indian, South Indian'),\n",
       "  Text(605, 0, 'Chinese, Thai, Seafood'),\n",
       "  Text(606, 0, 'Chinese, Thai, Seafood, Naga'),\n",
       "  Text(607, 0, 'Chinese, Thai, Seafood, North Indian, Italian'),\n",
       "  Text(608, 0, 'Chinese, Thai, Sushi'),\n",
       "  Text(609, 0, 'Chinese, Thai, Tibetan'),\n",
       "  Text(610, 0, 'Chinese, Thai, Tibetan, Japanese'),\n",
       "  Text(611, 0, 'Chinese, Tibetan'),\n",
       "  Text(612, 0, 'Chinese, Tibetan, Fast Food'),\n",
       "  Text(613, 0, 'Chinese, Tibetan, Japanese'),\n",
       "  Text(614, 0, 'Coffee and Tea, Cuban, Latin American'),\n",
       "  Text(615, 0, 'Coffee and Tea, Desserts'),\n",
       "  Text(616, 0, 'Coffee and Tea, Desserts, Beverages'),\n",
       "  Text(617, 0, 'Coffee and Tea, Mediterranean'),\n",
       "  Text(618, 0, 'Coffee and Tea, Modern Australian'),\n",
       "  Text(619, 0, 'Coffee and Tea, Sandwich'),\n",
       "  Text(620, 0, 'Coffee and Tea, Tapas, Australian'),\n",
       "  Text(621, 0, 'Coffee and Tea, Tea, Modern Australian'),\n",
       "  Text(622, 0, 'Contemporary'),\n",
       "  Text(623, 0, 'Contemporary, Burger, European'),\n",
       "  Text(624, 0, 'Contemporary, Italian'),\n",
       "  Text(625, 0, 'Contemporary, Sushi, Grill, Italian, Steak'),\n",
       "  Text(626, 0, 'Continental'),\n",
       "  Text(627, 0, 'Continental, American'),\n",
       "  Text(628, 0, 'Continental, American, Asian, North Indian'),\n",
       "  Text(629, 0, 'Continental, American, Cafe'),\n",
       "  Text(630, 0, 'Continental, American, Fast Food'),\n",
       "  Text(631, 0, 'Continental, American, Italian'),\n",
       "  Text(632, 0, 'Continental, American, Italian, Bakery'),\n",
       "  Text(633, 0, 'Continental, American, Italian, Mediterranean'),\n",
       "  Text(634, 0, 'Continental, American, Italian, North Indian, Chinese'),\n",
       "  Text(635, 0, 'Continental, American, Italian, North Indian, Chinese, Cafe'),\n",
       "  Text(636, 0, 'Continental, American, Italian, Seafood, North Indian, Cafe'),\n",
       "  Text(637, 0, 'Continental, American, North Indian'),\n",
       "  Text(638, 0, 'Continental, American, North Indian, Chinese'),\n",
       "  Text(639, 0, 'Continental, American, Seafood'),\n",
       "  Text(640, 0, 'Continental, American, Tex-Mex, North Indian'),\n",
       "  Text(641, 0, 'Continental, Asian'),\n",
       "  Text(642, 0, 'Continental, Asian, Italian, Mediterranean, Burger'),\n",
       "  Text(643, 0, 'Continental, Asian, North Indian'),\n",
       "  Text(644, 0, 'Continental, Asian, North Indian, Italian'),\n",
       "  Text(645, 0, 'Continental, Asian, Sushi'),\n",
       "  Text(646, 0, 'Continental, Burger, American'),\n",
       "  Text(647, 0, 'Continental, Burger, Pizza, North Indian, European, Finger Food'),\n",
       "  Text(648, 0, 'Continental, Cafe'),\n",
       "  Text(649, 0, 'Continental, Cafe, Desserts, Bakery'),\n",
       "  Text(650, 0, 'Continental, Cafe, Italian, Desserts'),\n",
       "  Text(651, 0, 'Continental, Cafe, Italian, Pizza, North Indian, Chinese, Bakery, Mughlai'),\n",
       "  Text(652, 0, 'Continental, Cafe, Spanish, Italian, European, Greek, Mediterranean'),\n",
       "  Text(653, 0, 'Continental, Chinese'),\n",
       "  Text(654, 0, 'Continental, Chinese, Biryani, North Indian'),\n",
       "  Text(655, 0, 'Continental, Chinese, Fast Food'),\n",
       "  Text(656, 0, 'Continental, Chinese, Italian, Bakery'),\n",
       "  Text(657, 0, 'Continental, Chinese, Italian, Cafe'),\n",
       "  Text(658, 0, 'Continental, Chinese, Italian, Finger Food'),\n",
       "  Text(659, 0, 'Continental, Chinese, Japanese, North Indian, Thai'),\n",
       "  Text(660, 0, 'Continental, Chinese, Mexican, North Indian'),\n",
       "  Text(661, 0, 'Continental, Chinese, North Indian'),\n",
       "  Text(662, 0, 'Continental, Chinese, North Indian, Healthy Food'),\n",
       "  Text(663, 0, 'Continental, Chinese, North Indian, Indian'),\n",
       "  Text(664, 0, 'Continental, Chinese, North Indian, Mughlai'),\n",
       "  Text(665, 0, 'Continental, Chinese, Thai'),\n",
       "  Text(666, 0, 'Continental, Chinese, Thai, Malaysian, North Indian'),\n",
       "  Text(667, 0, 'Continental, Chinese, Thai, Mediterranean'),\n",
       "  Text(668, 0, 'Continental, Chinese, Thai, Mughlai, North Indian'),\n",
       "  Text(669, 0, 'Continental, European'),\n",
       "  Text(670, 0, 'Continental, European, Asian, North Indian, Chinese, Italian'),\n",
       "  Text(671, 0, 'Continental, European, North Indian'),\n",
       "  Text(672, 0, 'Continental, European, North Indian, French'),\n",
       "  Text(673, 0, 'Continental, Fast Food'),\n",
       "  Text(674, 0, 'Continental, Fast Food, Asian, Italian'),\n",
       "  Text(675, 0, 'Continental, Fast Food, Chinese, Charcoal Grill, Mexican'),\n",
       "  Text(676, 0, 'Continental, Fast Food, Desserts, Indian'),\n",
       "  Text(677, 0, 'Continental, Fast Food, Italian'),\n",
       "  Text(678, 0, 'Continental, Fast Food, North Indian, Asian'),\n",
       "  Text(679, 0, 'Continental, Fast Food, Tea'),\n",
       "  Text(680, 0, 'Continental, Finger Food'),\n",
       "  Text(681, 0, 'Continental, Finger Food, Chinese, North Indian'),\n",
       "  Text(682, 0, 'Continental, Goan, Seafood, North Indian'),\n",
       "  Text(683, 0, 'Continental, Healthy Food'),\n",
       "  Text(684, 0, 'Continental, Indian'),\n",
       "  Text(685, 0, 'Continental, Italian'),\n",
       "  Text(686, 0, 'Continental, Italian, American'),\n",
       "  Text(687, 0, 'Continental, Italian, American, North Indian'),\n",
       "  Text(688, 0, 'Continental, Italian, Asian, Indian'),\n",
       "  Text(689, 0, 'Continental, Italian, Chinese'),\n",
       "  Text(690, 0, 'Continental, Italian, Fast Food'),\n",
       "  Text(691, 0, 'Continental, Italian, Mediterranean'),\n",
       "  Text(692, 0, 'Continental, Italian, Mediterranean, Asian'),\n",
       "  Text(693, 0, 'Continental, Italian, Mexican'),\n",
       "  Text(694, 0, 'Continental, Italian, North Indian'),\n",
       "  Text(695, 0, 'Continental, Italian, North Indian, American'),\n",
       "  Text(696, 0, 'Continental, Italian, North Indian, Chinese'),\n",
       "  Text(697, 0, 'Continental, Italian, North Indian, Chinese, Lebanese'),\n",
       "  Text(698, 0, 'Continental, Italian, North Indian, Lebanese'),\n",
       "  Text(699, 0, 'Continental, Italian, North Indian, Lebanese, Thai'),\n",
       "  Text(700, 0, 'Continental, Italian, North Indian, Mughlai'),\n",
       "  Text(701, 0, 'Continental, Italian, Pizza, Asian'),\n",
       "  Text(702, 0, 'Continental, Italian, Thai, Finger Food'),\n",
       "  Text(703, 0, 'Continental, Juices, Cafe, Desserts, Salad, Italian'),\n",
       "  Text(704, 0, 'Continental, Kashmiri, Italian, North Indian, Moroccan'),\n",
       "  Text(705, 0, 'Continental, Kerala'),\n",
       "  Text(706, 0, 'Continental, Lebanese, Mexican'),\n",
       "  Text(707, 0, 'Continental, Mediterranean, Italian, North Indian'),\n",
       "  Text(708, 0, 'Continental, Mexican'),\n",
       "  Text(709, 0, 'Continental, Mexican, American, Fast Food, Italian, Chinese'),\n",
       "  Text(710, 0, 'Continental, Mexican, American, Italian, North Indian'),\n",
       "  Text(711, 0, 'Continental, Mexican, Beverages, Desserts, North Indian, Chinese, Rajasthani'),\n",
       "  Text(712, 0, 'Continental, Mexican, Burger, American, Pizza, Tex-Mex'),\n",
       "  Text(713, 0, 'Continental, Mexican, Fast Food, Chinese'),\n",
       "  Text(714, 0, 'Continental, Mexican, Fast Food, North Indian, Chinese'),\n",
       "  Text(715, 0, 'Continental, Mexican, Italian'),\n",
       "  Text(716, 0, 'Continental, Mexican, Mediterranean'),\n",
       "  Text(717, 0, 'Continental, Mexican, North Indian, Chinese'),\n",
       "  Text(718, 0, 'Continental, Middle Eastern, Asian'),\n",
       "  Text(719, 0, 'Continental, Modern Indian, Asian'),\n",
       "  Text(720, 0, 'Continental, North Indian'),\n",
       "  Text(721, 0, 'Continental, North Indian, American, Italian, Mexican'),\n",
       "  Text(722, 0, 'Continental, North Indian, Asian'),\n",
       "  Text(723, 0, 'Continental, North Indian, Chinese'),\n",
       "  Text(724, 0, 'Continental, North Indian, Chinese, Arabian, Thai'),\n",
       "  Text(725, 0, 'Continental, North Indian, Chinese, Asian'),\n",
       "  Text(726, 0, 'Continental, North Indian, Chinese, Cafe'),\n",
       "  Text(727, 0, 'Continental, North Indian, Chinese, European, Asian'),\n",
       "  Text(728, 0, 'Continental, North Indian, Chinese, Italian'),\n",
       "  Text(729, 0, 'Continental, North Indian, Chinese, Italian, Finger Food'),\n",
       "  Text(730, 0, 'Continental, North Indian, Chinese, Mediterranean'),\n",
       "  Text(731, 0, 'Continental, North Indian, Chinese, Mughlai, Asian'),\n",
       "  Text(732, 0, 'Continental, North Indian, European'),\n",
       "  Text(733, 0, 'Continental, North Indian, European, Asian'),\n",
       "  Text(734, 0, 'Continental, North Indian, European, Finger Food'),\n",
       "  Text(735, 0, 'Continental, North Indian, Fast Food, Street Food, South Indian'),\n",
       "  Text(736, 0, 'Continental, North Indian, Finger Food'),\n",
       "  Text(737, 0, 'Continental, North Indian, Italian'),\n",
       "  Text(738, 0, 'Continental, North Indian, Italian, Asian'),\n",
       "  Text(739, 0, 'Continental, North Indian, Italian, Chinese'),\n",
       "  Text(740, 0, 'Continental, North Indian, Italian, Seafood, Goan'),\n",
       "  Text(741, 0, 'Continental, North Indian, Mexican'),\n",
       "  Text(742, 0, 'Continental, North Indian, Mughlai, Burmese'),\n",
       "  Text(743, 0, 'Continental, North Indian, Mughlai, Chinese'),\n",
       "  Text(744, 0, 'Continental, North Indian, Mughlai, Italian'),\n",
       "  Text(745, 0, 'Continental, North Indian, South Indian'),\n",
       "  Text(746, 0, 'Continental, North Indian, South Indian, Italian'),\n",
       "  Text(747, 0, 'Continental, North Indian, Thai, Chinese'),\n",
       "  Text(748, 0, 'Continental, Seafood, Burger, South African, Finger Food, Grill'),\n",
       "  Text(749, 0, 'Continental, Seafood, Chinese, North Indian, Biryani'),\n",
       "  Text(750, 0, 'Continental, Seafood, Goan, Andhra, Kerala, Thai'),\n",
       "  Text(751, 0, 'Continental, Seafood, North Indian'),\n",
       "  Text(752, 0, 'Continental, Seafood, North Indian, Asian'),\n",
       "  Text(753, 0, 'Continental, South African, Beverages, Desserts, Seafood, Grill, Ice Cream, International'),\n",
       "  Text(754, 0, 'Continental, South Indian'),\n",
       "  Text(755, 0, 'Continental, Tex-Mex'),\n",
       "  Text(756, 0, 'Continental, Thai, Chinese, North Indian'),\n",
       "  Text(757, 0, 'Cuban, Spanish'),\n",
       "  Text(758, 0, 'Cuisine Varies'),\n",
       "  Text(759, 0, 'Desserts'),\n",
       "  Text(760, 0, 'Desserts, American'),\n",
       "  Text(761, 0, 'Desserts, Bakery'),\n",
       "  Text(762, 0, 'Desserts, Bakery, Fast Food'),\n",
       "  Text(763, 0, 'Desserts, Bakery, Pizza, Burger, Continental'),\n",
       "  Text(764, 0, 'Desserts, Bakery, Western'),\n",
       "  Text(765, 0, 'Desserts, Bar Food'),\n",
       "  Text(766, 0, 'Desserts, Beverages'),\n",
       "  Text(767, 0, 'Desserts, Beverages, Juices'),\n",
       "  Text(768, 0, 'Desserts, BÌ_rek'),\n",
       "  Text(769, 0, 'Desserts, Cafe'),\n",
       "  Text(770, 0, 'Desserts, Cafe, Mexican'),\n",
       "  Text(771, 0, 'Desserts, Fast Food'),\n",
       "  Text(772, 0, 'Desserts, Fast Food, Chinese'),\n",
       "  Text(773, 0, 'Desserts, Fast Food, Ice Cream'),\n",
       "  Text(774, 0, 'Desserts, Greek, Sandwich'),\n",
       "  Text(775, 0, 'Desserts, Ice Cream'),\n",
       "  Text(776, 0, 'Desserts, Ice Cream, Fast Food'),\n",
       "  Text(777, 0, 'Desserts, Ice Cream, North Indian'),\n",
       "  Text(778, 0, 'Desserts, Ice Cream, Pizza'),\n",
       "  Text(779, 0, 'Desserts, Italian, Pizza'),\n",
       "  Text(780, 0, 'Desserts, Latin American, Argentine'),\n",
       "  Text(781, 0, 'Desserts, Middle Eastern, Turkish'),\n",
       "  Text(782, 0, 'Desserts, Mithai'),\n",
       "  Text(783, 0, 'Desserts, North Indian'),\n",
       "  Text(784, 0, 'Desserts, North Indian, Chinese, South Indian, Fast Food, Street Food'),\n",
       "  Text(785, 0, 'Desserts, Pizza, Ice Cream'),\n",
       "  Text(786, 0, 'Desserts, Sandwich'),\n",
       "  Text(787, 0, 'Desserts, Sandwich, Ice Cream'),\n",
       "  Text(788, 0, 'Desserts, Sandwich, Southern'),\n",
       "  Text(789, 0, 'Desserts, Street Food'),\n",
       "  Text(790, 0, 'Desserts, Thai'),\n",
       "  Text(791, 0, 'Drinks Only'),\n",
       "  Text(792, 0, 'European'),\n",
       "  Text(793, 0, 'European, American'),\n",
       "  Text(794, 0, 'European, American, Street Food'),\n",
       "  Text(795, 0, 'European, Arabian, Japanese, Bakery, Desserts'),\n",
       "  Text(796, 0, 'European, Asian'),\n",
       "  Text(797, 0, 'European, Asian, Indian'),\n",
       "  Text(798, 0, 'European, Asian, Mediterranean, Modern Indian, Desserts, Finger Food'),\n",
       "  Text(799, 0, 'European, Asian, North Indian, Italian, Continental, Pizza'),\n",
       "  Text(800, 0, 'European, Cafe'),\n",
       "  Text(801, 0, 'European, Cafe, Italian'),\n",
       "  Text(802, 0, 'European, Chinese'),\n",
       "  Text(803, 0, 'European, Chinese, North Indian, Italian'),\n",
       "  Text(804, 0, 'European, Contemporary'),\n",
       "  Text(805, 0, 'European, Continental'),\n",
       "  Text(806, 0, 'European, Continental, North Indian'),\n",
       "  Text(807, 0, 'European, Continental, Pizza'),\n",
       "  Text(808, 0, 'European, Desserts'),\n",
       "  Text(809, 0, 'European, German'),\n",
       "  Text(810, 0, 'European, International, Tapas'),\n",
       "  Text(811, 0, 'European, Italian'),\n",
       "  Text(812, 0, 'European, Italian, Cafe'),\n",
       "  Text(813, 0, 'European, Italian, Desserts'),\n",
       "  Text(814, 0, 'European, Italian, Mediterranean'),\n",
       "  Text(815, 0, 'European, Italian, North Indian'),\n",
       "  Text(816, 0, 'European, Italian, Thai, Chinese, North Indian'),\n",
       "  Text(817, 0, 'European, Lebanese, Mediterranean'),\n",
       "  Text(818, 0, 'European, Mediterranean, Contemporary'),\n",
       "  Text(819, 0, 'European, Mediterranean, North Indian'),\n",
       "  Text(820, 0, 'European, North Indian'),\n",
       "  Text(821, 0, 'European, North Indian, Chinese'),\n",
       "  Text(822, 0, 'European, North Indian, Continental, Italian'),\n",
       "  Text(823, 0, 'European, North Indian, Mediterranean, American'),\n",
       "  Text(824, 0, 'European, Pizza'),\n",
       "  Text(825, 0, 'European, South African'),\n",
       "  Text(826, 0, 'European, South African, Steak'),\n",
       "  Text(827, 0, 'European, Spanish'),\n",
       "  Text(828, 0, 'European, Sushi, Italian'),\n",
       "  Text(829, 0, 'Fast Food'),\n",
       "  Text(830, 0, 'Fast Food, American'),\n",
       "  Text(831, 0, 'Fast Food, American, Burger'),\n",
       "  Text(832, 0, 'Fast Food, American, Italian'),\n",
       "  Text(833, 0, 'Fast Food, American, Salad, Healthy Food'),\n",
       "  Text(834, 0, 'Fast Food, Bakery'),\n",
       "  Text(835, 0, 'Fast Food, Beverages'),\n",
       "  Text(836, 0, 'Fast Food, Beverages, Desserts'),\n",
       "  Text(837, 0, 'Fast Food, Biryani'),\n",
       "  Text(838, 0, 'Fast Food, Burger'),\n",
       "  Text(839, 0, 'Fast Food, Cafe'),\n",
       "  Text(840, 0, 'Fast Food, Cafe, Desserts, Bakery'),\n",
       "  Text(841, 0, 'Fast Food, Cafe, Italian, North Indian, Chinese'),\n",
       "  Text(842, 0, 'Fast Food, Chinese'),\n",
       "  Text(843, 0, 'Fast Food, Chinese, Bakery'),\n",
       "  Text(844, 0, 'Fast Food, Chinese, Bengali'),\n",
       "  Text(845, 0, 'Fast Food, Chinese, Burger'),\n",
       "  Text(846, 0, 'Fast Food, Chinese, Italian'),\n",
       "  Text(847, 0, 'Fast Food, Chinese, Mithai, Street Food'),\n",
       "  Text(848, 0, 'Fast Food, Chinese, North Indian'),\n",
       "  Text(849, 0, 'Fast Food, Continental, Italian, Bakery'),\n",
       "  Text(850, 0, 'Fast Food, Desserts'),\n",
       "  Text(851, 0, 'Fast Food, Desserts, Beverages'),\n",
       "  Text(852, 0, 'Fast Food, Desserts, Ice Cream, Beverages'),\n",
       "  Text(853, 0, 'Fast Food, French'),\n",
       "  Text(854, 0, 'Fast Food, Healthy Food'),\n",
       "  Text(855, 0, 'Fast Food, Italian'),\n",
       "  Text(856, 0, 'Fast Food, Italian, Beverages'),\n",
       "  Text(857, 0, 'Fast Food, Italian, Chinese'),\n",
       "  Text(858, 0, 'Fast Food, Italian, Desserts, Beverages'),\n",
       "  Text(859, 0, 'Fast Food, Italian, North Indian, Chinese'),\n",
       "  Text(860, 0, 'Fast Food, Italian, Pizza'),\n",
       "  Text(861, 0, 'Fast Food, Maharashtrian, North Indian'),\n",
       "  Text(862, 0, 'Fast Food, Mexican, Tex-Mex'),\n",
       "  Text(863, 0, 'Fast Food, Mithai, Bakery'),\n",
       "  Text(864, 0, 'Fast Food, Mughlai'),\n",
       "  Text(865, 0, 'Fast Food, Mughlai, Armenian'),\n",
       "  Text(866, 0, 'Fast Food, North Indian'),\n",
       "  Text(867, 0, 'Fast Food, North Indian, Bakery'),\n",
       "  Text(868, 0, 'Fast Food, North Indian, Beverages'),\n",
       "  Text(869, 0, 'Fast Food, North Indian, Chinese'),\n",
       "  Text(870, 0, 'Fast Food, North Indian, Chinese, Desserts'),\n",
       "  Text(871, 0, 'Fast Food, North Indian, Chinese, Desserts, Ice Cream'),\n",
       "  Text(872, 0, 'Fast Food, North Indian, Chinese, South Indian, Ice Cream'),\n",
       "  Text(873, 0, 'Fast Food, North Indian, Desserts, Ice Cream'),\n",
       "  Text(874, 0, 'Fast Food, North Indian, Mughlai'),\n",
       "  Text(875, 0, 'Fast Food, North Indian, South Indian'),\n",
       "  Text(876, 0, 'Fast Food, North Indian, South Indian, Chinese'),\n",
       "  Text(877, 0, 'Fast Food, North Indian, South Indian, Chinese, Bakery'),\n",
       "  Text(878, 0, 'Fast Food, North Indian, South Indian, Chinese, Street Food, Mithai'),\n",
       "  Text(879, 0, 'Fast Food, Pizza'),\n",
       "  Text(880, 0, 'Fast Food, Pizza, Burger'),\n",
       "  Text(881, 0, 'Fast Food, Raw Meats'),\n",
       "  Text(882, 0, 'Fast Food, Seafood'),\n",
       "  Text(883, 0, 'Fast Food, South Indian'),\n",
       "  Text(884, 0, 'Fast Food, South Indian, Chinese'),\n",
       "  Text(885, 0, 'Fast Food, South Indian, Chinese, Mithai'),\n",
       "  Text(886, 0, 'Fast Food, South Indian, Mithai'),\n",
       "  Text(887, 0, 'Fast Food, Street Food'),\n",
       "  Text(888, 0, 'Fast Food, Street Food, Beverages'),\n",
       "  Text(889, 0, 'Fast Food, Street Food, Chinese'),\n",
       "  Text(890, 0, 'Fast Food, Street Food, South Indian'),\n",
       "  Text(891, 0, 'Fast Food, Tea'),\n",
       "  Text(892, 0, 'Fast Food, Turkish'),\n",
       "  Text(893, 0, 'Filipino'),\n",
       "  Text(894, 0, 'Filipino, Japanese, Asian'),\n",
       "  Text(895, 0, 'Filipino, Mexican'),\n",
       "  Text(896, 0, 'Finger Food'),\n",
       "  Text(897, 0, 'Finger Food, American, Continental, North Indian, Italian'),\n",
       "  Text(898, 0, 'Finger Food, Continental, Italian'),\n",
       "  Text(899, 0, 'Finger Food, Continental, Italian, Chinese'),\n",
       "  Text(900, 0, 'Finger Food, Continental, North Indian'),\n",
       "  Text(901, 0, 'Finger Food, Continental, North Indian, Chinese'),\n",
       "  Text(902, 0, 'Finger Food, Continental, North Indian, Italian, Chinese'),\n",
       "  Text(903, 0, 'Finger Food, European'),\n",
       "  Text(904, 0, 'Finger Food, European, North Indian'),\n",
       "  Text(905, 0, 'Finger Food, Italian'),\n",
       "  Text(906, 0, 'Finger Food, Italian, Middle Eastern'),\n",
       "  Text(907, 0, 'Finger Food, Italian, North Indian'),\n",
       "  Text(908, 0, 'Finger Food, Italian, Spanish, Greek'),\n",
       "  Text(909, 0, 'Finger Food, North Indian'),\n",
       "  Text(910, 0, 'Finger Food, North Indian, Chinese'),\n",
       "  Text(911, 0, 'Finger Food, North Indian, Continental, Chinese, Italian'),\n",
       "  Text(912, 0, 'Finger Food, North Indian, Continental, Italian'),\n",
       "  Text(913, 0, 'Finger Food, North Indian, Continental, Italian, Mediterranean'),\n",
       "  Text(914, 0, 'Finger Food, North Indian, Italian'),\n",
       "  Text(915, 0, 'Finger Food, North Indian, Italian, Continental, Thai, South Indian'),\n",
       "  Text(916, 0, 'Finger Food, North Indian, Italian, European, Continental'),\n",
       "  Text(917, 0, 'French'),\n",
       "  Text(918, 0, 'French, Brazilian, Beverages'),\n",
       "  Text(919, 0, 'French, Continental, North Indian'),\n",
       "  Text(920, 0, 'French, Italian'),\n",
       "  Text(921, 0, 'French, Japanese, Desserts'),\n",
       "  Text(922, 0, 'French, Kiwi'),\n",
       "  Text(923, 0, 'French, Mediterranean, European'),\n",
       "  Text(924, 0, 'French, Western'),\n",
       "  Text(925, 0, 'German'),\n",
       "  Text(926, 0, 'German, Ice Cream'),\n",
       "  Text(927, 0, 'Goan'),\n",
       "  Text(928, 0, 'Goan, American, Portuguese'),\n",
       "  Text(929, 0, 'Goan, Chinese, Indian, North Indian'),\n",
       "  Text(930, 0, 'Goan, Mangalorean, Continental, French'),\n",
       "  Text(931, 0, 'Goan, North Indian, Chinese'),\n",
       "  Text(932, 0, 'Goan, Seafood'),\n",
       "  Text(933, 0, 'Goan, Seafood, Chinese'),\n",
       "  Text(934, 0, 'Goan, Seafood, Chinese, North Indian'),\n",
       "  Text(935, 0, 'Goan, Seafood, North Indian'),\n",
       "  Text(936, 0, 'Gourmet Fast Food, Burger'),\n",
       "  Text(937, 0, 'Greek'),\n",
       "  Text(938, 0, 'Greek, Italian'),\n",
       "  Text(939, 0, 'Greek, Lebanese'),\n",
       "  Text(940, 0, 'Greek, Mediterranean'),\n",
       "  Text(941, 0, 'Greek, Mediterranean, Middle Eastern'),\n",
       "  Text(942, 0, 'Greek, Mediterranean, Vegetarian'),\n",
       "  Text(943, 0, 'Grill, Burger'),\n",
       "  Text(944, 0, 'Grill, Steak, Burger, Sushi, Tapas'),\n",
       "  Text(945, 0, 'Gujarati'),\n",
       "  Text(946, 0, 'Gujarati, Rajasthani'),\n",
       "  Text(947, 0, 'Gujarati, Rajasthani, North Indian, Fast Food'),\n",
       "  Text(948, 0, 'Gujarati, South Indian, North Indian'),\n",
       "  Text(949, 0, 'Hawaiian'),\n",
       "  Text(950, 0, 'Hawaiian, Seafood'),\n",
       "  Text(951, 0, 'Hawaiian, Seafood, Steak'),\n",
       "  Text(952, 0, 'Healthy Food'),\n",
       "  Text(953, 0, 'Healthy Food, American, Burger, Salad'),\n",
       "  Text(954, 0, 'Healthy Food, Beverages'),\n",
       "  Text(955, 0, 'Healthy Food, Cafe, Desserts, Italian, Bakery'),\n",
       "  Text(956, 0, 'Healthy Food, Continental'),\n",
       "  Text(957, 0, 'Healthy Food, Continental, Italian'),\n",
       "  Text(958, 0, 'Healthy Food, Continental, Juices, Beverages, Italian, Salad, Lebanese'),\n",
       "  Text(959, 0, 'Healthy Food, Continental, Juices, Salad'),\n",
       "  Text(960, 0, 'Healthy Food, Continental, North Indian, Salad'),\n",
       "  Text(961, 0, 'Healthy Food, European, Continental, Salad'),\n",
       "  Text(962, 0, 'Healthy Food, Fast Food'),\n",
       "  Text(963, 0, 'Healthy Food, Fast Food, Salad'),\n",
       "  Text(964, 0, 'Healthy Food, Italian, Juices, Beverages'),\n",
       "  Text(965, 0, 'Healthy Food, Juices'),\n",
       "  Text(966, 0, 'Healthy Food, Juices, Salad'),\n",
       "  Text(967, 0, 'Healthy Food, Juices, Salad, Italian, Continental'),\n",
       "  Text(968, 0, 'Healthy Food, North Indian'),\n",
       "  Text(969, 0, 'Healthy Food, North Indian, Beverages'),\n",
       "  Text(970, 0, 'Healthy Food, North Indian, Chinese, Continental'),\n",
       "  Text(971, 0, 'Healthy Food, North Indian, Continental'),\n",
       "  Text(972, 0, 'Healthy Food, North Indian, Italian, Salad'),\n",
       "  Text(973, 0, 'Healthy Food, Salad'),\n",
       "  Text(974, 0, 'Healthy Food, Salad, Italian, Continental'),\n",
       "  Text(975, 0, 'Healthy Food, Seafood, Beverages, Belgian, Contemporary, Desserts, Finger Food, International'),\n",
       "  Text(976, 0, 'Hyderabadi'),\n",
       "  Text(977, 0, 'Hyderabadi, Awadhi'),\n",
       "  Text(978, 0, 'Hyderabadi, Biryani'),\n",
       "  Text(979, 0, 'Hyderabadi, Biryani, North Indian'),\n",
       "  Text(980, 0, 'Hyderabadi, Fast Food'),\n",
       "  Text(981, 0, 'Hyderabadi, North Indian'),\n",
       "  Text(982, 0, 'Hyderabadi, North Indian, Biryani'),\n",
       "  Text(983, 0, 'Ice Cream'),\n",
       "  Text(984, 0, 'Ice Cream, Bakery'),\n",
       "  Text(985, 0, 'Ice Cream, Beverages'),\n",
       "  Text(986, 0, 'Ice Cream, Beverages, Fast Food'),\n",
       "  Text(987, 0, 'Ice Cream, Desserts'),\n",
       "  Text(988, 0, 'Ice Cream, Desserts, Beverages'),\n",
       "  Text(989, 0, 'Ice Cream, Desserts, Cafe'),\n",
       "  Text(990, 0, 'Ice Cream, Desserts, Continental'),\n",
       "  Text(991, 0, 'Ice Cream, Desserts, Fast Food'),\n",
       "  Text(992, 0, 'Ice Cream, Desserts, North Indian, Street Food'),\n",
       "  Text(993, 0, 'Ice Cream, Fast Food, Beverages'),\n",
       "  Text(994, 0, 'Ice Cream, Mithai, North Indian, Street Food'),\n",
       "  Text(995, 0, 'Ice Cream, Street Food'),\n",
       "  Text(996, 0, 'Indian'),\n",
       "  Text(997, 0, 'Indian, Asian'),\n",
       "  Text(998, 0, 'Indian, Asian, Durban, International, Desserts'),\n",
       "  Text(999, 0, 'Indian, Cafe'),\n",
       "  Text(1000, 0, 'Indian, Cafe, Curry'),\n",
       "  ...])"
      ]
     },
     "execution_count": 90,
     "metadata": {},
     "output_type": "execute_result"
    },
    {
     "data": {
      "image/png": "[encoded data removed]",
      "text/plain": [
       "<Figure size 1296x360 with 1 Axes>"
      ]
     },
     "metadata": {
      "needs_background": "light"
     },
     "output_type": "display_data"
    }
   ],
   "source": [
    "data.boxplot(column='Aggregate rating', by='Cuisines', figsize=(18,5))\n",
    "plt.xticks(rotation=90)"
   ]
  },
  {
   "cell_type": "code",
   "execution_count": 91,
   "metadata": {},
   "outputs": [
    {
     "data": {
      "text/plain": [
       "Text(0.5, 1.0, 'Average cost vs Rating')"
      ]
     },
     "execution_count": 91,
     "metadata": {},
     "output_type": "execute_result"
    },
    {
     "data": {
      "image/png": "[encoded data removed]",
      "text/plain": [
       "<Figure size 720x576 with 1 Axes>"
      ]
     },
     "metadata": {
      "needs_background": "light"
     },
     "output_type": "display_data"
    }
   ],
   "source": [
    "#What is the distribution cost across the restaurants?\n",
    "\n",
    "# Average cost per two is a continuous variable and Aggregate Rating is a Continuous Variable..\n",
    "# when the tarhet and predictor variables are continuous we use scatter plot.\n",
    "\n",
    "data.plot.scatter(x='Average Cost for two',y='Aggregate rating',figsize=(10,8))\n",
    "plt.title('Average cost vs Rating')\n"
   ]
  },
  {
   "cell_type": "code",
   "execution_count": 92,
   "metadata": {},
   "outputs": [
    {
     "data": {
      "text/plain": [
       "array(['Skye', 'Satoo - Hotel Shangri-La', 'Sushi Masa', ...,\n",
       "       'UrbanCrave', 'Deena Chat Bhandar', 'VNS Live Studio'],\n",
       "      dtype=object)"
      ]
     },
     "execution_count": 92,
     "metadata": {},
     "output_type": "execute_result"
    }
   ],
   "source": [
    "# Average Cost for two is continuous variable\n",
    "# Restaurants are categorical variable\n",
    "data['Restaurant Name'].unique()"
   ]
  },
  {
   "cell_type": "code",
   "execution_count": 93,
   "metadata": {},
   "outputs": [
    {
     "data": {
      "text/plain": [
       "array([[<AxesSubplot:title={'center':'Average Cost for two'}>]],\n",
       "      dtype=object)"
      ]
     },
     "execution_count": 93,
     "metadata": {},
     "output_type": "execute_result"
    },
    {
     "data": {
      "image/png": "[encoded data removed]",
      "text/plain": [
       "<Figure size 432x288 with 1 Axes>"
      ]
     },
     "metadata": {
      "needs_background": "light"
     },
     "output_type": "display_data"
    }
   ],
   "source": [
    "data.hist(column='Average Cost for two')\n"
   ]
  },
  {
   "cell_type": "code",
   "execution_count": 94,
   "metadata": {},
   "outputs": [
    {
     "data": {
      "text/plain": [
       "800000"
      ]
     },
     "execution_count": 94,
     "metadata": {},
     "output_type": "execute_result"
    }
   ],
   "source": [
    "data['Average Cost for two'].max()"
   ]
  },
  {
   "cell_type": "code",
   "execution_count": 95,
   "metadata": {},
   "outputs": [
    {
     "data": {
      "text/plain": [
       "0"
      ]
     },
     "execution_count": 95,
     "metadata": {},
     "output_type": "execute_result"
    }
   ],
   "source": [
    "data['Average Cost for two'].min()"
   ]
  },
  {
   "cell_type": "code",
   "execution_count": 96,
   "metadata": {},
   "outputs": [],
   "source": [
    "# The cost is between 0 and 800000 acroos the Restaurants"
   ]
  },
  {
   "cell_type": "code",
   "execution_count": 97,
   "metadata": {},
   "outputs": [],
   "source": [
    "#How ratings are distributed among the various factors?\n",
    "# Explain the factors in the data that may have an effect on ratings. For example, number of cuisines, cost, delivery option, etc.\n"
   ]
  },
  {
   "cell_type": "code",
   "execution_count": 98,
   "metadata": {},
   "outputs": [],
   "source": [
    "\n",
    "# Ratings is the target variable in our data..\n",
    "# all the other columns are independent/Predictor variables\n",
    "# ratings is continuous variable..\n",
    "\n",
    "# When we are analyzing dta, its important to understand the relationship between target variable and independent variables..\n",
    "\n",
    "# when two variables are continuous we find the relation between them using scatter plot..\n",
    "# when one variable is continuous and one variable is categorical, we find the relation using  box plots..\n",
    "# when both variables are categorical , we find the relation using bar charts..\n"
   ]
  },
  {
   "cell_type": "code",
   "execution_count": 99,
   "metadata": {},
   "outputs": [
    {
     "data": {
      "text/plain": [
       "Text(0.5, 1.0, ' Ratings Vs Latitude')"
      ]
     },
     "execution_count": 99,
     "metadata": {},
     "output_type": "execute_result"
    },
    {
     "data": {
      "image/png": "[encoded data removed]",
      "text/plain": [
       "<Figure size 720x576 with 1 Axes>"
      ]
     },
     "metadata": {
      "needs_background": "light"
     },
     "output_type": "display_data"
    }
   ],
   "source": [
    "# Latitude vs Ratings\n",
    "# Latitude is Continuous and Ratings is continuous\n",
    "\n",
    "data.plot.scatter(x='Latitude',y='Aggregate rating',figsize=(10,8))\n",
    "plt.title(' Ratings Vs Latitude')"
   ]
  },
  {
   "cell_type": "code",
   "execution_count": 100,
   "metadata": {},
   "outputs": [
    {
     "data": {
      "text/plain": [
       "Text(0.5, 1.0, ' Ratings Vs Longitude')"
      ]
     },
     "execution_count": 100,
     "metadata": {},
     "output_type": "execute_result"
    },
    {
     "data": {
      "image/png": "[encoded data removed]",
      "text/plain": [
       "<Figure size 720x576 with 1 Axes>"
      ]
     },
     "metadata": {
      "needs_background": "light"
     },
     "output_type": "display_data"
    }
   ],
   "source": [
    "# Longitude vs Ratings\n",
    "# Longitude is Continuous and Ratings is continuous\n",
    "\n",
    "data.plot.scatter(x='Longitude',y='Aggregate rating',figsize=(10,8))\n",
    "plt.title(' Ratings Vs Longitude')"
   ]
  },
  {
   "cell_type": "code",
   "execution_count": 101,
   "metadata": {},
   "outputs": [
    {
     "data": {
      "text/plain": [
       "Text(0.5, 1.0, ' Ratings Vs Average Cost for two ')"
      ]
     },
     "execution_count": 101,
     "metadata": {},
     "output_type": "execute_result"
    },
    {
     "data": {
      "image/png": "[encoded data removed]",
      "text/plain": [
       "<Figure size 720x576 with 1 Axes>"
      ]
     },
     "metadata": {
      "needs_background": "light"
     },
     "output_type": "display_data"
    }
   ],
   "source": [
    "# Average Cost for two is continuous\n",
    "# ratings Vs Average cost for two\n",
    "\n",
    "\n",
    "data.plot.scatter(x='Average Cost for two',y='Aggregate rating',figsize=(10,8))\n",
    "plt.title(' Ratings Vs Average Cost for two ')"
   ]
  },
  {
   "cell_type": "code",
   "execution_count": 102,
   "metadata": {},
   "outputs": [
    {
     "data": {
      "text/plain": [
       "Text(0.5, 1.0, ' Ratings Vs Votes')"
      ]
     },
     "execution_count": 102,
     "metadata": {},
     "output_type": "execute_result"
    },
    {
     "data": {
      "image/png": "[encoded data removed]",
      "text/plain": [
       "<Figure size 720x576 with 1 Axes>"
      ]
     },
     "metadata": {
      "needs_background": "light"
     },
     "output_type": "display_data"
    }
   ],
   "source": [
    "# Votes are Continuous variable\n",
    "# Votes vs Ratings\n",
    "\n",
    "\n",
    "data.plot.scatter(x='Votes',y='Aggregate rating',figsize=(10,8))\n",
    "plt.title(' Ratings Vs Votes')"
   ]
  },
  {
   "cell_type": "code",
   "execution_count": 103,
   "metadata": {},
   "outputs": [
    {
     "data": {
      "text/html": [
       "<div>\n",
       "<style scoped>\n",
       "    .dataframe tbody tr th:only-of-type {\n",
       "        vertical-align: middle;\n",
       "    }\n",
       "\n",
       "    .dataframe tbody tr th {\n",
       "        vertical-align: top;\n",
       "    }\n",
       "\n",
       "    .dataframe thead th {\n",
       "        text-align: right;\n",
       "    }\n",
       "</style>\n",
       "<table border=\"1\" class=\"dataframe\">\n",
       "  <thead>\n",
       "    <tr style=\"text-align: right;\">\n",
       "      <th></th>\n",
       "      <th>Aggregate rating</th>\n",
       "      <th>Latitude</th>\n",
       "      <th>Longitude</th>\n",
       "      <th>Average Cost for two</th>\n",
       "      <th>Votes</th>\n",
       "    </tr>\n",
       "  </thead>\n",
       "  <tbody>\n",
       "    <tr>\n",
       "      <th>Aggregate rating</th>\n",
       "      <td>1.000000</td>\n",
       "      <td>0.000222</td>\n",
       "      <td>-0.114759</td>\n",
       "      <td>0.051869</td>\n",
       "      <td>0.313381</td>\n",
       "    </tr>\n",
       "    <tr>\n",
       "      <th>Latitude</th>\n",
       "      <td>0.000222</td>\n",
       "      <td>1.000000</td>\n",
       "      <td>0.045421</td>\n",
       "      <td>-0.111081</td>\n",
       "      <td>-0.022879</td>\n",
       "    </tr>\n",
       "    <tr>\n",
       "      <th>Longitude</th>\n",
       "      <td>-0.114759</td>\n",
       "      <td>0.045421</td>\n",
       "      <td>1.000000</td>\n",
       "      <td>0.045949</td>\n",
       "      <td>-0.084410</td>\n",
       "    </tr>\n",
       "    <tr>\n",
       "      <th>Average Cost for two</th>\n",
       "      <td>0.051869</td>\n",
       "      <td>-0.111081</td>\n",
       "      <td>0.045949</td>\n",
       "      <td>1.000000</td>\n",
       "      <td>0.067844</td>\n",
       "    </tr>\n",
       "    <tr>\n",
       "      <th>Votes</th>\n",
       "      <td>0.313381</td>\n",
       "      <td>-0.022879</td>\n",
       "      <td>-0.084410</td>\n",
       "      <td>0.067844</td>\n",
       "      <td>1.000000</td>\n",
       "    </tr>\n",
       "  </tbody>\n",
       "</table>\n",
       "</div>"
      ],
      "text/plain": [
       "                      Aggregate rating  Latitude  Longitude  \\\n",
       "Aggregate rating              1.000000  0.000222  -0.114759   \n",
       "Latitude                      0.000222  1.000000   0.045421   \n",
       "Longitude                    -0.114759  0.045421   1.000000   \n",
       "Average Cost for two          0.051869 -0.111081   0.045949   \n",
       "Votes                         0.313381 -0.022879  -0.084410   \n",
       "\n",
       "                      Average Cost for two     Votes  \n",
       "Aggregate rating                  0.051869  0.313381  \n",
       "Latitude                         -0.111081 -0.022879  \n",
       "Longitude                         0.045949 -0.084410  \n",
       "Average Cost for two              1.000000  0.067844  \n",
       "Votes                             0.067844  1.000000  "
      ]
     },
     "execution_count": 103,
     "metadata": {},
     "output_type": "execute_result"
    }
   ],
   "source": [
    "# To find the Relationshgip between two continuous variables we use pearson correlation coefficient..\n",
    "# if ther is a positive correlatio between two variables that means if one increses, the other variable increase and coefficient is in between 0,1\n",
    "# The negative correlation means the coefficient between -1,0\n",
    "# 0 coeffient means no relation between two variables..\n",
    "\n",
    "# finding the correlation between continuous variable sin our data\n",
    "\n",
    "Corr_data =data[['Aggregate rating','Latitude','Longitude','Average Cost for two','Votes']].corr()\n",
    "Corr_data"
   ]
  },
  {
   "cell_type": "code",
   "execution_count": 104,
   "metadata": {},
   "outputs": [],
   "source": [
    "# As per the above table we can say that Ratings has a positive correlation with  Average Cost for two , Latitude, and Votes \n"
   ]
  },
  {
   "cell_type": "code",
   "execution_count": 105,
   "metadata": {},
   "outputs": [
    {
     "data": {
      "text/plain": [
       "<AxesSubplot:title={'center':'Aggregate rating'}, xlabel='Has Table booking'>"
      ]
     },
     "execution_count": 105,
     "metadata": {},
     "output_type": "execute_result"
    },
    {
     "data": {
      "image/png": "[encoded data removed]",
      "text/plain": [
       "<Figure size 720x576 with 1 Axes>"
      ]
     },
     "metadata": {
      "needs_background": "light"
     },
     "output_type": "display_data"
    }
   ],
   "source": [
    "# When one variable is Categorical and one variable is continuous we use boxplots to visualize data..\n",
    "# ratings Vs HAs Table Booking\n",
    "data.boxplot(column='Aggregate rating',by='Has Table booking',figsize=(10,8))"
   ]
  },
  {
   "cell_type": "code",
   "execution_count": 106,
   "metadata": {},
   "outputs": [
    {
     "data": {
      "text/plain": [
       "<AxesSubplot:title={'center':'Aggregate rating'}, xlabel='Has Online delivery'>"
      ]
     },
     "execution_count": 106,
     "metadata": {},
     "output_type": "execute_result"
    },
    {
     "data": {
      "image/png": "[encoded data removed]",
      "text/plain": [
       "<Figure size 720x576 with 1 Axes>"
      ]
     },
     "metadata": {
      "needs_background": "light"
     },
     "output_type": "display_data"
    }
   ],
   "source": [
    "# Ratings Vs Has Online delivery\n",
    "\n",
    "data.boxplot(column='Aggregate rating',by='Has Online delivery',figsize=(10,8))"
   ]
  },
  {
   "cell_type": "code",
   "execution_count": 107,
   "metadata": {},
   "outputs": [
    {
     "data": {
      "text/plain": [
       "Text(0.5, 1.0, 'Rating Vs Price range ')"
      ]
     },
     "execution_count": 107,
     "metadata": {},
     "output_type": "execute_result"
    },
    {
     "data": {
      "image/png": "[encoded data removed]",
      "text/plain": [
       "<Figure size 720x576 with 1 Axes>"
      ]
     },
     "metadata": {
      "needs_background": "light"
     },
     "output_type": "display_data"
    }
   ],
   "source": [
    "# Ratings Vs Price range\n",
    "\n",
    "data.boxplot(column='Aggregate rating',by='Price range',figsize=(10,8))\n",
    "plt.title('Rating Vs Price range ')"
   ]
  },
  {
   "cell_type": "code",
   "execution_count": 108,
   "metadata": {},
   "outputs": [
    {
     "data": {
      "text/plain": [
       "F_onewayResult(statistic=358.8090622973279, pvalue=1.4013559755656567e-78)"
      ]
     },
     "execution_count": 108,
     "metadata": {},
     "output_type": "execute_result"
    }
   ],
   "source": [
    "# If the distribution looks similar for each category that means the the continuous variable has NO effect on the target variable. Hence, the variables are not correlated to each other.\n",
    "\n",
    "# if the distribution is different for each category, It hints that these variables might be correlated with Rating.\n",
    "\n",
    "# In our data, all three categorical predictors looks correlated with the Target variable.\n",
    "# We use ANOVA test to find the correlation between categorical and continuous variables\n",
    "# In ANOVA test, H0 ( Null Hypothesis )is that there is no relationship between two varibles \n",
    "# if p-value is <0.05 , we reject Null Hypothesis..\n",
    "\n",
    "\n",
    "import scipy.stats as stats\n",
    "from scipy.stats import f_oneway\n",
    "T_Yes= data.groupby('Has Table booking')['Aggregate rating'].apply(list)\n",
    "Anova_Results = f_oneway(*T_Yes)\n",
    "Anova_Results\n",
    "\n"
   ]
  },
  {
   "cell_type": "code",
   "execution_count": 109,
   "metadata": {},
   "outputs": [
    {
     "name": "stdout",
     "output_type": "stream",
     "text": [
      "Has Table Booking is correlated with Aggregate Rating | P-Value: 1.4013559755656567e-78\n"
     ]
    }
   ],
   "source": [
    "# if p-value is < 0.05 then we reject H0 ..\n",
    "\n",
    "if (Anova_Results[1]  < 0.05):\n",
    "    print('Has Table Booking', 'is correlated with', 'Aggregate Rating', '| P-Value:', Anova_Results[1])            \n",
    "else:\n",
    "    print('Has Table Booking', 'is NOT correlated with', 'Aggregate Rating', '| P-Value:', Anova_Results[1])\n",
    "            \n"
   ]
  },
  {
   "cell_type": "code",
   "execution_count": 110,
   "metadata": {},
   "outputs": [
    {
     "name": "stdout",
     "output_type": "stream",
     "text": [
      "Has Online Delivery is correlated with Aggregate Rating | P-Value: 4.3982765040969695e-111\n"
     ]
    }
   ],
   "source": [
    "O_Yes= data.groupby('Has Online delivery')['Aggregate rating'].apply(list)\n",
    "Anova_Results = f_oneway(*O_Yes)\n",
    "Anova_Results\n",
    "if (Anova_Results[1]  < 0.05):\n",
    "    print('Has Online Delivery', 'is correlated with', 'Aggregate Rating', '| P-Value:', Anova_Results[1])            \n",
    "else:\n",
    "    print('Has Online Delivery', 'is NOT correlated with', 'Aggregate Rating', '| P-Value:', Anova_Results[1])\n"
   ]
  },
  {
   "cell_type": "code",
   "execution_count": 111,
   "metadata": {},
   "outputs": [
    {
     "name": "stdout",
     "output_type": "stream",
     "text": [
      "Price range is correlated with Aggregate Rating | P-Value: 0.0\n"
     ]
    }
   ],
   "source": [
    "Price_range = data.groupby('Price range')['Aggregate rating'].apply(list)\n",
    "Anova_Results = f_oneway(*Price_range)\n",
    "Anova_Results\n",
    "if (Anova_Results[1]  < 0.05):\n",
    "    print('Price range', 'is correlated with', 'Aggregate Rating', '| P-Value:', Anova_Results[1])            \n",
    "else:\n",
    "    print('Price range', 'is NOT correlated with', 'Aggregate Rating', '| P-Value:', Anova_Results[1])\n"
   ]
  },
  {
   "cell_type": "code",
   "execution_count": 112,
   "metadata": {},
   "outputs": [],
   "source": [
    "# The three categorical variables are in correlation with Ratings(Target variable)"
   ]
  },
  {
   "cell_type": "code",
   "execution_count": 113,
   "metadata": {},
   "outputs": [
    {
     "data": {
      "text/plain": [
       "Cafe                                      8\n",
       "Italian                                   7\n",
       "North Indian                              7\n",
       "Ice Cream                                 5\n",
       "Indian                                    5\n",
       "                                         ..\n",
       "Italian, Pizza, Sandwich                  1\n",
       "Indian, Street Food                       1\n",
       "Asian, Sushi, Seafood                     1\n",
       "Sushi, Teriyaki                           1\n",
       "Seafood, Continental, European, German    1\n",
       "Name: Cuisines, Length: 214, dtype: int64"
      ]
     },
     "execution_count": 113,
     "metadata": {},
     "output_type": "execute_result"
    }
   ],
   "source": [
    "cuisines_high_rating  = data.loc[data['Aggregate rating']>=4.5,'Cuisines'].value_counts()\n",
    "cuisines_high_rating"
   ]
  },
  {
   "cell_type": "code",
   "execution_count": 114,
   "metadata": {},
   "outputs": [
    {
     "ename": "KeyError",
     "evalue": "'cuisines_high_rating'",
     "output_type": "error",
     "traceback": [
      "\u001b[1;31m---------------------------------------------------------------------------\u001b[0m",
      "\u001b[1;31mKeyError\u001b[0m                                  Traceback (most recent call last)",
      "\u001b[1;32m<ipython-input-114-5e30a435448c>\u001b[0m in \u001b[0;36m<module>\u001b[1;34m\u001b[0m\n\u001b[1;32m----> 1\u001b[1;33m \u001b[0mdata\u001b[0m\u001b[1;33m.\u001b[0m\u001b[0mboxplot\u001b[0m\u001b[1;33m(\u001b[0m\u001b[0mcolumn\u001b[0m\u001b[1;33m=\u001b[0m\u001b[1;34m'Aggregate rating'\u001b[0m\u001b[1;33m,\u001b[0m\u001b[0mby\u001b[0m\u001b[1;33m=\u001b[0m\u001b[1;34m'cuisines_high_rating'\u001b[0m\u001b[1;33m,\u001b[0m\u001b[0mfigsize\u001b[0m\u001b[1;33m=\u001b[0m\u001b[1;33m(\u001b[0m\u001b[1;36m15\u001b[0m\u001b[1;33m,\u001b[0m\u001b[1;36m8\u001b[0m\u001b[1;33m)\u001b[0m\u001b[1;33m)\u001b[0m\u001b[1;33m\u001b[0m\u001b[1;33m\u001b[0m\u001b[0m\n\u001b[0m\u001b[0;32m      2\u001b[0m \u001b[0mplt\u001b[0m\u001b[1;33m.\u001b[0m\u001b[0mtitle\u001b[0m\u001b[1;33m(\u001b[0m\u001b[1;34m'Rating Vs Cuisines '\u001b[0m\u001b[1;33m)\u001b[0m\u001b[1;33m\u001b[0m\u001b[1;33m\u001b[0m\u001b[0m\n\u001b[0;32m      3\u001b[0m \u001b[0mplt\u001b[0m\u001b[1;33m.\u001b[0m\u001b[0mxticks\u001b[0m\u001b[1;33m(\u001b[0m\u001b[0mrotation\u001b[0m\u001b[1;33m=\u001b[0m\u001b[1;36m90\u001b[0m\u001b[1;33m)\u001b[0m\u001b[1;33m\u001b[0m\u001b[1;33m\u001b[0m\u001b[0m\n\u001b[0;32m      4\u001b[0m \u001b[0mplt\u001b[0m\u001b[1;33m.\u001b[0m\u001b[0mshow\u001b[0m\u001b[1;33m(\u001b[0m\u001b[1;33m)\u001b[0m\u001b[1;33m\u001b[0m\u001b[1;33m\u001b[0m\u001b[0m\n",
      "\u001b[1;32m~\\anaconda3\\lib\\site-packages\\pandas\\plotting\\_core.py\u001b[0m in \u001b[0;36mboxplot_frame\u001b[1;34m(self, column, by, ax, fontsize, rot, grid, figsize, layout, return_type, backend, **kwargs)\u001b[0m\n\u001b[0;32m    492\u001b[0m ):\n\u001b[0;32m    493\u001b[0m     \u001b[0mplot_backend\u001b[0m \u001b[1;33m=\u001b[0m \u001b[0m_get_plot_backend\u001b[0m\u001b[1;33m(\u001b[0m\u001b[0mbackend\u001b[0m\u001b[1;33m)\u001b[0m\u001b[1;33m\u001b[0m\u001b[1;33m\u001b[0m\u001b[0m\n\u001b[1;32m--> 494\u001b[1;33m     return plot_backend.boxplot_frame(\n\u001b[0m\u001b[0;32m    495\u001b[0m         \u001b[0mself\u001b[0m\u001b[1;33m,\u001b[0m\u001b[1;33m\u001b[0m\u001b[1;33m\u001b[0m\u001b[0m\n\u001b[0;32m    496\u001b[0m         \u001b[0mcolumn\u001b[0m\u001b[1;33m=\u001b[0m\u001b[0mcolumn\u001b[0m\u001b[1;33m,\u001b[0m\u001b[1;33m\u001b[0m\u001b[1;33m\u001b[0m\u001b[0m\n",
      "\u001b[1;32m~\\anaconda3\\lib\\site-packages\\pandas\\plotting\\_matplotlib\\boxplot.py\u001b[0m in \u001b[0;36mboxplot_frame\u001b[1;34m(self, column, by, ax, fontsize, rot, grid, figsize, layout, return_type, **kwds)\u001b[0m\n\u001b[0;32m    378\u001b[0m     \u001b[1;32mimport\u001b[0m \u001b[0mmatplotlib\u001b[0m\u001b[1;33m.\u001b[0m\u001b[0mpyplot\u001b[0m \u001b[1;32mas\u001b[0m \u001b[0mplt\u001b[0m\u001b[1;33m\u001b[0m\u001b[1;33m\u001b[0m\u001b[0m\n\u001b[0;32m    379\u001b[0m \u001b[1;33m\u001b[0m\u001b[0m\n\u001b[1;32m--> 380\u001b[1;33m     ax = boxplot(\n\u001b[0m\u001b[0;32m    381\u001b[0m         \u001b[0mself\u001b[0m\u001b[1;33m,\u001b[0m\u001b[1;33m\u001b[0m\u001b[1;33m\u001b[0m\u001b[0m\n\u001b[0;32m    382\u001b[0m         \u001b[0mcolumn\u001b[0m\u001b[1;33m=\u001b[0m\u001b[0mcolumn\u001b[0m\u001b[1;33m,\u001b[0m\u001b[1;33m\u001b[0m\u001b[1;33m\u001b[0m\u001b[0m\n",
      "\u001b[1;32m~\\anaconda3\\lib\\site-packages\\pandas\\plotting\\_matplotlib\\boxplot.py\u001b[0m in \u001b[0;36mboxplot\u001b[1;34m(data, column, by, ax, fontsize, rot, grid, figsize, layout, return_type, **kwds)\u001b[0m\n\u001b[0;32m    330\u001b[0m         \u001b[1;31m# Prefer array return type for 2-D plots to match the subplot layout\u001b[0m\u001b[1;33m\u001b[0m\u001b[1;33m\u001b[0m\u001b[1;33m\u001b[0m\u001b[0m\n\u001b[0;32m    331\u001b[0m         \u001b[1;31m# https://github.com/pandas-dev/pandas/pull/12216#issuecomment-241175580\u001b[0m\u001b[1;33m\u001b[0m\u001b[1;33m\u001b[0m\u001b[1;33m\u001b[0m\u001b[0m\n\u001b[1;32m--> 332\u001b[1;33m         result = _grouped_plot_by_column(\n\u001b[0m\u001b[0;32m    333\u001b[0m             \u001b[0mplot_group\u001b[0m\u001b[1;33m,\u001b[0m\u001b[1;33m\u001b[0m\u001b[1;33m\u001b[0m\u001b[0m\n\u001b[0;32m    334\u001b[0m             \u001b[0mdata\u001b[0m\u001b[1;33m,\u001b[0m\u001b[1;33m\u001b[0m\u001b[1;33m\u001b[0m\u001b[0m\n",
      "\u001b[1;32m~\\anaconda3\\lib\\site-packages\\pandas\\plotting\\_matplotlib\\boxplot.py\u001b[0m in \u001b[0;36m_grouped_plot_by_column\u001b[1;34m(plotf, data, columns, by, numeric_only, grid, figsize, ax, layout, return_type, **kwargs)\u001b[0m\n\u001b[0;32m    191\u001b[0m     \u001b[1;33m**\u001b[0m\u001b[0mkwargs\u001b[0m\u001b[1;33m,\u001b[0m\u001b[1;33m\u001b[0m\u001b[1;33m\u001b[0m\u001b[0m\n\u001b[0;32m    192\u001b[0m ):\n\u001b[1;32m--> 193\u001b[1;33m     \u001b[0mgrouped\u001b[0m \u001b[1;33m=\u001b[0m \u001b[0mdata\u001b[0m\u001b[1;33m.\u001b[0m\u001b[0mgroupby\u001b[0m\u001b[1;33m(\u001b[0m\u001b[0mby\u001b[0m\u001b[1;33m)\u001b[0m\u001b[1;33m\u001b[0m\u001b[1;33m\u001b[0m\u001b[0m\n\u001b[0m\u001b[0;32m    194\u001b[0m     \u001b[1;32mif\u001b[0m \u001b[0mcolumns\u001b[0m \u001b[1;32mis\u001b[0m \u001b[1;32mNone\u001b[0m\u001b[1;33m:\u001b[0m\u001b[1;33m\u001b[0m\u001b[1;33m\u001b[0m\u001b[0m\n\u001b[0;32m    195\u001b[0m         \u001b[1;32mif\u001b[0m \u001b[1;32mnot\u001b[0m \u001b[0misinstance\u001b[0m\u001b[1;33m(\u001b[0m\u001b[0mby\u001b[0m\u001b[1;33m,\u001b[0m \u001b[1;33m(\u001b[0m\u001b[0mlist\u001b[0m\u001b[1;33m,\u001b[0m \u001b[0mtuple\u001b[0m\u001b[1;33m)\u001b[0m\u001b[1;33m)\u001b[0m\u001b[1;33m:\u001b[0m\u001b[1;33m\u001b[0m\u001b[1;33m\u001b[0m\u001b[0m\n",
      "\u001b[1;32m~\\anaconda3\\lib\\site-packages\\pandas\\core\\frame.py\u001b[0m in \u001b[0;36mgroupby\u001b[1;34m(self, by, axis, level, as_index, sort, group_keys, squeeze, observed, dropna)\u001b[0m\n\u001b[0;32m   6509\u001b[0m         \u001b[0maxis\u001b[0m \u001b[1;33m=\u001b[0m \u001b[0mself\u001b[0m\u001b[1;33m.\u001b[0m\u001b[0m_get_axis_number\u001b[0m\u001b[1;33m(\u001b[0m\u001b[0maxis\u001b[0m\u001b[1;33m)\u001b[0m\u001b[1;33m\u001b[0m\u001b[1;33m\u001b[0m\u001b[0m\n\u001b[0;32m   6510\u001b[0m \u001b[1;33m\u001b[0m\u001b[0m\n\u001b[1;32m-> 6511\u001b[1;33m         return DataFrameGroupBy(\n\u001b[0m\u001b[0;32m   6512\u001b[0m             \u001b[0mobj\u001b[0m\u001b[1;33m=\u001b[0m\u001b[0mself\u001b[0m\u001b[1;33m,\u001b[0m\u001b[1;33m\u001b[0m\u001b[1;33m\u001b[0m\u001b[0m\n\u001b[0;32m   6513\u001b[0m             \u001b[0mkeys\u001b[0m\u001b[1;33m=\u001b[0m\u001b[0mby\u001b[0m\u001b[1;33m,\u001b[0m\u001b[1;33m\u001b[0m\u001b[1;33m\u001b[0m\u001b[0m\n",
      "\u001b[1;32m~\\anaconda3\\lib\\site-packages\\pandas\\core\\groupby\\groupby.py\u001b[0m in \u001b[0;36m__init__\u001b[1;34m(self, obj, keys, axis, level, grouper, exclusions, selection, as_index, sort, group_keys, squeeze, observed, mutated, dropna)\u001b[0m\n\u001b[0;32m    523\u001b[0m             \u001b[1;32mfrom\u001b[0m \u001b[0mpandas\u001b[0m\u001b[1;33m.\u001b[0m\u001b[0mcore\u001b[0m\u001b[1;33m.\u001b[0m\u001b[0mgroupby\u001b[0m\u001b[1;33m.\u001b[0m\u001b[0mgrouper\u001b[0m \u001b[1;32mimport\u001b[0m \u001b[0mget_grouper\u001b[0m\u001b[1;33m\u001b[0m\u001b[1;33m\u001b[0m\u001b[0m\n\u001b[0;32m    524\u001b[0m \u001b[1;33m\u001b[0m\u001b[0m\n\u001b[1;32m--> 525\u001b[1;33m             grouper, exclusions, obj = get_grouper(\n\u001b[0m\u001b[0;32m    526\u001b[0m                 \u001b[0mobj\u001b[0m\u001b[1;33m,\u001b[0m\u001b[1;33m\u001b[0m\u001b[1;33m\u001b[0m\u001b[0m\n\u001b[0;32m    527\u001b[0m                 \u001b[0mkeys\u001b[0m\u001b[1;33m,\u001b[0m\u001b[1;33m\u001b[0m\u001b[1;33m\u001b[0m\u001b[0m\n",
      "\u001b[1;32m~\\anaconda3\\lib\\site-packages\\pandas\\core\\groupby\\grouper.py\u001b[0m in \u001b[0;36mget_grouper\u001b[1;34m(obj, key, axis, level, sort, observed, mutated, validate, dropna)\u001b[0m\n\u001b[0;32m    779\u001b[0m                 \u001b[0min_axis\u001b[0m\u001b[1;33m,\u001b[0m \u001b[0mname\u001b[0m\u001b[1;33m,\u001b[0m \u001b[0mlevel\u001b[0m\u001b[1;33m,\u001b[0m \u001b[0mgpr\u001b[0m \u001b[1;33m=\u001b[0m \u001b[1;32mFalse\u001b[0m\u001b[1;33m,\u001b[0m \u001b[1;32mNone\u001b[0m\u001b[1;33m,\u001b[0m \u001b[0mgpr\u001b[0m\u001b[1;33m,\u001b[0m \u001b[1;32mNone\u001b[0m\u001b[1;33m\u001b[0m\u001b[1;33m\u001b[0m\u001b[0m\n\u001b[0;32m    780\u001b[0m             \u001b[1;32melse\u001b[0m\u001b[1;33m:\u001b[0m\u001b[1;33m\u001b[0m\u001b[1;33m\u001b[0m\u001b[0m\n\u001b[1;32m--> 781\u001b[1;33m                 \u001b[1;32mraise\u001b[0m \u001b[0mKeyError\u001b[0m\u001b[1;33m(\u001b[0m\u001b[0mgpr\u001b[0m\u001b[1;33m)\u001b[0m\u001b[1;33m\u001b[0m\u001b[1;33m\u001b[0m\u001b[0m\n\u001b[0m\u001b[0;32m    782\u001b[0m         \u001b[1;32melif\u001b[0m \u001b[0misinstance\u001b[0m\u001b[1;33m(\u001b[0m\u001b[0mgpr\u001b[0m\u001b[1;33m,\u001b[0m \u001b[0mGrouper\u001b[0m\u001b[1;33m)\u001b[0m \u001b[1;32mand\u001b[0m \u001b[0mgpr\u001b[0m\u001b[1;33m.\u001b[0m\u001b[0mkey\u001b[0m \u001b[1;32mis\u001b[0m \u001b[1;32mnot\u001b[0m \u001b[1;32mNone\u001b[0m\u001b[1;33m:\u001b[0m\u001b[1;33m\u001b[0m\u001b[1;33m\u001b[0m\u001b[0m\n\u001b[0;32m    783\u001b[0m             \u001b[1;31m# Add key to exclusions\u001b[0m\u001b[1;33m\u001b[0m\u001b[1;33m\u001b[0m\u001b[1;33m\u001b[0m\u001b[0m\n",
      "\u001b[1;31mKeyError\u001b[0m: 'cuisines_high_rating'"
     ]
    }
   ],
   "source": [
    "data.boxplot(column='Aggregate rating',by='cuisines_high_rating',figsize=(15,8))\n",
    "plt.title('Rating Vs Cuisines ')\n",
    "plt.xticks(rotation=90)\n",
    "plt.show()"
   ]
  },
  {
   "cell_type": "code",
   "execution_count": null,
   "metadata": {},
   "outputs": [],
   "source": [
    "# ANOVA Test are helpful to find the correlation between continuous and categorical variables..\n",
    "Cuisines_range = data.groupby('Cuisines')['Aggregate rating'].apply(list)\n",
    "Anova_Results = f_oneway(*Cuisines_range)\n",
    "Anova_Results\n",
    "if (Anova_Results[1]  < 0.05):\n",
    "    print('Cuisines', 'is correlated with', 'Aggregate Rating', '| P-Value:', Anova_Results[1])            \n",
    "else:\n",
    "    print('Cuisines', 'is NOT correlated with', 'Aggregate Rating', '| P-Value:', Anova_Results[1])\n"
   ]
  },
  {
   "cell_type": "code",
   "execution_count": null,
   "metadata": {},
   "outputs": [],
   "source": [
    "# To further Analyze the data, and to find out the Accuracy of the model, we do Regression analysis \n",
    "# for that, we can drop some of the columnns in the data that dont have any significance in our analysis\n",
    "\n",
    "data.columns"
   ]
  },
  {
   "cell_type": "code",
   "execution_count": null,
   "metadata": {},
   "outputs": [],
   "source": [
    "selected_data = data[['Has Table booking','Has Online delivery','Average Cost for two','Price range','Votes']]\n",
    "selected_data.head()"
   ]
  },
  {
   "cell_type": "code",
   "execution_count": null,
   "metadata": {},
   "outputs": [],
   "source": [
    "# For the Machine Learning of data, We are going to replace Categorical varaibles with numeric..\n",
    "# We have two columns that are in Categorical varaibles , so we can convert them into 1 or 0\n",
    "\n",
    "selected_data['Has Table booking'].replace({'Yes':1,'No':0},inplace=True)\n",
    "selected_data['Has Online delivery'].replace({'Yes':1,'No':0},inplace=True)\n",
    "selected_data.head()"
   ]
  },
  {
   "cell_type": "code",
   "execution_count": null,
   "metadata": {
    "scrolled": true
   },
   "outputs": [],
   "source": [
    "# getting Dummie variables\n",
    "selected_data = pandas.get_dummies(selected_data)\n",
    "\n",
    "# Including Target variable in selected_data for Analysis\n",
    "selected_data['Rating'] = data['Aggregate rating']\n",
    "\n",
    "\n",
    "\n",
    "# selected_data\n",
    "selected_data.head()\n",
    "selected_data.shape"
   ]
  },
  {
   "cell_type": "code",
   "execution_count": null,
   "metadata": {},
   "outputs": [],
   "source": [
    "selected_data = selected_data[selected_data['Rating']>0.0]\n",
    "selected_data.shape"
   ]
  },
  {
   "cell_type": "code",
   "execution_count": null,
   "metadata": {},
   "outputs": [],
   "source": [
    "selected_data['Rating'].hist()"
   ]
  },
  {
   "cell_type": "code",
   "execution_count": null,
   "metadata": {},
   "outputs": [],
   "source": [
    "selected_data.columns"
   ]
  },
  {
   "cell_type": "code",
   "execution_count": null,
   "metadata": {},
   "outputs": [],
   "source": [
    "# In our selected data Rating is the target variable and all the other variables are predictor variables\n",
    "\n",
    "Target_variable = 'Rating'\n",
    "Predictor_variable = ['Has Table booking', 'Has Online delivery', 'Average Cost for two','Price range', 'Votes']\n",
    "\n",
    "x= selected_data[Predictor_variable].values\n",
    "y= selected_data[Target_variable].values\n",
    "\n",
    "x\n",
    "\n",
    "\n"
   ]
  },
  {
   "cell_type": "code",
   "execution_count": null,
   "metadata": {
    "scrolled": true
   },
   "outputs": [],
   "source": [
    "y"
   ]
  },
  {
   "cell_type": "code",
   "execution_count": null,
   "metadata": {},
   "outputs": [],
   "source": [
    "# Splitting the selected data into train and test data..\n",
    "\n",
    "from sklearn.model_selection import train_test_split\n",
    "x_train,x_test,y_train,y_test = train_test_split(x,y,test_size=0.3)\n",
    "\n",
    "# when we are analyzing a data and building a model, Normalization/Standardization of data is important to get a better results \n",
    "\n",
    "from sklearn import preprocessing\n",
    "from sklearn.preprocessing import MinMaxScaler, StandardScaler\n",
    "min_max_scaler = preprocessing.MinMaxScaler()\n",
    "x_scaled = min_max_scaler.fit_transform(x)\n",
    "\n",
    "from sklearn.model_selection import train_test_split\n",
    "x_train,x_test,y_train,y_test = train_test_split(x,y,test_size=0.3)\n",
    "\n",
    "print('x_train shape is', x_train.shape)\n",
    "print('x_test shape is',x_test.shape)\n",
    "print('y_train shape is',y_train.shape)\n",
    "print('y_test shape is',y_test.shape)\n"
   ]
  },
  {
   "cell_type": "code",
   "execution_count": null,
   "metadata": {},
   "outputs": [],
   "source": [
    "# Multiple Linear Regression\n",
    "\n",
    "from sklearn.linear_model import LinearRegression\n",
    "from sklearn import metrics\n",
    "Model = LinearRegression()\n",
    "print(Model)\n",
    "\n",
    "# Applying Model on training Data\n",
    "linear_regression = Model.fit(x_train,y_train)\n",
    "prediction = linear_regression.predict(x_test)\n",
    "\n",
    "# R2  value according to our model..\n",
    "R2_value = metrics.r2_score(y_train,linear_regression.predict(x_train))\n",
    "R2_value\n",
    " \n",
    "\n"
   ]
  },
  {
   "cell_type": "code",
   "execution_count": null,
   "metadata": {},
   "outputs": [],
   "source": [
    "# Printing some sample values of prediction\n",
    "\n",
    "TestingDataResults=pandas.DataFrame(data=x_test, columns=Predictor_variable)\n",
    "\n",
    "TestingDataResults[Target_variable]=y_test\n",
    "TestingDataResults[('Predicted'+Target_variable)]=np.round(prediction)\n",
    "\n",
    "# Printing sample prediction values\n",
    "print(TestingDataResults[[Target_variable,'Predicted'+Target_variable]].head())\n",
    "\n",
    "# Calculating the error for each row\n",
    "TestingDataResults['APE']=100 * ((abs(TestingDataResults['Rating']-TestingDataResults['PredictedRating']))/TestingDataResults['Rating'])\n",
    "TestingDataResults['APE']\n",
    "\n"
   ]
  },
  {
   "cell_type": "code",
   "execution_count": null,
   "metadata": {},
   "outputs": [],
   "source": [
    "MAPE=np.mean(TestingDataResults['APE'])\n",
    "MedianMAPE=np.median(TestingDataResults['APE'])\n",
    "\n",
    "Accuracy =100 - MAPE\n",
    "MedianAccuracy=100- MedianMAPE\n",
    "print('Mean Accuracy on test data:', Accuracy) # Can be negative sometimes due to outlier\n",
    "print('Median Accuracy on test data:', MedianAccuracy)\n",
    "\n",
    "\n",
    "# Defining a custom function to calculate accuracy\n",
    "# Make sure there are no zeros in the Target variable if you are using MAPE\n",
    "def Accuracy_Score(orig,pred):\n",
    "    MAPE = np.mean(100 * (np.abs(orig-pred)/orig))\n",
    "    #print('#'*70,'Accuracy:', 100-MAPE)\n",
    "    return(100-MAPE)\n",
    "\n",
    "# Custom Scoring MAPE calculation\n",
    "from sklearn.metrics import make_scorer\n",
    "custom_Scoring=make_scorer(Accuracy_Score, greater_is_better=True)\n",
    "\n",
    "# Importing cross validation function from sklearn\n",
    "from sklearn.model_selection import cross_val_score\n",
    "\n",
    "# Running 10-Fold Cross validation on a given algorithm\n",
    "# Passing full data X and y because the K-fold will split the data and automatically choose train/test\n",
    "Accuracy_Values=cross_val_score(Model, x , y, cv=10, scoring=custom_Scoring)\n",
    "print('\\nAccuracy values for 10-fold Cross Validation:\\n',Accuracy_Values)\n",
    "print('\\nFinal Average Accuracy of the model:', round(Accuracy_Values.mean(),2))"
   ]
  },
  {
   "cell_type": "code",
   "execution_count": null,
   "metadata": {},
   "outputs": [],
   "source": [
    "# The Accuracy of the model is 79% according to the Multiple Linear Regression..\n"
   ]
  },
  {
   "cell_type": "code",
   "execution_count": null,
   "metadata": {},
   "outputs": [],
   "source": [
    "# We can use different types of models and find the accuracy of predicting the final results( target_variable) based on all other variables..\n",
    "# \n",
    "# In genereal , we are going to try different models and come to conclusion about which model is best based on th eaccuracy.."
   ]
  },
  {
   "cell_type": "code",
   "execution_count": null,
   "metadata": {},
   "outputs": [],
   "source": [
    "# One of the model is a Decision Tree Algorithm.. A decision tree model can be used for either continuous or discrete values..\n",
    "# It can perform both Regression and classification techniques..\n",
    "# The decision tree algorithm uses attributes as nodes.\n",
    "# the most important node is Root node.\n",
    "# Decision Trees \n",
    "from sklearn.tree import DecisionTreeRegressor\n",
    "Model = DecisionTreeRegressor(max_depth=6,criterion='mse')\n",
    "print(Model)\n"
   ]
  },
  {
   "cell_type": "code",
   "execution_count": null,
   "metadata": {},
   "outputs": [],
   "source": [
    "# Creating the model\n",
    "# we create the model on Training data\n",
    "\n",
    "Data_Training=Model.fit(x_train,y_train)\n",
    "prediction=Data_Training.predict(x_test)\n",
    "\n",
    "from sklearn import metrics\n",
    "# Measuring R2 Value\n",
    "print('R2 Value:',metrics.r2_score(y_train, Data_Training.predict(x_train)))\n"
   ]
  },
  {
   "cell_type": "code",
   "execution_count": null,
   "metadata": {},
   "outputs": [],
   "source": [
    "feature_importances = pandas.Series(Data_Training.feature_importances_, index=Predictor_variable)\n",
    "feature_importances.nlargest(10).plot(kind='barh')"
   ]
  },
  {
   "cell_type": "code",
   "execution_count": null,
   "metadata": {},
   "outputs": [],
   "source": [
    "TestingDataResults=pandas.DataFrame(data=x_test, columns=Predictor_variable)\n",
    "\n",
    "TestingDataResults[Target_variable]=y_test\n",
    "TestingDataResults[('Predicted'+Target_variable)]=np.round(prediction)\n",
    "\n",
    "# Printing sample prediction values\n",
    "print(TestingDataResults[[Target_variable,'Predicted'+Target_variable]].head())\n",
    "\n",
    "# Calculating the error for each row\n",
    "TestingDataResults['APE']=100 * ((abs(TestingDataResults['Rating']-TestingDataResults['PredictedRating']))/TestingDataResults['Rating'])\n",
    "TestingDataResults['APE']"
   ]
  },
  {
   "cell_type": "code",
   "execution_count": null,
   "metadata": {},
   "outputs": [],
   "source": [
    "MAPE=np.mean(TestingDataResults['APE'])\n",
    "MedianMAPE=np.median(TestingDataResults['APE'])\n",
    "\n",
    "Accuracy =100 - MAPE\n",
    "MedianAccuracy=100- MedianMAPE\n",
    "print('Mean Accuracy on test data:', Accuracy) # Can be negative sometimes due to outlier\n",
    "print('Median Accuracy on test data:', MedianAccuracy)\n",
    "\n",
    "\n",
    "# Defining a custom function to calculate accuracy\n",
    "# Make sure there are no zeros in the Target variable if you are using MAPE\n",
    "def Accuracy_Score(orig,pred):\n",
    "    MAPE = np.mean(100 * (np.abs(orig-pred)/orig))\n",
    "    #print('#'*70,'Accuracy:', 100-MAPE)\n",
    "    return(100-MAPE)\n",
    "\n",
    "# Custom Scoring MAPE calculation\n",
    "from sklearn.metrics import make_scorer\n",
    "custom_Scoring=make_scorer(Accuracy_Score, greater_is_better=True)\n",
    "\n",
    "# Importing cross validation function from sklearn\n",
    "from sklearn.model_selection import cross_val_score\n",
    "\n",
    "# Running 10-Fold Cross validation on a given algorithm\n",
    "# Passing full data X and y because the K-fold will split the data and automatically choose train/test\n",
    "Accuracy_Values=cross_val_score(Model, x , y, cv=10, scoring=custom_Scoring)\n",
    "print('\\nAccuracy values for 10-fold Cross Validation:\\n',Accuracy_Values)\n",
    "print('\\nFinal Average Accuracy of the model:', round(Accuracy_Values.mean(),2))"
   ]
  },
  {
   "cell_type": "code",
   "execution_count": null,
   "metadata": {},
   "outputs": [],
   "source": [
    "# the accuracy is 90, so We can say that Decision tree model fits better for our data.."
   ]
  }
 ],
 "metadata": {
  "kernelspec": {
   "display_name": "Python 3",
   "language": "python",
   "name": "python3"
  },
  "language_info": {
   "codemirror_mode": {
    "name": "ipython",
    "version": 3
   },
   "file_extension": ".py",
   "mimetype": "text/x-python",
   "name": "python",
   "nbconvert_exporter": "python",
   "pygments_lexer": "ipython3",
   "version": "3.8.5"
  }
 },
 "nbformat": 4,
 "nbformat_minor": 4
}
